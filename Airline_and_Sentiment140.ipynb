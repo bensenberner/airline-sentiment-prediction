{
  "nbformat": 4,
  "nbformat_minor": 0,
  "metadata": {
    "colab": {
      "name": "Airline-and-Sentiment140.ipynb",
      "provenance": [],
      "collapsed_sections": [],
      "mount_file_id": "1aUR5SMfSXNUaJgnhSpLhiMquWTjeir8K",
      "authorship_tag": "ABX9TyPMGab4zdK/PLLu6dl6+s6u",
      "include_colab_link": true
    },
    "kernelspec": {
      "name": "python3",
      "display_name": "Python 3"
    }
  },
  "cells": [
    {
      "cell_type": "markdown",
      "metadata": {
        "id": "view-in-github",
        "colab_type": "text"
      },
      "source": [
        "<a href=\"https://colab.research.google.com/github/bensenberner/airline-sentiment-prediction/blob/master/Airline_and_Sentiment140.ipynb\" target=\"_parent\"><img src=\"https://colab.research.google.com/assets/colab-badge.svg\" alt=\"Open In Colab\"/></a>"
      ]
    },
    {
      "cell_type": "code",
      "metadata": {
        "id": "DDrkXVjXrgoF",
        "colab_type": "code",
        "colab": {}
      },
      "source": [
        "from fastai.text import *\n",
        "from sklearn.model_selection import train_test_split\n",
        "from sklearn.metrics import confusion_matrix, accuracy_score, classification_report\n",
        "import pandas as pd\n",
        "data_path = 'drive/My Drive/airline-sentiment'\n",
        "bs=24\n",
        "\n",
        "seed=42\n",
        "import numpy\n",
        "numpy.random.seed(seed)\n",
        "import os\n",
        "os.environ['PYTHONHASHSEED']=str(seed)\n",
        "import random\n",
        "random.seed(seed)"
      ],
      "execution_count": null,
      "outputs": []
    },
    {
      "cell_type": "markdown",
      "metadata": {
        "id": "OZKb3a60rsPt",
        "colab_type": "text"
      },
      "source": [
        "# Airline+Sentiment140 Language Model\n",
        "See EDA notebook in [notebooks/Data.ipynb](https://github.com/bensenberner/airline-sentiment-prediction) to learn how I created the airline+sentiment140 dataset. It's twice as large as the airline dataset but has the same distribution of labels as the airline dataset."
      ]
    },
    {
      "cell_type": "code",
      "metadata": {
        "id": "jsM1cU3_rlvV",
        "colab_type": "code",
        "colab": {
          "base_uri": "https://localhost:8080/",
          "height": 17
        },
        "outputId": "7f786e6d-a310-4108-93e0-23a697d065c8"
      },
      "source": [
        "lm_data = (\n",
        "    TextList\n",
        "    .from_csv(data_path, 'sent140_and_airline_balanced_text_only.csv')\n",
        "    .split_by_rand_pct(0.1, seed=seed)\n",
        "    .label_for_lm()\n",
        "    .databunch(bs=bs)\n",
        ")\n",
        "lm_data.save('sent140_lm_data')"
      ],
      "execution_count": null,
      "outputs": [
        {
          "output_type": "display_data",
          "data": {
            "text/html": [
              ""
            ],
            "text/plain": [
              "<IPython.core.display.HTML object>"
            ]
          },
          "metadata": {
            "tags": []
          }
        },
        {
          "output_type": "display_data",
          "data": {
            "text/html": [
              ""
            ],
            "text/plain": [
              "<IPython.core.display.HTML object>"
            ]
          },
          "metadata": {
            "tags": []
          }
        }
      ]
    },
    {
      "cell_type": "code",
      "metadata": {
        "id": "HjjDB0y-r0P-",
        "colab_type": "code",
        "colab": {
          "base_uri": "https://localhost:8080/",
          "height": 374
        },
        "outputId": "3b568418-f565-4da3-fc2b-5ac058d2ba4c"
      },
      "source": [
        "lm_data.show_batch()"
      ],
      "execution_count": null,
      "outputs": [
        {
          "output_type": "display_data",
          "data": {
            "text/html": [
              "<table border=\"1\" class=\"dataframe\">\n",
              "  <thead>\n",
              "    <tr style=\"text-align: right;\">\n",
              "      <th>idx</th>\n",
              "      <th>text</th>\n",
              "    </tr>\n",
              "  </thead>\n",
              "  <tbody>\n",
              "    <tr>\n",
              "      <td>0</td>\n",
              "      <td>after i sent it to you . xxmaj made it to xxmaj austin , but am now waiting for the luggage . xxbos xxunk xxmaj xxunk ! xxmaj hope you like the intro ' on xxup dd xxmaj ca n't wait to get you out xxunk for us . xxmaj whoop whoop ! xxbos xxmaj sad babies make for xxunk writing xxbos xxmaj ugh . xxmaj my picture has xxunk</td>\n",
              "    </tr>\n",
              "    <tr>\n",
              "      <td>1</td>\n",
              "      <td>u cud answer my ? here ! 140 is plenty . xxmaj inflight stealing going on right now &amp; &amp; xxup fa wo n't have the uncomfortable xxunk w pass . xxbos @usairways now u horrible people say you have no where for her to sleep ? xxbos @southwestair xxunk and i became best friends xxmaj bcuz of @imaginedragons is there any other way ? xxbos hungover house cleaning ?</td>\n",
              "    </tr>\n",
              "    <tr>\n",
              "      <td>2</td>\n",
              "      <td>200 for difference in price . xxmaj please help xxbos i may to go to bed soon . xxmaj my stress level just hit a high note ! i think i saw a xxunk in my beautiful &amp; &amp; xxunk clean apartment ! xxmaj how ? xxmaj why ? xxbos xxmaj today 's symptoms ... xxunk , headache , sore throat , xxunk &amp; &amp; xxunk xxmaj not just hayfever</td>\n",
              "    </tr>\n",
              "    <tr>\n",
              "      <td>3</td>\n",
              "      <td>\" xxmaj voice a concern \" via \" xxmaj email us \" on your site . i did a few moments ago xxbos waiting to go to work 2 hrs to go ... xxbos @usairways i hope flight xxunk is not being delayed because flight attendant did n't come to work ! # xxunk xxbos @americanair i 'd like to explore both options , and what the cost might be</td>\n",
              "    </tr>\n",
              "    <tr>\n",
              "      <td>4</td>\n",
              "      <td>sincerely \" . xxmaj your actions do not reflect what you 're saying in a poor attempt to redeem yourselves on social media . xxbos listening to xxunk big xxunk xxunk ... but no concert for me ... no cash xxbos @southwestair i ❤ ️ you ! xxmaj the only airline that understands us military families and our xxunk changes . xxmaj pound it xxunk xxbos @usairways i have a</td>\n",
              "    </tr>\n",
              "  </tbody>\n",
              "</table>"
            ],
            "text/plain": [
              "<IPython.core.display.HTML object>"
            ]
          },
          "metadata": {
            "tags": []
          }
        }
      ]
    },
    {
      "cell_type": "code",
      "metadata": {
        "id": "lwGnqkRCr6bg",
        "colab_type": "code",
        "colab": {
          "base_uri": "https://localhost:8080/",
          "height": 34
        },
        "outputId": "1a72f5e0-2717-43f7-fb6b-a054ec252712"
      },
      "source": [
        "lm = language_model_learner(lm_data, AWD_LSTM, drop_mult=0.3)"
      ],
      "execution_count": null,
      "outputs": [
        {
          "output_type": "stream",
          "text": [
            "Downloading https://s3.amazonaws.com/fast-ai-modelzoo/wt103-fwd.tgz\n"
          ],
          "name": "stdout"
        },
        {
          "output_type": "display_data",
          "data": {
            "text/html": [
              ""
            ],
            "text/plain": [
              "<IPython.core.display.HTML object>"
            ]
          },
          "metadata": {
            "tags": []
          }
        }
      ]
    },
    {
      "cell_type": "code",
      "metadata": {
        "id": "z-sDPxtTr87_",
        "colab_type": "code",
        "colab": {
          "base_uri": "https://localhost:8080/",
          "height": 374
        },
        "outputId": "16950be1-78f8-4c55-bd8b-d59d40cf933e"
      },
      "source": [
        "lm.lr_find()\n",
        "lm.recorder.plot()"
      ],
      "execution_count": null,
      "outputs": [
        {
          "output_type": "display_data",
          "data": {
            "text/html": [
              "\n",
              "    <div>\n",
              "        <style>\n",
              "            /* Turns off some styling */\n",
              "            progress {\n",
              "                /* gets rid of default border in Firefox and Opera. */\n",
              "                border: none;\n",
              "                /* Needs to be in here for Safari polyfill so background images work as expected. */\n",
              "                background-size: auto;\n",
              "            }\n",
              "            .progress-bar-interrupted, .progress-bar-interrupted::-webkit-progress-bar {\n",
              "                background: #F44336;\n",
              "            }\n",
              "        </style>\n",
              "      <progress value='0' class='' max='1' style='width:300px; height:20px; vertical-align: middle;'></progress>\n",
              "      0.00% [0/1 00:00<00:00]\n",
              "    </div>\n",
              "    \n",
              "<table border=\"1\" class=\"dataframe\">\n",
              "  <thead>\n",
              "    <tr style=\"text-align: left;\">\n",
              "      <th>epoch</th>\n",
              "      <th>train_loss</th>\n",
              "      <th>valid_loss</th>\n",
              "      <th>accuracy</th>\n",
              "      <th>time</th>\n",
              "    </tr>\n",
              "  </thead>\n",
              "  <tbody>\n",
              "  </tbody>\n",
              "</table><p>\n",
              "\n",
              "    <div>\n",
              "        <style>\n",
              "            /* Turns off some styling */\n",
              "            progress {\n",
              "                /* gets rid of default border in Firefox and Opera. */\n",
              "                border: none;\n",
              "                /* Needs to be in here for Safari polyfill so background images work as expected. */\n",
              "                background-size: auto;\n",
              "            }\n",
              "            .progress-bar-interrupted, .progress-bar-interrupted::-webkit-progress-bar {\n",
              "                background: #F44336;\n",
              "            }\n",
              "        </style>\n",
              "      <progress value='97' class='' max='309' style='width:300px; height:20px; vertical-align: middle;'></progress>\n",
              "      31.39% [97/309 00:06<00:13 8.7243]\n",
              "    </div>\n",
              "    "
            ],
            "text/plain": [
              "<IPython.core.display.HTML object>"
            ]
          },
          "metadata": {
            "tags": []
          }
        },
        {
          "output_type": "stream",
          "text": [
            "LR Finder is complete, type {learner_name}.recorder.plot() to see the graph.\n"
          ],
          "name": "stdout"
        },
        {
          "output_type": "display_data",
          "data": {
            "image/png": "[encoded data removed]",
            "text/plain": [
              "<Figure size 432x288 with 1 Axes>"
            ]
          },
          "metadata": {
            "tags": [],
            "needs_background": "light"
          }
        }
      ]
    },
    {
      "cell_type": "code",
      "metadata": {
        "id": "Oo_NDLvyr9nZ",
        "colab_type": "code",
        "colab": {}
      },
      "source": [
        "init_lr = 2e-02"
      ],
      "execution_count": null,
      "outputs": []
    },
    {
      "cell_type": "code",
      "metadata": {
        "id": "0g2r7TmBr_tZ",
        "colab_type": "code",
        "colab": {
          "base_uri": "https://localhost:8080/",
          "height": 80
        },
        "outputId": "85be94ef-860d-4cbc-f1f7-84f46a97be0f"
      },
      "source": [
        "lm.fit_one_cycle(1, init_lr, moms=(0.8, 0.7))\n",
        "lm.save('1_airline_sent140_lm')"
      ],
      "execution_count": null,
      "outputs": [
        {
          "output_type": "display_data",
          "data": {
            "text/html": [
              "<table border=\"1\" class=\"dataframe\">\n",
              "  <thead>\n",
              "    <tr style=\"text-align: left;\">\n",
              "      <th>epoch</th>\n",
              "      <th>train_loss</th>\n",
              "      <th>valid_loss</th>\n",
              "      <th>accuracy</th>\n",
              "      <th>time</th>\n",
              "    </tr>\n",
              "  </thead>\n",
              "  <tbody>\n",
              "    <tr>\n",
              "      <td>0</td>\n",
              "      <td>4.185140</td>\n",
              "      <td>3.984999</td>\n",
              "      <td>0.254218</td>\n",
              "      <td>00:20</td>\n",
              "    </tr>\n",
              "  </tbody>\n",
              "</table>"
            ],
            "text/plain": [
              "<IPython.core.display.HTML object>"
            ]
          },
          "metadata": {
            "tags": []
          }
        }
      ]
    },
    {
      "cell_type": "code",
      "metadata": {
        "id": "5pi1VbnWsFNw",
        "colab_type": "code",
        "colab": {
          "base_uri": "https://localhost:8080/",
          "height": 297
        },
        "outputId": "7262a6ba-18eb-47ce-98f1-c3af3d2fa8c5"
      },
      "source": [
        "lm.unfreeze()\n",
        "lm.fit_one_cycle(8, init_lr * 0.1, moms=(0.8, 0.7))\n",
        "lm.save('2_airline_sent140_lm')\n",
        "lm.save_encoder('2_airline_sent140_lm')"
      ],
      "execution_count": null,
      "outputs": [
        {
          "output_type": "display_data",
          "data": {
            "text/html": [
              "<table border=\"1\" class=\"dataframe\">\n",
              "  <thead>\n",
              "    <tr style=\"text-align: left;\">\n",
              "      <th>epoch</th>\n",
              "      <th>train_loss</th>\n",
              "      <th>valid_loss</th>\n",
              "      <th>accuracy</th>\n",
              "      <th>time</th>\n",
              "    </tr>\n",
              "  </thead>\n",
              "  <tbody>\n",
              "    <tr>\n",
              "      <td>0</td>\n",
              "      <td>3.714535</td>\n",
              "      <td>3.822793</td>\n",
              "      <td>0.275204</td>\n",
              "      <td>00:24</td>\n",
              "    </tr>\n",
              "    <tr>\n",
              "      <td>1</td>\n",
              "      <td>3.589730</td>\n",
              "      <td>3.720552</td>\n",
              "      <td>0.288673</td>\n",
              "      <td>00:24</td>\n",
              "    </tr>\n",
              "    <tr>\n",
              "      <td>2</td>\n",
              "      <td>3.323488</td>\n",
              "      <td>3.646763</td>\n",
              "      <td>0.303708</td>\n",
              "      <td>00:24</td>\n",
              "    </tr>\n",
              "    <tr>\n",
              "      <td>3</td>\n",
              "      <td>2.896444</td>\n",
              "      <td>3.622296</td>\n",
              "      <td>0.318776</td>\n",
              "      <td>00:24</td>\n",
              "    </tr>\n",
              "    <tr>\n",
              "      <td>4</td>\n",
              "      <td>2.429143</td>\n",
              "      <td>3.687033</td>\n",
              "      <td>0.332942</td>\n",
              "      <td>00:24</td>\n",
              "    </tr>\n",
              "    <tr>\n",
              "      <td>5</td>\n",
              "      <td>1.982242</td>\n",
              "      <td>3.803715</td>\n",
              "      <td>0.339167</td>\n",
              "      <td>00:24</td>\n",
              "    </tr>\n",
              "    <tr>\n",
              "      <td>6</td>\n",
              "      <td>1.660840</td>\n",
              "      <td>3.900834</td>\n",
              "      <td>0.341327</td>\n",
              "      <td>00:24</td>\n",
              "    </tr>\n",
              "    <tr>\n",
              "      <td>7</td>\n",
              "      <td>1.479543</td>\n",
              "      <td>3.955531</td>\n",
              "      <td>0.340340</td>\n",
              "      <td>00:24</td>\n",
              "    </tr>\n",
              "  </tbody>\n",
              "</table>"
            ],
            "text/plain": [
              "<IPython.core.display.HTML object>"
            ]
          },
          "metadata": {
            "tags": []
          }
        }
      ]
    },
    {
      "cell_type": "markdown",
      "metadata": {
        "id": "D_2yBVYkvtP6",
        "colab_type": "text"
      },
      "source": [
        "Higher validation loss AND higher validation accuracy. And that's with a higher cardinality of tokens than before (which seems more impressive). Let's look at how well it does at creating complaint tweets."
      ]
    },
    {
      "cell_type": "code",
      "metadata": {
        "id": "orzyUJ9csKJh",
        "colab_type": "code",
        "colab": {
          "base_uri": "https://localhost:8080/",
          "height": 122
        },
        "outputId": "43eb24da-fe28-44a3-be0e-078fdcb3298e"
      },
      "source": [
        "text = \"My flight was cancelled due\"\n",
        "n_words = 40\n",
        "n_sentences = 5\n",
        "print(\"\\n\".join(lm.predict(text, n_words, temperature=0.8) for _ in range(n_sentences)))"
      ],
      "execution_count": null,
      "outputs": [
        {
          "output_type": "stream",
          "text": [
            "My flight was cancelled due to maintenance . i 'm coming back to work thanks for the help xxbos @usairways why are there no agents at ORD ? i 'm taking a high note this afternoon with no updates ! xxbos Work for\n",
            "My flight was cancelled due to maintenance . We are now rebooked on to CARING . You wo n't let us wait until next TUES . xxbos @southwestair Customer Service is very disappointing . xxbos @usairways your app was\n",
            "My flight was cancelled due to mechanical issues . What does the status do to see the point of i being on hold for the other night ? xxbos Watching # Career In Pain , then . Now\n",
            "My flight was cancelled due to maintenance . i 'm on the way home , now home alone for more than 2 hours xxbos Also , a Twitter 800 number is n't enough . Your site is down all it says ,\n",
            "My flight was cancelled due to maintenance . i 'm to change a new flight and have to go back tomorrow . Do n't want to be here tonight . xxbos @southwestair So what do we do now ? The Cancelled\n"
          ],
          "name": "stdout"
        }
      ]
    },
    {
      "cell_type": "markdown",
      "metadata": {
        "id": "z9xntgTDwO9D",
        "colab_type": "text"
      },
      "source": [
        "Still looks like good complaints to me. \"Don't want to be here tonight.\" Solid"
      ]
    },
    {
      "cell_type": "markdown",
      "metadata": {
        "id": "miyN8TYcsKvE",
        "colab_type": "text"
      },
      "source": [
        "# Airline+Sentiment140 encoder with Airline-only Classifier\n",
        "\n",
        "I imagine that the negative airline sentiments are specifically focused on frustration and anger, whereas the sentiment-140 dataset probably includes a wider swath of negative emotions - depression, disappointment, woe, etc. **This means that the 'negative' label in the sentiment-140 dataset probably represents something different than the 'negative' label in the airline dataset.**\n",
        "\n",
        "Therefore, I will only use the airline data to train the derivative classifier, *not* sentiment140 + airline data."
      ]
    },
    {
      "cell_type": "code",
      "metadata": {
        "id": "CIRBljmNsN0n",
        "colab_type": "code",
        "colab": {
          "base_uri": "https://localhost:8080/",
          "height": 17
        },
        "outputId": "8ad9a299-f3e5-4803-a573-326aa92b61eb"
      },
      "source": [
        "cls_data = (\n",
        "    TextList\n",
        "    .from_csv(data_path, 'filtered_train.csv', cols='text') # only train on the original airline data\n",
        "    .split_by_rand_pct(0.1, seed=seed)\n",
        "    .label_from_df(cols=0)\n",
        "    .databunch(bs=bs)\n",
        ")"
      ],
      "execution_count": null,
      "outputs": [
        {
          "output_type": "display_data",
          "data": {
            "text/html": [
              ""
            ],
            "text/plain": [
              "<IPython.core.display.HTML object>"
            ]
          },
          "metadata": {
            "tags": []
          }
        },
        {
          "output_type": "display_data",
          "data": {
            "text/html": [
              ""
            ],
            "text/plain": [
              "<IPython.core.display.HTML object>"
            ]
          },
          "metadata": {
            "tags": []
          }
        }
      ]
    },
    {
      "cell_type": "markdown",
      "metadata": {
        "id": "8rebZcQG1aF5",
        "colab_type": "text"
      },
      "source": [
        "There are many more vocabulary words in the airline+sentiment140 data than in the airline data alone"
      ]
    },
    {
      "cell_type": "code",
      "metadata": {
        "id": "5oLSWvnZshJq",
        "colab_type": "code",
        "colab": {}
      },
      "source": [
        "# in order to continue training the old encoder behind the new classifier, we need the old encoder's vocabulary\n",
        "cls_data.vocab.stoi = lm_data.vocab.stoi\n",
        "cls_data.vocab.itos = lm_data.vocab.itos\n",
        "cls = text_classifier_learner(cls_data, AWD_LSTM, drop_mult=0.5)\n",
        "cls.load_encoder('2_airline_sent140_lm')"
      ],
      "execution_count": null,
      "outputs": []
    },
    {
      "cell_type": "code",
      "metadata": {
        "id": "6svFZFqRwnC6",
        "colab_type": "code",
        "colab": {
          "base_uri": "https://localhost:8080/",
          "height": 374
        },
        "outputId": "196c14fd-b49c-428b-c77b-c219848f1402"
      },
      "source": [
        "cls.lr_find()\n",
        "cls.recorder.plot()"
      ],
      "execution_count": null,
      "outputs": [
        {
          "output_type": "display_data",
          "data": {
            "text/html": [
              "\n",
              "    <div>\n",
              "        <style>\n",
              "            /* Turns off some styling */\n",
              "            progress {\n",
              "                /* gets rid of default border in Firefox and Opera. */\n",
              "                border: none;\n",
              "                /* Needs to be in here for Safari polyfill so background images work as expected. */\n",
              "                background-size: auto;\n",
              "            }\n",
              "            .progress-bar-interrupted, .progress-bar-interrupted::-webkit-progress-bar {\n",
              "                background: #F44336;\n",
              "            }\n",
              "        </style>\n",
              "      <progress value='0' class='' max='1' style='width:300px; height:20px; vertical-align: middle;'></progress>\n",
              "      0.00% [0/1 00:00<00:00]\n",
              "    </div>\n",
              "    \n",
              "<table border=\"1\" class=\"dataframe\">\n",
              "  <thead>\n",
              "    <tr style=\"text-align: left;\">\n",
              "      <th>epoch</th>\n",
              "      <th>train_loss</th>\n",
              "      <th>valid_loss</th>\n",
              "      <th>accuracy</th>\n",
              "      <th>time</th>\n",
              "    </tr>\n",
              "  </thead>\n",
              "  <tbody>\n",
              "  </tbody>\n",
              "</table><p>\n",
              "\n",
              "    <div>\n",
              "        <style>\n",
              "            /* Turns off some styling */\n",
              "            progress {\n",
              "                /* gets rid of default border in Firefox and Opera. */\n",
              "                border: none;\n",
              "                /* Needs to be in here for Safari polyfill so background images work as expected. */\n",
              "                background-size: auto;\n",
              "            }\n",
              "            .progress-bar-interrupted, .progress-bar-interrupted::-webkit-progress-bar {\n",
              "                background: #F44336;\n",
              "            }\n",
              "        </style>\n",
              "      <progress value='90' class='' max='494' style='width:300px; height:20px; vertical-align: middle;'></progress>\n",
              "      18.22% [90/494 00:01<00:07 1.6173]\n",
              "    </div>\n",
              "    "
            ],
            "text/plain": [
              "<IPython.core.display.HTML object>"
            ]
          },
          "metadata": {
            "tags": []
          }
        },
        {
          "output_type": "stream",
          "text": [
            "LR Finder is complete, type {learner_name}.recorder.plot() to see the graph.\n"
          ],
          "name": "stdout"
        },
        {
          "output_type": "display_data",
          "data": {
            "image/png": "[encoded data removed]",
            "text/plain": [
              "<Figure size 432x288 with 1 Axes>"
            ]
          },
          "metadata": {
            "tags": [],
            "needs_background": "light"
          }
        }
      ]
    },
    {
      "cell_type": "code",
      "metadata": {
        "id": "QKxWjFqUslsQ",
        "colab_type": "code",
        "colab": {
          "base_uri": "https://localhost:8080/",
          "height": 80
        },
        "outputId": "62cea483-cbd1-4084-9240-cb8ab075cf00"
      },
      "source": [
        "init_cls_lr = 1e-02\n",
        "cls.fit_one_cycle(1, init_cls_lr, moms=(0.8, 0.7))\n",
        "cls.save('1_sent140_cls')"
      ],
      "execution_count": null,
      "outputs": [
        {
          "output_type": "display_data",
          "data": {
            "text/html": [
              "<table border=\"1\" class=\"dataframe\">\n",
              "  <thead>\n",
              "    <tr style=\"text-align: left;\">\n",
              "      <th>epoch</th>\n",
              "      <th>train_loss</th>\n",
              "      <th>valid_loss</th>\n",
              "      <th>accuracy</th>\n",
              "      <th>time</th>\n",
              "    </tr>\n",
              "  </thead>\n",
              "  <tbody>\n",
              "    <tr>\n",
              "      <td>0</td>\n",
              "      <td>0.815993</td>\n",
              "      <td>0.749078</td>\n",
              "      <td>0.691724</td>\n",
              "      <td>00:07</td>\n",
              "    </tr>\n",
              "  </tbody>\n",
              "</table>"
            ],
            "text/plain": [
              "<IPython.core.display.HTML object>"
            ]
          },
          "metadata": {
            "tags": []
          }
        }
      ]
    },
    {
      "cell_type": "code",
      "metadata": {
        "id": "RBxspfkGsntp",
        "colab_type": "code",
        "colab": {
          "base_uri": "https://localhost:8080/",
          "height": 80
        },
        "outputId": "47435eac-d845-4798-a93b-aa63ab38bdc7"
      },
      "source": [
        "cls.freeze_to(-2)\n",
        "cls.fit_one_cycle(1, slice(init_cls_lr/(2.6**4), init_cls_lr), moms=(0.8,0.7))\n",
        "cls.save('2_sent140_cls')"
      ],
      "execution_count": null,
      "outputs": [
        {
          "output_type": "display_data",
          "data": {
            "text/html": [
              "<table border=\"1\" class=\"dataframe\">\n",
              "  <thead>\n",
              "    <tr style=\"text-align: left;\">\n",
              "      <th>epoch</th>\n",
              "      <th>train_loss</th>\n",
              "      <th>valid_loss</th>\n",
              "      <th>accuracy</th>\n",
              "      <th>time</th>\n",
              "    </tr>\n",
              "  </thead>\n",
              "  <tbody>\n",
              "    <tr>\n",
              "      <td>0</td>\n",
              "      <td>0.747582</td>\n",
              "      <td>0.706615</td>\n",
              "      <td>0.707669</td>\n",
              "      <td>00:09</td>\n",
              "    </tr>\n",
              "  </tbody>\n",
              "</table>"
            ],
            "text/plain": [
              "<IPython.core.display.HTML object>"
            ]
          },
          "metadata": {
            "tags": []
          }
        }
      ]
    },
    {
      "cell_type": "code",
      "metadata": {
        "id": "IPcKRNS7srsd",
        "colab_type": "code",
        "colab": {
          "base_uri": "https://localhost:8080/",
          "height": 80
        },
        "outputId": "0be41c4f-9407-45af-e908-f80abbf94d88"
      },
      "source": [
        "cls.freeze_to(-3)\n",
        "new_cls_lr = init_cls_lr * 0.1\n",
        "cls.fit_one_cycle(1, slice(new_cls_lr / (2.6**4), new_cls_lr), moms=(0.8, 0.7))\n",
        "cls.save('3_sent140_cls')"
      ],
      "execution_count": null,
      "outputs": [
        {
          "output_type": "display_data",
          "data": {
            "text/html": [
              "<table border=\"1\" class=\"dataframe\">\n",
              "  <thead>\n",
              "    <tr style=\"text-align: left;\">\n",
              "      <th>epoch</th>\n",
              "      <th>train_loss</th>\n",
              "      <th>valid_loss</th>\n",
              "      <th>accuracy</th>\n",
              "      <th>time</th>\n",
              "    </tr>\n",
              "  </thead>\n",
              "  <tbody>\n",
              "    <tr>\n",
              "      <td>0</td>\n",
              "      <td>0.684030</td>\n",
              "      <td>0.663778</td>\n",
              "      <td>0.729689</td>\n",
              "      <td>00:14</td>\n",
              "    </tr>\n",
              "  </tbody>\n",
              "</table>"
            ],
            "text/plain": [
              "<IPython.core.display.HTML object>"
            ]
          },
          "metadata": {
            "tags": []
          }
        }
      ]
    },
    {
      "cell_type": "code",
      "metadata": {
        "id": "QttjVcD9sxO-",
        "colab_type": "code",
        "colab": {
          "base_uri": "https://localhost:8080/",
          "height": 235
        },
        "outputId": "4961b0b7-8540-45c4-91b0-a8c98d2f8626"
      },
      "source": [
        "cls.unfreeze()\n",
        "cls.fit_one_cycle(6, slice(new_cls_lr / (2.6**4), new_cls_lr), moms=(0.8,0.7))\n",
        "cls.save('4_sent140_cls')\n",
        "cls.export('sent140_cls')"
      ],
      "execution_count": null,
      "outputs": [
        {
          "output_type": "display_data",
          "data": {
            "text/html": [
              "<table border=\"1\" class=\"dataframe\">\n",
              "  <thead>\n",
              "    <tr style=\"text-align: left;\">\n",
              "      <th>epoch</th>\n",
              "      <th>train_loss</th>\n",
              "      <th>valid_loss</th>\n",
              "      <th>accuracy</th>\n",
              "      <th>time</th>\n",
              "    </tr>\n",
              "  </thead>\n",
              "  <tbody>\n",
              "    <tr>\n",
              "      <td>0</td>\n",
              "      <td>0.638421</td>\n",
              "      <td>0.648955</td>\n",
              "      <td>0.736522</td>\n",
              "      <td>00:17</td>\n",
              "    </tr>\n",
              "    <tr>\n",
              "      <td>1</td>\n",
              "      <td>0.610721</td>\n",
              "      <td>0.611217</td>\n",
              "      <td>0.747153</td>\n",
              "      <td>00:18</td>\n",
              "    </tr>\n",
              "    <tr>\n",
              "      <td>2</td>\n",
              "      <td>0.579503</td>\n",
              "      <td>0.592972</td>\n",
              "      <td>0.759301</td>\n",
              "      <td>00:17</td>\n",
              "    </tr>\n",
              "    <tr>\n",
              "      <td>3</td>\n",
              "      <td>0.482814</td>\n",
              "      <td>0.600679</td>\n",
              "      <td>0.763857</td>\n",
              "      <td>00:18</td>\n",
              "    </tr>\n",
              "    <tr>\n",
              "      <td>4</td>\n",
              "      <td>0.499397</td>\n",
              "      <td>0.588046</td>\n",
              "      <td>0.770691</td>\n",
              "      <td>00:17</td>\n",
              "    </tr>\n",
              "    <tr>\n",
              "      <td>5</td>\n",
              "      <td>0.441261</td>\n",
              "      <td>0.592773</td>\n",
              "      <td>0.766135</td>\n",
              "      <td>00:18</td>\n",
              "    </tr>\n",
              "  </tbody>\n",
              "</table>"
            ],
            "text/plain": [
              "<IPython.core.display.HTML object>"
            ]
          },
          "metadata": {
            "tags": []
          }
        }
      ]
    },
    {
      "cell_type": "markdown",
      "metadata": {
        "id": "BjoSwIz6xeDr",
        "colab_type": "text"
      },
      "source": [
        "Doesn't look good. I don't think I'm going to be able to break 80% accuracy with this approach.\n",
        "\n",
        "I guess sentiment140 was sufficiently different from the airline tweet distribution that it hurt more than it helped."
      ]
    },
    {
      "cell_type": "code",
      "metadata": {
        "id": "lA6dzDwNIE3c",
        "colab_type": "code",
        "colab": {
          "base_uri": "https://localhost:8080/",
          "height": 17
        },
        "outputId": "2ed478bb-2350-4510-f2b8-77faa2b44fca"
      },
      "source": [
        "cls = load_learner(data_path, 'sent140_cls')"
      ],
      "execution_count": null,
      "outputs": [
        {
          "output_type": "display_data",
          "data": {
            "text/html": [
              ""
            ],
            "text/plain": [
              "<IPython.core.display.HTML object>"
            ]
          },
          "metadata": {
            "tags": []
          }
        },
        {
          "output_type": "display_data",
          "data": {
            "text/html": [
              ""
            ],
            "text/plain": [
              "<IPython.core.display.HTML object>"
            ]
          },
          "metadata": {
            "tags": []
          }
        }
      ]
    },
    {
      "cell_type": "code",
      "metadata": {
        "id": "STaWuyzE91np",
        "colab_type": "code",
        "colab": {
          "base_uri": "https://localhost:8080/",
          "height": 34
        },
        "outputId": "22f70bcf-ed2b-48a1-d677-8123c0f874d4"
      },
      "source": [
        "cls.predict(\"Your customer service is awful, you should be ashamed of yourselves. Never flying again\")"
      ],
      "execution_count": null,
      "outputs": [
        {
          "output_type": "execute_result",
          "data": {
            "text/plain": [
              "(Category tensor(0), tensor(0), tensor([0.6554, 0.2183, 0.1263]))"
            ]
          },
          "metadata": {
            "tags": []
          },
          "execution_count": 5
        }
      ]
    },
    {
      "cell_type": "code",
      "metadata": {
        "id": "FnpDe3Mz96lP",
        "colab_type": "code",
        "colab": {
          "base_uri": "https://localhost:8080/",
          "height": 34
        },
        "outputId": "b7dbd843-29ae-498b-bd86-fffb0213311c"
      },
      "source": [
        "cls.predict(\"Thank you very much for helping me. I'm definitely flying with you again!\")"
      ],
      "execution_count": null,
      "outputs": [
        {
          "output_type": "execute_result",
          "data": {
            "text/plain": [
              "(Category tensor(2), tensor(2), tensor([0.2247, 0.2837, 0.4916]))"
            ]
          },
          "metadata": {
            "tags": []
          },
          "execution_count": 6
        }
      ]
    },
    {
      "cell_type": "code",
      "metadata": {
        "id": "X0MgXLZ898NY",
        "colab_type": "code",
        "colab": {
          "base_uri": "https://localhost:8080/",
          "height": 34
        },
        "outputId": "5ef5905f-83f7-4b1f-e41b-6f57f239f1d8"
      },
      "source": [
        "cls.predict(\"Stuck in line for an hour. I can't believe the customer service\")"
      ],
      "execution_count": null,
      "outputs": [
        {
          "output_type": "execute_result",
          "data": {
            "text/plain": [
              "(Category tensor(0), tensor(0), tensor([0.9216, 0.0286, 0.0497]))"
            ]
          },
          "metadata": {
            "tags": []
          },
          "execution_count": 7
        }
      ]
    },
    {
      "cell_type": "markdown",
      "metadata": {
        "id": "JfMvCuDy9-Xb",
        "colab_type": "text"
      },
      "source": [
        "Definitely not as confident as the airline-only learner.\n",
        "\n",
        "# See [this notebook](https://colab.research.google.com/drive/1P7-Om6yWwzliZUIepo7ftuRrYAkEGeDr) to see how well this model performed on the test set."
      ]
    }
  ]
}