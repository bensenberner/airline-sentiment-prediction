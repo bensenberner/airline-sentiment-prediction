{
 "cells": [
  {
   "cell_type": "markdown",
   "metadata": {},
   "source": [
    "## IGNORE this, this is a scratchpad for loose cells and exploration of new ideas"
   ]
  },
  {
   "cell_type": "code",
   "execution_count": 38,
   "metadata": {},
   "outputs": [],
   "source": [
    "num_neg_sentiment_140_rows = sentiment_140_full.target.value_counts()[NEGATIVE_LABEL]\n",
    "num_sampled_non_neg_sentiment_140_rows = int(\n",
    "    (non_neg_percent * num_neg_sentiment_140_rows) / \n",
    "    (1 - non_neg_percent)\n",
    ")"
   ]
  },
  {
   "cell_type": "code",
   "execution_count": 39,
   "metadata": {},
   "outputs": [],
   "source": [
    "sampled_non_neg_sentiment_140 = (\n",
    "    sentiment_140_full[sentiment_140_full['target'] == POSITIVE_LABEL]\n",
    "    .sample(num_sampled_non_neg_sentiment_140_rows)\n",
    ")"
   ]
  },
  {
   "cell_type": "code",
   "execution_count": 40,
   "metadata": {},
   "outputs": [],
   "source": [
    "sampled_sentiment_140 = pd.concat(\n",
    "    [\n",
    "        sentiment_140_full[sentiment_140_full['target'] == NEGATIVE_LABEL],\n",
    "        sampled_non_neg_sentiment_140\n",
    "    ]\n",
    ")"
   ]
  },
  {
   "cell_type": "code",
   "execution_count": 41,
   "metadata": {},
   "outputs": [
    {
     "data": {
      "text/plain": [
       "0    800000\n",
       "4    477053\n",
       "Name: target, dtype: int64"
      ]
     },
     "execution_count": 41,
     "metadata": {},
     "output_type": "execute_result"
    }
   ],
   "source": [
    "sampled_sentiment_140.target.value_counts()"
   ]
  },
  {
   "cell_type": "code",
   "execution_count": 76,
   "metadata": {},
   "outputs": [],
   "source": [
    "sampled_sentiment_140.to_csv('data/distribution_adjusted_sentiment_140.csv', index=False)"
   ]
  },
  {
   "cell_type": "markdown",
   "metadata": {},
   "source": [
    "# Doubling the original airline data with the sentiment 140 data"
   ]
  },
  {
   "cell_type": "code",
   "execution_count": 35,
   "metadata": {},
   "outputs": [],
   "source": [
    "num_airline_rows = train.shape[0]\n",
    "num_neg_airline_rows = train[\"airline_sentiment\"].value_counts()[\"negative\"]\n",
    "num_non_neg_airline_rows = num_airline_rows - num_neg_airline_rows\n",
    "non_neg_percent = num_non_neg_airline_rows / num_airline_rows"
   ]
  },
  {
   "cell_type": "code",
   "execution_count": 47,
   "metadata": {},
   "outputs": [
    {
     "data": {
      "text/html": [
       "<div>\n",
       "<style scoped>\n",
       "    .dataframe tbody tr th:only-of-type {\n",
       "        vertical-align: middle;\n",
       "    }\n",
       "\n",
       "    .dataframe tbody tr th {\n",
       "        vertical-align: top;\n",
       "    }\n",
       "\n",
       "    .dataframe thead th {\n",
       "        text-align: right;\n",
       "    }\n",
       "</style>\n",
       "<table border=\"1\" class=\"dataframe\">\n",
       "  <thead>\n",
       "    <tr style=\"text-align: right;\">\n",
       "      <th></th>\n",
       "      <th>target</th>\n",
       "      <th>text</th>\n",
       "    </tr>\n",
       "  </thead>\n",
       "  <tbody>\n",
       "    <tr>\n",
       "      <th>1149170</th>\n",
       "      <td>4</td>\n",
       "      <td>@tonfue lol  haha...so what flavor is the clea...</td>\n",
       "    </tr>\n",
       "    <tr>\n",
       "      <th>127890</th>\n",
       "      <td>0</td>\n",
       "      <td>everytime i spend the day in front of the comp...</td>\n",
       "    </tr>\n",
       "    <tr>\n",
       "      <th>119417</th>\n",
       "      <td>0</td>\n",
       "      <td>oh my, the heart got cut off after megan.  boo...</td>\n",
       "    </tr>\n",
       "    <tr>\n",
       "      <th>1499133</th>\n",
       "      <td>4</td>\n",
       "      <td>Nicee Ass Day ; Bout To Go Scoop @itsmeambreez...</td>\n",
       "    </tr>\n",
       "    <tr>\n",
       "      <th>1167914</th>\n",
       "      <td>4</td>\n",
       "      <td>@DuckyZu yeah it really is made of awesome, th...</td>\n",
       "    </tr>\n",
       "    <tr>\n",
       "      <th>...</th>\n",
       "      <td>...</td>\n",
       "      <td>...</td>\n",
       "    </tr>\n",
       "    <tr>\n",
       "      <th>1371066</th>\n",
       "      <td>4</td>\n",
       "      <td>@veganrunningmom thank you for the FF. i just ...</td>\n",
       "    </tr>\n",
       "    <tr>\n",
       "      <th>411933</th>\n",
       "      <td>0</td>\n",
       "      <td>My ugly ID card. Eewwww much?  that will be my...</td>\n",
       "    </tr>\n",
       "    <tr>\n",
       "      <th>250578</th>\n",
       "      <td>0</td>\n",
       "      <td>@sarahlasvegas http://twitpic.com/6cns4 - no d...</td>\n",
       "    </tr>\n",
       "    <tr>\n",
       "      <th>184192</th>\n",
       "      <td>0</td>\n",
       "      <td>Just went to see Drag Me To Hell....very big l...</td>\n",
       "    </tr>\n",
       "    <tr>\n",
       "      <th>1158524</th>\n",
       "      <td>4</td>\n",
       "      <td>the hit's keep a comin...&amp;quot;you must be a s...</td>\n",
       "    </tr>\n",
       "  </tbody>\n",
       "</table>\n",
       "<p>13176 rows × 2 columns</p>\n",
       "</div>"
      ],
      "text/plain": [
       "         target                                               text\n",
       "1149170       4  @tonfue lol  haha...so what flavor is the clea...\n",
       "127890        0  everytime i spend the day in front of the comp...\n",
       "119417        0  oh my, the heart got cut off after megan.  boo...\n",
       "1499133       4  Nicee Ass Day ; Bout To Go Scoop @itsmeambreez...\n",
       "1167914       4  @DuckyZu yeah it really is made of awesome, th...\n",
       "...         ...                                                ...\n",
       "1371066       4  @veganrunningmom thank you for the FF. i just ...\n",
       "411933        0  My ugly ID card. Eewwww much?  that will be my...\n",
       "250578        0  @sarahlasvegas http://twitpic.com/6cns4 - no d...\n",
       "184192        0  Just went to see Drag Me To Hell....very big l...\n",
       "1158524       4  the hit's keep a comin...&quot;you must be a s...\n",
       "\n",
       "[13176 rows x 2 columns]"
      ]
     },
     "execution_count": 47,
     "metadata": {},
     "output_type": "execute_result"
    }
   ],
   "source": [
    "reduced_sentiment_140 = sampled_sentiment_140.sample(\n",
    "    n=num_airline_rows, random_state=seed\n",
    ")\n",
    "reduced_sentiment_140"
   ]
  },
  {
   "cell_type": "code",
   "execution_count": 48,
   "metadata": {},
   "outputs": [
    {
     "data": {
      "text/html": [
       "<div>\n",
       "<style scoped>\n",
       "    .dataframe tbody tr th:only-of-type {\n",
       "        vertical-align: middle;\n",
       "    }\n",
       "\n",
       "    .dataframe tbody tr th {\n",
       "        vertical-align: top;\n",
       "    }\n",
       "\n",
       "    .dataframe thead th {\n",
       "        text-align: right;\n",
       "    }\n",
       "</style>\n",
       "<table border=\"1\" class=\"dataframe\">\n",
       "  <thead>\n",
       "    <tr style=\"text-align: right;\">\n",
       "      <th></th>\n",
       "      <th>airline_sentiment</th>\n",
       "      <th>text</th>\n",
       "    </tr>\n",
       "  </thead>\n",
       "  <tbody>\n",
       "    <tr>\n",
       "      <th>0</th>\n",
       "      <td>negative</td>\n",
       "      <td>@united Yes I did.  We headed out to de-ice 5 ...</td>\n",
       "    </tr>\n",
       "    <tr>\n",
       "      <th>1</th>\n",
       "      <td>negative</td>\n",
       "      <td>@AmericanAir missing a full days of work thank...</td>\n",
       "    </tr>\n",
       "    <tr>\n",
       "      <th>2</th>\n",
       "      <td>negative</td>\n",
       "      <td>@USAirways your mobile app is horrible!  Needs...</td>\n",
       "    </tr>\n",
       "    <tr>\n",
       "      <th>3</th>\n",
       "      <td>negative</td>\n",
       "      <td>@AmericanAir Checked in on app since yesterday...</td>\n",
       "    </tr>\n",
       "    <tr>\n",
       "      <th>4</th>\n",
       "      <td>negative</td>\n",
       "      <td>@united we have tried to change our flight THR...</td>\n",
       "    </tr>\n",
       "    <tr>\n",
       "      <th>...</th>\n",
       "      <td>...</td>\n",
       "      <td>...</td>\n",
       "    </tr>\n",
       "    <tr>\n",
       "      <th>13171</th>\n",
       "      <td>positive</td>\n",
       "      <td>@SouthwestAir replacing @vitaminwater with bee...</td>\n",
       "    </tr>\n",
       "    <tr>\n",
       "      <th>13172</th>\n",
       "      <td>negative</td>\n",
       "      <td>@AmericanAir at LAX and your service reps just...</td>\n",
       "    </tr>\n",
       "    <tr>\n",
       "      <th>13173</th>\n",
       "      <td>negative</td>\n",
       "      <td>@SouthwestAir Been on hold for over an hour - ...</td>\n",
       "    </tr>\n",
       "    <tr>\n",
       "      <th>13174</th>\n",
       "      <td>negative</td>\n",
       "      <td>@united we would...how do I contact you to dis...</td>\n",
       "    </tr>\n",
       "    <tr>\n",
       "      <th>13175</th>\n",
       "      <td>neutral</td>\n",
       "      <td>@JetBlue that's ok! It just sure seemed like i...</td>\n",
       "    </tr>\n",
       "  </tbody>\n",
       "</table>\n",
       "<p>13176 rows × 2 columns</p>\n",
       "</div>"
      ],
      "text/plain": [
       "      airline_sentiment                                               text\n",
       "0              negative  @united Yes I did.  We headed out to de-ice 5 ...\n",
       "1              negative  @AmericanAir missing a full days of work thank...\n",
       "2              negative  @USAirways your mobile app is horrible!  Needs...\n",
       "3              negative  @AmericanAir Checked in on app since yesterday...\n",
       "4              negative  @united we have tried to change our flight THR...\n",
       "...                 ...                                                ...\n",
       "13171          positive  @SouthwestAir replacing @vitaminwater with bee...\n",
       "13172          negative  @AmericanAir at LAX and your service reps just...\n",
       "13173          negative  @SouthwestAir Been on hold for over an hour - ...\n",
       "13174          negative  @united we would...how do I contact you to dis...\n",
       "13175           neutral  @JetBlue that's ok! It just sure seemed like i...\n",
       "\n",
       "[13176 rows x 2 columns]"
      ]
     },
     "execution_count": 48,
     "metadata": {},
     "output_type": "execute_result"
    }
   ],
   "source": [
    "train"
   ]
  },
  {
   "cell_type": "markdown",
   "metadata": {},
   "source": [
    "Definitely noticing a difference in the tone of the sentiment 140 tweets compared to the airline tweets"
   ]
  },
  {
   "cell_type": "code",
   "execution_count": 53,
   "metadata": {},
   "outputs": [],
   "source": [
    "airline_full_props = value_count_proportions(train['airline_sentiment'])"
   ]
  },
  {
   "cell_type": "code",
   "execution_count": 52,
   "metadata": {},
   "outputs": [
    {
     "data": {
      "text/plain": [
       "{0: 0.6218123861566485, 4: 0.37818761384335153}"
      ]
     },
     "execution_count": 52,
     "metadata": {},
     "output_type": "execute_result"
    }
   ],
   "source": [
    "value_count_proportions(reduced_sentiment_140['target'])"
   ]
  },
  {
   "cell_type": "markdown",
   "metadata": {},
   "source": [
    "We want ratio of negative:positive to be equal in both the airline data and the target data."
   ]
  },
  {
   "cell_type": "code",
   "execution_count": 55,
   "metadata": {},
   "outputs": [
    {
     "data": {
      "text/plain": [
       "{'positive': 0.2047403410733211, 'negative': 0.7952596589266788}"
      ]
     },
     "execution_count": 55,
     "metadata": {},
     "output_type": "execute_result"
    }
   ],
   "source": [
    "pos_and_neg = ['positive', 'negative']\n",
    "positive_negative_prop_sum = sum(airline_full_props[sent] for sent in pos_and_neg)\n",
    "airline_positive_negative_props = {\n",
    "    sent: airline_full_props[sent] / positive_negative_prop_sum\n",
    "    for sent in pos_and_neg\n",
    "}\n",
    "airline_positive_negative_props"
   ]
  },
  {
   "cell_type": "markdown",
   "metadata": {},
   "source": [
    "## Loading data from [tweet sentiment support phrase data](https://www.kaggle.com/c/tweet-sentiment-extraction)"
   ]
  },
  {
   "cell_type": "markdown",
   "metadata": {},
   "source": [
    "This dataset actually does have neutral tweets. I want to augment the airline data with this new dataset while minimizing the number of rows lost from the new tweet support phrase dataset."
   ]
  },
  {
   "cell_type": "code",
   "execution_count": 78,
   "metadata": {},
   "outputs": [],
   "source": [
    "support_phrase_data = pd.read_csv('data/support_phrase_data.csv')"
   ]
  },
  {
   "cell_type": "code",
   "execution_count": 91,
   "metadata": {},
   "outputs": [
    {
     "data": {
      "text/plain": [
       "neutral     11118\n",
       "positive     8582\n",
       "negative     7781\n",
       "Name: sentiment, dtype: int64"
      ]
     },
     "execution_count": 91,
     "metadata": {},
     "output_type": "execute_result"
    }
   ],
   "source": [
    "support_phrase_data['sentiment'].value_counts()"
   ]
  },
  {
   "cell_type": "code",
   "execution_count": 95,
   "metadata": {},
   "outputs": [],
   "source": [
    "negative_rows = support_phrase_data['sentiment'].value_counts()['negative']"
   ]
  },
  {
   "cell_type": "code",
   "execution_count": 89,
   "metadata": {},
   "outputs": [],
   "source": [
    "sentiment_proportions = value_count_proportions(support_phrase_data['sentiment'])"
   ]
  },
  {
   "cell_type": "code",
   "execution_count": 90,
   "metadata": {},
   "outputs": [
    {
     "data": {
      "text/plain": [
       "{'neutral': 0.4045704304792402,\n",
       " 'positive': 0.3122884902296132,\n",
       " 'negative': 0.2831410792911466}"
      ]
     },
     "execution_count": 90,
     "metadata": {},
     "output_type": "execute_result"
    }
   ],
   "source": [
    "sentiment_proportions"
   ]
  },
  {
   "cell_type": "markdown",
   "metadata": {},
   "source": [
    "This is different than the airline sentiment proportions which were\n",
    "```\n",
    "{'negative': 0.6264420157862781,\n",
    " 'neutral': 0.21227990285367335,\n",
    " 'positive': 0.16127808136004856}\n",
    "```\n",
    "We know the desired proportions of neutral and positive rows. We know that we don't want to shed any negative rows (since they were originally the majority class, we want to keep as many of them around now that they're the minority class).\n",
    "We have to remove some positive and neutral rows. How many? This sounds like a [system of equations](https://www.wolframalpha.com/input/?i=n+%2F+%287781+%2B+n+%2B+p%29+%3D+0.21%2C+p+%2F+%287781+%2B+n+%2B+p%29+%3D+0.17). `n` is the desired number of neutral rows, `p` is the desired number of positive rows, and `7781` is the number of negative rows in the support phrase data.\n",
    "We get:\n",
    "- num positive rows: `2636`\n",
    "- num neutral rows: `2133`"
   ]
  },
  {
   "cell_type": "code",
   "execution_count": 94,
   "metadata": {},
   "outputs": [],
   "source": [
    "import sympy as sym\n",
    "sym.init_printing()"
   ]
  },
  {
   "cell_type": "code",
   "execution_count": 99,
   "metadata": {},
   "outputs": [
    {
     "data": {
      "image/png": "[encoded data removed]",
      "text/latex": [
       "$\\displaystyle \\left\\{ n : 2636.716379937, \\  p : 2003.22570874728\\right\\}$"
      ],
      "text/plain": [
       "{n: 2636.716379937, p: 2003.22570874728}"
      ]
     },
     "execution_count": 99,
     "metadata": {},
     "output_type": "execute_result"
    }
   ],
   "source": [
    "pos_rows, neutral_rows = sym.symbols('p,n')\n",
    "neutral_eq = sym.Eq(\n",
    "    neutral_rows / (negative_rows + pos_rows + neutral_rows),\n",
    "    airline_sent_proportions['neutral']\n",
    ")\n",
    "positive_eq = sym.Eq(\n",
    "    pos_rows / (negative_rows + pos_rows + neutral_rows),\n",
    "    airline_sent_proportions['positive']\n",
    ")\n",
    "\n",
    "sym.solve([neutral_eq, positive_eq], [pos_rows, neutral_rows])"
   ]
  },
  {
   "cell_type": "code",
   "execution_count": 2,
   "metadata": {},
   "outputs": [
    {
     "ename": "NameError",
     "evalue": "name 'TextClasDataBunch' is not defined",
     "output_type": "error",
     "traceback": [
      "\u001b[0;31m---------------------------------------------------------------------------\u001b[0m",
      "\u001b[0;31mNameError\u001b[0m                                 Traceback (most recent call last)",
      "\u001b[0;32m<ipython-input-2-f32813b63079>\u001b[0m in \u001b[0;36m<module>\u001b[0;34m\u001b[0m\n\u001b[0;32m----> 1\u001b[0;31m \u001b[0mt\u001b[0m \u001b[0;34m=\u001b[0m \u001b[0mTextClasDataBunch\u001b[0m\u001b[0;34m.\u001b[0m\u001b[0mfrom_csv\u001b[0m\u001b[0;34m(\u001b[0m\u001b[0;34m'data'\u001b[0m\u001b[0;34m,\u001b[0m \u001b[0;34m'original_train.csv'\u001b[0m\u001b[0;34m,\u001b[0m \u001b[0mbs\u001b[0m\u001b[0;34m=\u001b[0m\u001b[0;36m32\u001b[0m\u001b[0;34m,\u001b[0m \u001b[0mtext_cols\u001b[0m\u001b[0;34m=\u001b[0m\u001b[0;34m'text'\u001b[0m\u001b[0;34m,\u001b[0m \u001b[0mlabel_cols\u001b[0m\u001b[0;34m=\u001b[0m\u001b[0;34m'airline_sentiment'\u001b[0m\u001b[0;34m)\u001b[0m\u001b[0;34m\u001b[0m\u001b[0;34m\u001b[0m\u001b[0m\n\u001b[0m",
      "\u001b[0;31mNameError\u001b[0m: name 'TextClasDataBunch' is not defined"
     ]
    }
   ],
   "source": [
    "t = TextClasDataBunch.from_csv('data', 'original_train.csv', bs=32, text_cols='text', label_cols='airline_sentiment')"
   ]
  },
  {
   "cell_type": "code",
   "execution_count": 3,
   "metadata": {},
   "outputs": [],
   "source": [
    "filename = 'data/distribution_adjusted_sentiment_140.csv'\n",
    "n = sum(1 for line in open(filename)) - 1 #number of records in file (excludes header)"
   ]
  },
  {
   "cell_type": "code",
   "execution_count": 5,
   "metadata": {},
   "outputs": [],
   "source": [
    "s = 30000\n",
    "skiprows = sorted(random.sample(range(1,n+1),n-s))"
   ]
  },
  {
   "cell_type": "code",
   "execution_count": 11,
   "metadata": {},
   "outputs": [],
   "source": [
    "df = pd.read_csv(filename, skiprows=skiprows)"
   ]
  },
  {
   "cell_type": "code",
   "execution_count": 17,
   "metadata": {},
   "outputs": [],
   "source": [
    "df['sentiment'] = df['sentiment'].apply(\n",
    "    lambda x: 'negative' if x == 0 else 'positive'\n",
    ")"
   ]
  },
  {
   "cell_type": "code",
   "execution_count": 19,
   "metadata": {},
   "outputs": [],
   "source": [
    "df.to_csv('data/trimmed_sentiment_140.csv', index=False)"
   ]
  },
  {
   "cell_type": "markdown",
   "metadata": {},
   "source": [
    "TODO: make sure to be clear that you distibution adjusted AND sampled the sentiment 140 to have a 3:1 ratio to the airline data"
   ]
  },
  {
   "cell_type": "code",
   "execution_count": 4,
   "metadata": {},
   "outputs": [],
   "source": [
    "test = pd.read_csv('data/original_test.csv')"
   ]
  },
  {
   "cell_type": "code",
   "execution_count": 8,
   "metadata": {},
   "outputs": [
    {
     "data": {
      "text/plain": [
       "{'negative': 0.6311475409836066,\n",
       " 'neutral': 0.2062841530054645,\n",
       " 'positive': 0.16256830601092895}"
      ]
     },
     "execution_count": 8,
     "metadata": {},
     "output_type": "execute_result"
    }
   ],
   "source": [
    "value_count_proportions(test.airline_sentiment)"
   ]
  }
 ],
 "metadata": {
  "kernelspec": {
   "display_name": "airline-sentiment",
   "language": "python",
   "name": "airline-sentiment"
  },
  "language_info": {
   "codemirror_mode": {
    "name": "ipython",
    "version": 3
   },
   "file_extension": ".py",
   "mimetype": "text/x-python",
   "name": "python",
   "nbconvert_exporter": "python",
   "pygments_lexer": "ipython3",
   "version": "3.8.3"
  }
 },
 "nbformat": 4,
 "nbformat_minor": 4
}
