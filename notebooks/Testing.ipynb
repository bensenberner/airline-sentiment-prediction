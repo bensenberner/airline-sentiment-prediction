{
  "nbformat": 4,
  "nbformat_minor": 0,
  "metadata": {
    "colab": {
      "name": "Testing.ipynb",
      "provenance": [],
      "collapsed_sections": [],
      "mount_file_id": "1P7-Om6yWwzliZUIepo7ftuRrYAkEGeDr",
      "authorship_tag": "ABX9TyNqswUiVYknqI+qBpB4pEWx",
      "include_colab_link": true
    },
    "kernelspec": {
      "name": "python3",
      "display_name": "Python 3"
    }
  },
  "cells": [
    {
      "cell_type": "markdown",
      "metadata": {
        "id": "view-in-github",
        "colab_type": "text"
      },
      "source": [
        "<a href=\"https://colab.research.google.com/github/bensenberner/airline-sentiment-prediction/blob/master/notebooks/Testing.ipynb\" target=\"_parent\"><img src=\"https://colab.research.google.com/assets/colab-badge.svg\" alt=\"Open In Colab\"/></a>"
      ]
    },
    {
      "cell_type": "markdown",
      "metadata": {
        "id": "dKXeTRosJKpl",
        "colab_type": "text"
      },
      "source": [
        "# Summary (of the airline data-only model):\n",
        "- Test accuracy is **83.2**\n",
        "- Model tends to misclassify neutral tweets as negative"
      ]
    },
    {
      "cell_type": "code",
      "metadata": {
        "id": "ReY9TQ1jt_XA",
        "colab_type": "code",
        "colab": {}
      },
      "source": [
        "from fastai.text import *\n",
        "from sklearn.model_selection import train_test_split\n",
        "from sklearn.metrics import confusion_matrix, accuracy_score, classification_report\n",
        "import pandas as pd\n",
        "data_path = 'drive/My Drive/airline-sentiment'\n",
        "bs=24\n",
        "\n",
        "# need to set a bunch of random seeds to ensure reproducibility\n",
        "seed=42\n",
        "import numpy\n",
        "numpy.random.seed(seed)\n",
        "import os\n",
        "os.environ['PYTHONHASHSEED']=str(seed)\n",
        "import random\n",
        "random.seed(seed)"
      ],
      "execution_count": 2,
      "outputs": []
    },
    {
      "cell_type": "code",
      "metadata": {
        "id": "GROTttawuEDI",
        "colab_type": "code",
        "colab": {}
      },
      "source": [
        "def plot_confusion_matrix(\n",
        "    y_true, y_pred, classes, normalize=False, title=None, cmap=plt.cm.Blues\n",
        "):\n",
        "    \"\"\"\n",
        "    This function prints and plots the confusion matrix.\n",
        "    Normalization can be applied by setting `normalize=True`.\n",
        "    \"\"\"\n",
        "    if not title:\n",
        "        if normalize:\n",
        "            title = 'Normalized confusion matrix'\n",
        "        else:\n",
        "            title = 'Confusion matrix, without normalization'\n",
        "\n",
        "    # Compute confusion matrix\n",
        "    cm = confusion_matrix(y_true, y_pred)\n",
        "    # Only use the labels that appear in the data\n",
        "    #classes = classes[unique_labels(y_true, y_pred)]\n",
        "\n",
        "    fig, ax = plt.subplots()\n",
        "    im = ax.imshow(cm, interpolation='nearest', cmap=cmap)\n",
        "    ax.figure.colorbar(im, ax=ax)\n",
        "    # We want to show all ticks...\n",
        "    ax.set(xticks=np.arange(cm.shape[1]),\n",
        "           yticks=np.arange(cm.shape[0]),\n",
        "           # ... and label them with the respective list entries\n",
        "           xticklabels=classes, yticklabels=classes,\n",
        "           title=title,\n",
        "           ylabel='True label',\n",
        "           xlabel='Predicted label')\n",
        "\n",
        "    # Rotate the tick labels and set their alignment.\n",
        "    plt.setp(ax.get_xticklabels(), rotation=45, ha=\"right\",\n",
        "             rotation_mode=\"anchor\")\n",
        "\n",
        "    # Loop over data dimensions and create text annotations.\n",
        "    fmt = '.2f' if normalize else 'd'\n",
        "    thresh = cm.max() / 2.\n",
        "    for i in range(cm.shape[0]):\n",
        "        for j in range(cm.shape[1]):\n",
        "            ax.text(j, i, format(cm[i, j], fmt),\n",
        "                    ha=\"center\", va=\"center\",\n",
        "                    color=\"white\" if cm[i, j] > thresh else \"black\")\n",
        "    fig.tight_layout()\n",
        "    plt.show()\n",
        "    return ax"
      ],
      "execution_count": 3,
      "outputs": []
    },
    {
      "cell_type": "markdown",
      "metadata": {
        "id": "WqQVlmD5-KA8",
        "colab_type": "text"
      },
      "source": [
        "# Airline-LM -> Airline Classifier\n",
        "## Created in [this notebook](https://colab.research.google.com/drive/1JajiCIdqAbJAOrRiRHrS99KTWjGnTf_8)\n",
        "1. Predict the class labels for every row in the test set. I couldn't find a good method for doing this in fastai (loading data in fastai necessarily results in shuffling the data around when performing inference, which was unexpected). I figured I should use scikit-learn so that I could work directly with the data rather than using fastai wrappers which hide the data\n",
        "2. Compute the [roc_auc score](https://scikit-learn.org/stable/modules/generated/sklearn.metrics.roc_auc_score.html) for the model, which better describes the performance of a multiclass model than mere accuracy\n",
        "3. Look at the confusion matrix\n",
        "4. Attempt to understand the mistakes the model made"
      ]
    },
    {
      "cell_type": "code",
      "metadata": {
        "id": "XFmgPB_Yq7oQ",
        "colab_type": "code",
        "colab": {}
      },
      "source": [
        "test_df = pd.read_csv(f'{data_path}/filtered_test.csv')"
      ],
      "execution_count": 6,
      "outputs": []
    },
    {
      "cell_type": "code",
      "metadata": {
        "id": "lKAFxRbpRwe5",
        "colab_type": "code",
        "colab": {}
      },
      "source": [
        "y_true = test_df['airline_sentiment']"
      ],
      "execution_count": 12,
      "outputs": []
    },
    {
      "cell_type": "code",
      "metadata": {
        "id": "xuD0siZ0mEOJ",
        "colab_type": "code",
        "colab": {
          "base_uri": "https://localhost:8080/",
          "height": 17
        },
        "outputId": "917e429c-5990-4f09-c256-8b04f29f448a"
      },
      "source": [
        "test_cls = load_learner(data_path, 'golden_cls')"
      ],
      "execution_count": null,
      "outputs": [
        {
          "output_type": "display_data",
          "data": {
            "text/html": [
              ""
            ],
            "text/plain": [
              "<IPython.core.display.HTML object>"
            ]
          },
          "metadata": {
            "tags": []
          }
        },
        {
          "output_type": "display_data",
          "data": {
            "text/html": [
              ""
            ],
            "text/plain": [
              "<IPython.core.display.HTML object>"
            ]
          },
          "metadata": {
            "tags": []
          }
        }
      ]
    },
    {
      "cell_type": "code",
      "metadata": {
        "id": "nNvx8vt33PEQ",
        "colab_type": "code",
        "colab": {
          "base_uri": "https://localhost:8080/",
          "height": 51
        },
        "outputId": "a275ce86-8429-4ed1-a9b8-e4fbb40d4f2e"
      },
      "source": [
        "%%time\n",
        "test_df_preds = [\n",
        "  test_cls.predict(text)\n",
        "  for idx, text in test_df['text'].items()\n",
        "]"
      ],
      "execution_count": null,
      "outputs": [
        {
          "output_type": "stream",
          "text": [
            "CPU times: user 3min 40s, sys: 1.11 s, total: 3min 41s\n",
            "Wall time: 3min 41s\n"
          ],
          "name": "stdout"
        }
      ]
    },
    {
      "cell_type": "code",
      "metadata": {
        "id": "GgVT791-XTRU",
        "colab_type": "code",
        "colab": {
          "base_uri": "https://localhost:8080/",
          "height": 71
        },
        "outputId": "a049dc9d-9602-4931-ade5-6ab80e0b6829"
      },
      "source": [
        "import pickle\n",
        "with open(f'{data_path}/test_df_preds_raw.pkl', 'wb') as f:\n",
        "  pickle.dump(test_df_preds, f, pickle.HIGHEST_PROTOCOL)"
      ],
      "execution_count": 11,
      "outputs": [
        {
          "output_type": "stream",
          "text": [
            "/usr/local/lib/python3.6/dist-packages/torch/storage.py:34: FutureWarning: pickle support for Storage will be removed in 1.5. Use `torch.save` instead\n",
            "  warnings.warn(\"pickle support for Storage will be removed in 1.5. Use `torch.save` instead\", FutureWarning)\n"
          ],
          "name": "stderr"
        }
      ]
    },
    {
      "cell_type": "code",
      "metadata": {
        "id": "UJaA0BDZaVbu",
        "colab_type": "code",
        "colab": {}
      },
      "source": [
        "with open(f'{data_path}/test_df_preds_raw.pkl', 'rb') as f:\n",
        "    test_df_preds = pickle.load(f)"
      ],
      "execution_count": 4,
      "outputs": []
    },
    {
      "cell_type": "code",
      "metadata": {
        "id": "WXnsL7F9bkIP",
        "colab_type": "code",
        "colab": {}
      },
      "source": [
        "classes = ['negative', 'neutral', 'positive']\n",
        "c2i = {classes[idx]: idx for idx in range(len(classes))}"
      ],
      "execution_count": 9,
      "outputs": []
    },
    {
      "cell_type": "code",
      "metadata": {
        "id": "cEBAXZkzb-Qy",
        "colab_type": "code",
        "colab": {
          "base_uri": "https://localhost:8080/",
          "height": 419
        },
        "outputId": "b567f612-3788-4800-f9ac-721d8f9eedef"
      },
      "source": [
        "y_score = np.array(\n",
        "    [row[2].numpy() for row in test_df_preds]\n",
        ")\n",
        "y_score.to_csv(f'{data_path}/test_preds.csv')\n",
        "y_score"
      ],
      "execution_count": 60,
      "outputs": [
        {
          "output_type": "execute_result",
          "data": {
            "text/html": [
              "<div>\n",
              "<style scoped>\n",
              "    .dataframe tbody tr th:only-of-type {\n",
              "        vertical-align: middle;\n",
              "    }\n",
              "\n",
              "    .dataframe tbody tr th {\n",
              "        vertical-align: top;\n",
              "    }\n",
              "\n",
              "    .dataframe thead th {\n",
              "        text-align: right;\n",
              "    }\n",
              "</style>\n",
              "<table border=\"1\" class=\"dataframe\">\n",
              "  <thead>\n",
              "    <tr style=\"text-align: right;\">\n",
              "      <th></th>\n",
              "      <th>negative</th>\n",
              "      <th>neutral</th>\n",
              "      <th>positive</th>\n",
              "    </tr>\n",
              "  </thead>\n",
              "  <tbody>\n",
              "    <tr>\n",
              "      <th>0</th>\n",
              "      <td>0.006222</td>\n",
              "      <td>0.006419</td>\n",
              "      <td>0.987359</td>\n",
              "    </tr>\n",
              "    <tr>\n",
              "      <th>1</th>\n",
              "      <td>0.944500</td>\n",
              "      <td>0.032219</td>\n",
              "      <td>0.023281</td>\n",
              "    </tr>\n",
              "    <tr>\n",
              "      <th>2</th>\n",
              "      <td>0.971989</td>\n",
              "      <td>0.013686</td>\n",
              "      <td>0.014325</td>\n",
              "    </tr>\n",
              "    <tr>\n",
              "      <th>3</th>\n",
              "      <td>0.022864</td>\n",
              "      <td>0.973220</td>\n",
              "      <td>0.003917</td>\n",
              "    </tr>\n",
              "    <tr>\n",
              "      <th>4</th>\n",
              "      <td>0.045395</td>\n",
              "      <td>0.904883</td>\n",
              "      <td>0.049722</td>\n",
              "    </tr>\n",
              "    <tr>\n",
              "      <th>...</th>\n",
              "      <td>...</td>\n",
              "      <td>...</td>\n",
              "      <td>...</td>\n",
              "    </tr>\n",
              "    <tr>\n",
              "      <th>1459</th>\n",
              "      <td>0.200856</td>\n",
              "      <td>0.284495</td>\n",
              "      <td>0.514649</td>\n",
              "    </tr>\n",
              "    <tr>\n",
              "      <th>1460</th>\n",
              "      <td>0.719159</td>\n",
              "      <td>0.181671</td>\n",
              "      <td>0.099170</td>\n",
              "    </tr>\n",
              "    <tr>\n",
              "      <th>1461</th>\n",
              "      <td>0.005528</td>\n",
              "      <td>0.019091</td>\n",
              "      <td>0.975381</td>\n",
              "    </tr>\n",
              "    <tr>\n",
              "      <th>1462</th>\n",
              "      <td>0.977795</td>\n",
              "      <td>0.011282</td>\n",
              "      <td>0.010923</td>\n",
              "    </tr>\n",
              "    <tr>\n",
              "      <th>1463</th>\n",
              "      <td>0.971892</td>\n",
              "      <td>0.022221</td>\n",
              "      <td>0.005888</td>\n",
              "    </tr>\n",
              "  </tbody>\n",
              "</table>\n",
              "<p>1464 rows × 3 columns</p>\n",
              "</div>"
            ],
            "text/plain": [
              "      negative   neutral  positive\n",
              "0     0.006222  0.006419  0.987359\n",
              "1     0.944500  0.032219  0.023281\n",
              "2     0.971989  0.013686  0.014325\n",
              "3     0.022864  0.973220  0.003917\n",
              "4     0.045395  0.904883  0.049722\n",
              "...        ...       ...       ...\n",
              "1459  0.200856  0.284495  0.514649\n",
              "1460  0.719159  0.181671  0.099170\n",
              "1461  0.005528  0.019091  0.975381\n",
              "1462  0.977795  0.011282  0.010923\n",
              "1463  0.971892  0.022221  0.005888\n",
              "\n",
              "[1464 rows x 3 columns]"
            ]
          },
          "metadata": {
            "tags": []
          },
          "execution_count": 60
        }
      ]
    },
    {
      "cell_type": "markdown",
      "metadata": {
        "id": "SLUgSNyfwmDO",
        "colab_type": "text"
      },
      "source": [
        "These classification scores for each of the three predicted labels contain richer information than the \"hard\" label of the argmax predicted label.\n",
        "\n",
        "It's possible that someone using this model might want to mess around with the thresholds for producing labels - for example, they might want to make sure that of all the times someone makes a positive tweet, this model picks up on it, even if that means the model erroneously misclassifies a few more negative/neutral tweets as positive, which amounts to lowering the threshold for classifying tweets as positive.\n",
        "\n",
        "To get a full picture of how this model would perform for different threshold settings, we compute the area under the receiver operating curve."
      ]
    },
    {
      "cell_type": "code",
      "metadata": {
        "id": "k83vitkpU0RQ",
        "colab_type": "code",
        "colab": {}
      },
      "source": [
        "y_score = pd.read_csv(f'{data_path}/test_preds.csv', index_col=0)"
      ],
      "execution_count": 59,
      "outputs": []
    },
    {
      "cell_type": "code",
      "metadata": {
        "id": "prcvhmmmZH45",
        "colab_type": "code",
        "colab": {}
      },
      "source": [
        "test_df['pred_sentiment'] = y_pred = pd.Series([str(row[0]) for row in test_df_preds])"
      ],
      "execution_count": 51,
      "outputs": []
    },
    {
      "cell_type": "markdown",
      "metadata": {
        "id": "aQcLunCyI_jN",
        "colab_type": "text"
      },
      "source": [
        "First, we need to create a 1-hot encoded matrix to represent the true labels of the test set"
      ]
    },
    {
      "cell_type": "code",
      "metadata": {
        "id": "IopJHAaScEvO",
        "colab_type": "code",
        "colab": {
          "base_uri": "https://localhost:8080/",
          "height": 170
        },
        "outputId": "750f2231-4053-4e2c-d9f1-a2b3bc3bc1fc"
      },
      "source": [
        "y_true_onehot = np.array(\n",
        "  [\n",
        "      [int(idx == c2i.get(sent)) for idx in range(3)]\n",
        "      for _, sent in test_df['airline_sentiment'].items()        \n",
        "  ]\n",
        ")\n",
        "y_true_onehot"
      ],
      "execution_count": 58,
      "outputs": [
        {
          "output_type": "execute_result",
          "data": {
            "text/plain": [
              "array([[0, 0, 1],\n",
              "       [1, 0, 0],\n",
              "       [1, 0, 0],\n",
              "       [0, 1, 0],\n",
              "       ...,\n",
              "       [0, 0, 1],\n",
              "       [0, 0, 1],\n",
              "       [1, 0, 0],\n",
              "       [1, 0, 0]])"
            ]
          },
          "metadata": {
            "tags": []
          },
          "execution_count": 58
        }
      ]
    },
    {
      "cell_type": "markdown",
      "metadata": {
        "id": "nctKlPqQISh5",
        "colab_type": "text"
      },
      "source": [
        "## Computing roc auc score"
      ]
    },
    {
      "cell_type": "code",
      "metadata": {
        "id": "q44RgpVRVUGw",
        "colab_type": "code",
        "colab": {
          "base_uri": "https://localhost:8080/",
          "height": 34
        },
        "outputId": "67b76d9c-dbc9-4827-a94c-38001faae6d6"
      },
      "source": [
        "from sklearn.metrics import roc_auc_score\n",
        "roc_auc_score(\n",
        "    y_true=y_true,\n",
        "    y_score=y_score,\n",
        "    average='weighted', # classes are imbalanced, so we weight by support\n",
        "    multi_class='ovr'\n",
        ")"
      ],
      "execution_count": 66,
      "outputs": [
        {
          "output_type": "execute_result",
          "data": {
            "text/plain": [
              "0.9322194486626809"
            ]
          },
          "metadata": {
            "tags": []
          },
          "execution_count": 66
        }
      ]
    },
    {
      "cell_type": "markdown",
      "metadata": {
        "id": "399zYyBrx1Ik",
        "colab_type": "text"
      },
      "source": [
        "A random model would have a score of 0.5, and a perfect model would have 1.0. So this looks pretty good!"
      ]
    },
    {
      "cell_type": "markdown",
      "metadata": {
        "id": "Fzvpsb4gS6Y5",
        "colab_type": "text"
      },
      "source": [
        "Accuracy is not a good measure since the classes are imbalanced - it might mask very poor performance on minority classes with exceptional performance on the majority class. Let's take a look at the full classification report."
      ]
    },
    {
      "cell_type": "markdown",
      "metadata": {
        "id": "ZhiofcO-IWlA",
        "colab_type": "text"
      },
      "source": [
        "## Classification Report"
      ]
    },
    {
      "cell_type": "code",
      "metadata": {
        "id": "uidjZgloK6Vb",
        "colab_type": "code",
        "colab": {
          "base_uri": "https://localhost:8080/",
          "height": 221
        },
        "outputId": "e08985ca-1ab1-4d86-8575-b92f9a4e57ce"
      },
      "source": [
        "print(classification_report(y_true=y_true, y_pred=test_df_label_preds))\n",
        "baseline_acc = test_df['airline_sentiment'].value_counts()['negative'] / test_df.shape[0]\n",
        "test_acc = accuracy_score(y_true, y_pred)\n",
        "print(f\"Model accuracy:\\t\\t\\t\\t\\t{test_acc}\")\n",
        "print(f\"Baseline accuracy (all preds are negative):\\t{baseline_acc}\")"
      ],
      "execution_count": 77,
      "outputs": [
        {
          "output_type": "stream",
          "text": [
            "              precision    recall  f1-score   support\n",
            "\n",
            "    negative       0.90      0.90      0.90       924\n",
            "     neutral       0.69      0.66      0.68       302\n",
            "    positive       0.76      0.79      0.77       238\n",
            "\n",
            "    accuracy                           0.83      1464\n",
            "   macro avg       0.78      0.78      0.78      1464\n",
            "weighted avg       0.83      0.83      0.83      1464\n",
            "\n",
            "Model accuracy:\t\t\t\t\t0.8326502732240437\n",
            "Baseline accuracy (all preds are negative):\t0.6311475409836066\n"
          ],
          "name": "stdout"
        }
      ]
    },
    {
      "cell_type": "markdown",
      "metadata": {
        "id": "EAIK01cHTYkx",
        "colab_type": "text"
      },
      "source": [
        "Despite having more support than positives, neutrals are the most difficult to classify correctly. This makes intuitive sense since neutrality is a \"borderline\" sentiment between positive and negative -- our classes are not independent, there isn't really such a thing as recognizable [\"distinctly neutral\" language](https://futurama.fandom.com/wiki/Neutral)\n",
        "\n",
        "The lower f1 score for neutrals and positives makes sense for two quantitative reasons:\n",
        "- Lower support than negatives\n",
        "- As stated in the exploratory data analysis, the labels of neutral and positive tweets were characterized by less confidence (defined by the `airline_sentiment_confidence` feature) than negative tweets. So it would make sense for the model to be correspondingly \"uncertain\" about these labels. In fact, the f1 scores of the classes correspond to the relative \"confidences\" of each of the labels."
      ]
    },
    {
      "cell_type": "code",
      "metadata": {
        "id": "e90gMBzUgg2Y",
        "colab_type": "code",
        "colab": {
          "base_uri": "https://localhost:8080/",
          "height": 314
        },
        "outputId": "99aa13ba-74a9-436b-f19c-c881ffff3dc4"
      },
      "source": [
        "plot_confusion_matrix(\n",
        "    y_true=y_true,\n",
        "    y_pred=test_df_label_preds,\n",
        "    classes=classes\n",
        ")"
      ],
      "execution_count": 22,
      "outputs": [
        {
          "output_type": "display_data",
          "data": {
            "image/png": "[encoded data removed]",
            "text/plain": [
              "<Figure size 432x288 with 2 Axes>"
            ]
          },
          "metadata": {
            "tags": [],
            "needs_background": "light"
          }
        },
        {
          "output_type": "execute_result",
          "data": {
            "text/plain": [
              "<matplotlib.axes._subplots.AxesSubplot at 0x7f045f5c7f60>"
            ]
          },
          "metadata": {
            "tags": []
          },
          "execution_count": 22
        }
      ]
    },
    {
      "cell_type": "markdown",
      "metadata": {
        "id": "sODImg1GUHLV",
        "colab_type": "text"
      },
      "source": [
        "Neutral and positive tweets are most often classified as negative. This makes sense because negative is the majority class, so there is a non-uniform prior regarding the sentiment of tweets.\n",
        "\n",
        "Let's look at some of these neutral tweets that were misclassified. Refer back to the exploratory data analysis notebook to get a sense of what \"neutrality\" means."
      ]
    },
    {
      "cell_type": "markdown",
      "metadata": {
        "id": "DO4MUQB2IbCE",
        "colab_type": "text"
      },
      "source": [
        "## Analysis of mistakes"
      ]
    },
    {
      "cell_type": "code",
      "metadata": {
        "id": "RlrWTUeDcLHL",
        "colab_type": "code",
        "colab": {}
      },
      "source": [
        "test_df_with_scores = test_df.join(y_score)"
      ],
      "execution_count": null,
      "outputs": []
    },
    {
      "cell_type": "code",
      "metadata": {
        "id": "lySSUd1pnF-I",
        "colab_type": "code",
        "colab": {
          "base_uri": "https://localhost:8080/",
          "height": 419
        },
        "outputId": "d9221935-83da-40fd-d8fb-dd037170e97e"
      },
      "source": [
        "true_neutral_pred_negative = test_df_with_scores[\n",
        "  (test_df_with_scores['airline_sentiment'] == 'neutral')\n",
        "  & (test_df_with_scores['pred_sentiment'] == 'negative')\n",
        "].sort_values(by='negative', ascending=False)\n",
        "true_neutral_pred_negative"
      ],
      "execution_count": 59,
      "outputs": [
        {
          "output_type": "execute_result",
          "data": {
            "text/html": [
              "<div>\n",
              "<style scoped>\n",
              "    .dataframe tbody tr th:only-of-type {\n",
              "        vertical-align: middle;\n",
              "    }\n",
              "\n",
              "    .dataframe tbody tr th {\n",
              "        vertical-align: top;\n",
              "    }\n",
              "\n",
              "    .dataframe thead th {\n",
              "        text-align: right;\n",
              "    }\n",
              "</style>\n",
              "<table border=\"1\" class=\"dataframe\">\n",
              "  <thead>\n",
              "    <tr style=\"text-align: right;\">\n",
              "      <th></th>\n",
              "      <th>airline_sentiment</th>\n",
              "      <th>text</th>\n",
              "      <th>pred_sentiment</th>\n",
              "      <th>negative</th>\n",
              "      <th>neutral</th>\n",
              "      <th>positive</th>\n",
              "    </tr>\n",
              "  </thead>\n",
              "  <tbody>\n",
              "    <tr>\n",
              "      <th>524</th>\n",
              "      <td>neutral</td>\n",
              "      <td>@AmericanAir the dinner and called me \"hon\". N...</td>\n",
              "      <td>negative</td>\n",
              "      <td>0.991260</td>\n",
              "      <td>0.008474</td>\n",
              "      <td>0.000267</td>\n",
              "    </tr>\n",
              "    <tr>\n",
              "      <th>1277</th>\n",
              "      <td>neutral</td>\n",
              "      <td>@AmericanAir the motor that usually starts the...</td>\n",
              "      <td>negative</td>\n",
              "      <td>0.989806</td>\n",
              "      <td>0.007213</td>\n",
              "      <td>0.002981</td>\n",
              "    </tr>\n",
              "    <tr>\n",
              "      <th>262</th>\n",
              "      <td>neutral</td>\n",
              "      <td>@united - Group 2 line gets longer every week....</td>\n",
              "      <td>negative</td>\n",
              "      <td>0.986852</td>\n",
              "      <td>0.010795</td>\n",
              "      <td>0.002353</td>\n",
              "    </tr>\n",
              "    <tr>\n",
              "      <th>130</th>\n",
              "      <td>neutral</td>\n",
              "      <td>@JetBlue try harder. Take a winners attitude t...</td>\n",
              "      <td>negative</td>\n",
              "      <td>0.985610</td>\n",
              "      <td>0.005565</td>\n",
              "      <td>0.008826</td>\n",
              "    </tr>\n",
              "    <tr>\n",
              "      <th>1341</th>\n",
              "      <td>neutral</td>\n",
              "      <td>@united ^JT is the ORD to PHL flight at 9:15 P...</td>\n",
              "      <td>negative</td>\n",
              "      <td>0.982672</td>\n",
              "      <td>0.017128</td>\n",
              "      <td>0.000200</td>\n",
              "    </tr>\n",
              "    <tr>\n",
              "      <th>...</th>\n",
              "      <td>...</td>\n",
              "      <td>...</td>\n",
              "      <td>...</td>\n",
              "      <td>...</td>\n",
              "      <td>...</td>\n",
              "      <td>...</td>\n",
              "    </tr>\n",
              "    <tr>\n",
              "      <th>650</th>\n",
              "      <td>neutral</td>\n",
              "      <td>@united 374 ORD to ROC. Fam came to see me at ...</td>\n",
              "      <td>negative</td>\n",
              "      <td>0.517043</td>\n",
              "      <td>0.264019</td>\n",
              "      <td>0.218938</td>\n",
              "    </tr>\n",
              "    <tr>\n",
              "      <th>1218</th>\n",
              "      <td>neutral</td>\n",
              "      <td>@USAirways really!??</td>\n",
              "      <td>negative</td>\n",
              "      <td>0.512897</td>\n",
              "      <td>0.259309</td>\n",
              "      <td>0.227793</td>\n",
              "    </tr>\n",
              "    <tr>\n",
              "      <th>764</th>\n",
              "      <td>neutral</td>\n",
              "      <td>@SouthwestAir employees spreading a bit of #Ma...</td>\n",
              "      <td>negative</td>\n",
              "      <td>0.511050</td>\n",
              "      <td>0.458484</td>\n",
              "      <td>0.030466</td>\n",
              "    </tr>\n",
              "    <tr>\n",
              "      <th>835</th>\n",
              "      <td>neutral</td>\n",
              "      <td>@USAirways @OBJ_3 even airlines are scheming t...</td>\n",
              "      <td>negative</td>\n",
              "      <td>0.439078</td>\n",
              "      <td>0.433077</td>\n",
              "      <td>0.127845</td>\n",
              "    </tr>\n",
              "    <tr>\n",
              "      <th>970</th>\n",
              "      <td>neutral</td>\n",
              "      <td>@USAirways : Maybe You Should Drive #usairways...</td>\n",
              "      <td>negative</td>\n",
              "      <td>0.392237</td>\n",
              "      <td>0.299823</td>\n",
              "      <td>0.307940</td>\n",
              "    </tr>\n",
              "  </tbody>\n",
              "</table>\n",
              "<p>67 rows × 6 columns</p>\n",
              "</div>"
            ],
            "text/plain": [
              "     airline_sentiment  ...  positive\n",
              "524            neutral  ...  0.000267\n",
              "1277           neutral  ...  0.002981\n",
              "262            neutral  ...  0.002353\n",
              "130            neutral  ...  0.008826\n",
              "1341           neutral  ...  0.000200\n",
              "...                ...  ...       ...\n",
              "650            neutral  ...  0.218938\n",
              "1218           neutral  ...  0.227793\n",
              "764            neutral  ...  0.030466\n",
              "835            neutral  ...  0.127845\n",
              "970            neutral  ...  0.307940\n",
              "\n",
              "[67 rows x 6 columns]"
            ]
          },
          "metadata": {
            "tags": []
          },
          "execution_count": 59
        }
      ]
    },
    {
      "cell_type": "code",
      "metadata": {
        "id": "kdjyItgXacsj",
        "colab_type": "code",
        "colab": {
          "base_uri": "https://localhost:8080/",
          "height": 207
        },
        "outputId": "ca0bbd6f-1795-4e7e-923a-4a5097e04e3a"
      },
      "source": [
        "for idx, text in true_neutral_pred_negative['text'].iloc[:10].items():\n",
        "  print(text)"
      ],
      "execution_count": 63,
      "outputs": [
        {
          "output_type": "stream",
          "text": [
            "@AmericanAir the dinner and called me \"hon\". Not the service I would expect from 1st class.  #disappointed\n",
            "@AmericanAir the motor that usually starts the engine is broke and @CVGairport ground crew failed to do it on time, per pilot #maintenance\n",
            "@united - Group 2 line gets longer every week. Almost no one left for Groups 3-5 anymore. Time to make Explorer Card Group 3?\n",
            "@JetBlue try harder. Take a winners attitude to your work.\n",
            "@united ^JT is the ORD to PHL flight at 9:15 PM (CDT) delayed? DM I'm kinda hoping not to be stranded at ORD either.\n",
            "@united you know what would be awesome? Providing us with complimentary entertainment on your flights. Especially those longer than 6 hours.\n",
            "@SouthwestAir  Tried to DM you, it won't let me as it says you are not following me.\n",
            "@JetBlue i'm getting info from the website, but needing to check it and the alerts would be much more beneficial.\n",
            "@JetBlue  Brazil to volunteer teaching english &amp; spanish to Poor children so they have a skills to improve their chances of a better life.\n",
            "@AmericanAir your message was delayed I just responded\n"
          ],
          "name": "stdout"
        }
      ]
    },
    {
      "cell_type": "markdown",
      "metadata": {
        "id": "ddS2rhRmbEIK",
        "colab_type": "text"
      },
      "source": [
        "Manual analysis of each of the top ten:\n",
        "1. Definitely a complaint, this is mislabeled\n",
        "2. Seems to be complaining about a failure to meet expectations, but I guess this is more of a statement of fact rather than a complaint. Still, the word \"failed\" is pretty negative, so I would say this is negative.\n",
        "3. Complaining about a line getting longer seems negative, even though they're offering a suggestion of how to improve. Not angry. Pointing out a problem but offering a solution is neutral, I guess.\n",
        "4. Encouraging jetblue to try harder implies that jetblue is not doing well enough. I would say this is negative.\n",
        "5. This person is asking a question, although they seem worried. I can see why this is a borderline neutral.\n",
        "6. This person is clearly dissatisfied with the lack of entertainment on long flights. I'd say this is a mislabel.\n",
        "7. This one doesn't seem *that* negative. A little inconvenienced, but handling the logistics of following doesn't seem as strong as \"my flight has been delayed for 18 hours, what the hell??\"\n",
        "8. This person is dissatisfied with something, but I guess it's neutral because they're not too angry\n",
        "9. This one seems...positive. But also random.\n",
        "10. This one does seem to be negative regarding msgs being delayed\n",
        "\n",
        "Of these top ten, I would say:\n",
        "5 were mislabeled, should've been negative\n",
        "1 was mislabeled and should've been positive\n",
        "4 were more \"statements of facts\" and weren't bringing invective down upon the airlines...but those statements weren't as neutral as a headline.\n",
        "\n",
        "Only the Brazil one strikes me as an obvious mistake (on the part of the labeler and the model). Maybe the presence of \"poor\" is what did it (e.g. 'poor customer service'?)"
      ]
    },
    {
      "cell_type": "markdown",
      "metadata": {
        "id": "llRDIqdI-T2Q",
        "colab_type": "text"
      },
      "source": [
        "# Airline+Sentiment-140-LM -> Airline Classifier\n",
        "## Created in [this notebook](https://colab.research.google.com/drive/1aUR5SMfSXNUaJgnhSpLhiMquWTjeir8K)\n",
        "I'll include a test of this classifier for the sake of completedness, although I don't have high hopes based on its performance on its own validation set."
      ]
    },
    {
      "cell_type": "code",
      "metadata": {
        "id": "LRYRMrGu-WQZ",
        "colab_type": "code",
        "colab": {
          "base_uri": "https://localhost:8080/",
          "height": 17
        },
        "outputId": "267c989c-a2ee-4427-9aaa-f65b0863d767"
      },
      "source": [
        "cls = load_learner(data_path, 'sent140_cls')"
      ],
      "execution_count": 4,
      "outputs": [
        {
          "output_type": "display_data",
          "data": {
            "text/html": [
              ""
            ],
            "text/plain": [
              "<IPython.core.display.HTML object>"
            ]
          },
          "metadata": {
            "tags": []
          }
        },
        {
          "output_type": "display_data",
          "data": {
            "text/html": [
              ""
            ],
            "text/plain": [
              "<IPython.core.display.HTML object>"
            ]
          },
          "metadata": {
            "tags": []
          }
        }
      ]
    },
    {
      "cell_type": "code",
      "metadata": {
        "id": "_g5ajKEJ-yGx",
        "colab_type": "code",
        "colab": {}
      },
      "source": [
        "test_df = pd.read_csv(f'{data_path}/filtered_test.csv')"
      ],
      "execution_count": 5,
      "outputs": []
    },
    {
      "cell_type": "code",
      "metadata": {
        "id": "_2U0LkQj-cDs",
        "colab_type": "code",
        "colab": {
          "base_uri": "https://localhost:8080/",
          "height": 105
        },
        "outputId": "f2b3ed21-2b01-4bb6-fe4f-e299e61d8607"
      },
      "source": [
        "%%time\n",
        "sent140_preds = [\n",
        "  cls.predict(text)\n",
        "  for idx, text in test_df['text'].items()\n",
        "]\n",
        "import pickle\n",
        "with open(f'{data_path}/sentiment140_test_preds.pkl', 'wb') as f:\n",
        "  pickle.dump(sent140_preds, f, pickle.HIGHEST_PROTOCOL)"
      ],
      "execution_count": 7,
      "outputs": [
        {
          "output_type": "stream",
          "text": [
            "CPU times: user 4min 18s, sys: 641 ms, total: 4min 19s\n",
            "Wall time: 4min 20s\n"
          ],
          "name": "stdout"
        },
        {
          "output_type": "stream",
          "text": [
            "/usr/local/lib/python3.6/dist-packages/torch/storage.py:34: FutureWarning: pickle support for Storage will be removed in 1.5. Use `torch.save` instead\n",
            "  warnings.warn(\"pickle support for Storage will be removed in 1.5. Use `torch.save` instead\", FutureWarning)\n"
          ],
          "name": "stderr"
        }
      ]
    },
    {
      "cell_type": "code",
      "metadata": {
        "id": "K410TSu--z8f",
        "colab_type": "code",
        "colab": {}
      },
      "source": [
        "sent140_y_scores = np.array(\n",
        "    [row[2].numpy() for row in sent140_preds]\n",
        ")"
      ],
      "execution_count": 11,
      "outputs": []
    },
    {
      "cell_type": "code",
      "metadata": {
        "id": "oL9U74JnBFLK",
        "colab_type": "code",
        "colab": {}
      },
      "source": [
        "sent140_y_pred = pd.Series([str(row[0]) for row in sent140_preds])"
      ],
      "execution_count": 13,
      "outputs": []
    },
    {
      "cell_type": "code",
      "metadata": {
        "id": "mfDPGJB7CDS8",
        "colab_type": "code",
        "colab": {}
      },
      "source": [
        "sent140_y_true = test_df['airline_sentiment'].apply(lambda x: c2i.get(x))"
      ],
      "execution_count": 24,
      "outputs": []
    },
    {
      "cell_type": "code",
      "metadata": {
        "id": "dDSKINYUBaOa",
        "colab_type": "code",
        "colab": {}
      },
      "source": [
        "sent140_onehot_y_true = np.array(\n",
        "  [\n",
        "      [int(idx == c2i.get(sent)) for idx in range(3)]\n",
        "      for _, sent in test_df['airline_sentiment'].items()        \n",
        "  ]\n",
        ")"
      ],
      "execution_count": 14,
      "outputs": []
    },
    {
      "cell_type": "code",
      "metadata": {
        "id": "294JwmtgBjMS",
        "colab_type": "code",
        "colab": {
          "base_uri": "https://localhost:8080/",
          "height": 34
        },
        "outputId": "e5ebafe9-70de-4607-fca3-8fbb0b4ce90e"
      },
      "source": [
        "from sklearn.metrics import roc_auc_score\n",
        "roc_auc_score(\n",
        "    y_true=sent140_onehot_y_true,\n",
        "    y_score=sent140_y_scores,\n",
        "    average='weighted', # classes are imbalanced, so we weight by support\n",
        "    multi_class='ovo'\n",
        ")"
      ],
      "execution_count": 23,
      "outputs": [
        {
          "output_type": "execute_result",
          "data": {
            "text/plain": [
              "0.582486083046876"
            ]
          },
          "metadata": {
            "tags": []
          },
          "execution_count": 23
        }
      ]
    },
    {
      "cell_type": "markdown",
      "metadata": {
        "id": "OJHyvYlFFMuq",
        "colab_type": "text"
      },
      "source": [
        "much worse than before."
      ]
    },
    {
      "cell_type": "code",
      "metadata": {
        "id": "rm5PrJAiBp9z",
        "colab_type": "code",
        "colab": {
          "base_uri": "https://localhost:8080/",
          "height": 187
        },
        "outputId": "e303cea9-8ec4-454e-fe8b-d9c79c4ca5b8"
      },
      "source": [
        "print(classification_report(y_true=test_df['airline_sentiment'], y_pred=sent140_y_pred))"
      ],
      "execution_count": 27,
      "outputs": [
        {
          "output_type": "stream",
          "text": [
            "              precision    recall  f1-score   support\n",
            "\n",
            "    negative       0.68      0.87      0.76       924\n",
            "     neutral       0.38      0.16      0.23       302\n",
            "    positive       0.34      0.20      0.25       238\n",
            "\n",
            "    accuracy                           0.62      1464\n",
            "   macro avg       0.46      0.41      0.41      1464\n",
            "weighted avg       0.56      0.62      0.57      1464\n",
            "\n"
          ],
          "name": "stdout"
        }
      ]
    },
    {
      "cell_type": "markdown",
      "metadata": {
        "id": "hKHXXuylEyHR",
        "colab_type": "text"
      },
      "source": [
        "Very bad at predicting the minority classes"
      ]
    },
    {
      "cell_type": "code",
      "metadata": {
        "id": "OVtkdyHUCE4Y",
        "colab_type": "code",
        "colab": {
          "base_uri": "https://localhost:8080/",
          "height": 314
        },
        "outputId": "d7bf3c39-f9eb-4e22-fb5e-1526b3f5ebc5"
      },
      "source": [
        "plot_confusion_matrix(\n",
        "    y_true=test_df['airline_sentiment'],\n",
        "    y_pred=sent140_y_pred,\n",
        "    classes=classes\n",
        ")"
      ],
      "execution_count": 28,
      "outputs": [
        {
          "output_type": "display_data",
          "data": {
            "image/png": "[encoded data removed]",
            "text/plain": [
              "<Figure size 432x288 with 2 Axes>"
            ]
          },
          "metadata": {
            "tags": [],
            "needs_background": "light"
          }
        },
        {
          "output_type": "execute_result",
          "data": {
            "text/plain": [
              "<matplotlib.axes._subplots.AxesSubplot at 0x7f2ba1324908>"
            ]
          },
          "metadata": {
            "tags": []
          },
          "execution_count": 28
        }
      ]
    },
    {
      "cell_type": "markdown",
      "metadata": {
        "id": "agNPRnMlE1M6",
        "colab_type": "text"
      },
      "source": [
        "Overpredicts the majority class, as described above"
      ]
    },
    {
      "cell_type": "code",
      "metadata": {
        "id": "Mw9oUPa7C-zG",
        "colab_type": "code",
        "colab": {
          "base_uri": "https://localhost:8080/",
          "height": 207
        },
        "outputId": "46dd805f-a785-4b64-8ca5-6d5655811bbb"
      },
      "source": [
        "import itertools\n",
        "for (_, text), scores in itertools.islice(zip(test_df['text'].items(), sent140_y_scores), 10):\n",
        "  print(f\"Scores:{scores}|{text}\")"
      ],
      "execution_count": 40,
      "outputs": [
        {
          "output_type": "stream",
          "text": [
            "Scores:[0.953346 0.029386 0.017268]|@SouthwestAir you're my early frontrunner for best airline! #oscars2016\n",
            "Scores:[0.922252 0.06513  0.012618]|@USAirways how is it that my flt to EWR was Cancelled Flightled yet flts to NYC from USAirways are still flying?\n",
            "Scores:[0.900395 0.005409 0.094197]|@JetBlue what is going on with your BDL to DCA flights yesterday and today?! Why is every single one getting delayed?\n",
            "Scores:[0.533777 0.407007 0.059216]|@JetBlue do they have to depart from Washington, D.C.??\n",
            "Scores:[0.979549 0.00416  0.016291]|@JetBlue I can probably find some of them. Are the ticket #s on there?\n",
            "Scores:[0.922707 0.062335 0.014958]|@united still waiting to hear back. My wallet was stolen from one of your planes so would appreciate a resolution here\n",
            "Scores:[0.95116  0.047479 0.00136 ]|@united Yes my flight was rebooked. I'm just losing trust in you if I want to get anywhere on time.\n",
            "Scores:[0.977116 0.015543 0.007342]|@JetBlue Thank you ! What about Paris ? Could we arrange something from there ?\n",
            "Scores:[0.79564  0.15352  0.050841]|@united not 100% sure, however my ticket included one checked bag, therefore this charge was extra and completely unanticipated.\n",
            "Scores:[0.801203 0.08975  0.109047]|@usairways great crew for flight 504 PHX to YVR tonight! Friendly, efficient. Awesome job.\n"
          ],
          "name": "stdout"
        }
      ]
    },
    {
      "cell_type": "markdown",
      "metadata": {
        "id": "QIBBuvT1EnHI",
        "colab_type": "text"
      },
      "source": [
        "Some of these are positive e.g \"thank you!\" and yet the classifier uniformly predicts that they are negative. Not good."
      ]
    }
  ]
}