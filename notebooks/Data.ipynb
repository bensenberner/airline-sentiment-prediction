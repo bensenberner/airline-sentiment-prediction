{
 "cells": [
  {
   "cell_type": "code",
   "execution_count": 115,
   "metadata": {},
   "outputs": [],
   "source": [
    "%reload_ext autoreload\n",
    "%autoreload 2\n",
    "%matplotlib inline\n",
    "from sklearn.model_selection import train_test_split\n",
    "import pandas as pd\n",
    "\n",
    "seed=42 # to ensure reproducibility\n",
    "import numpy\n",
    "numpy.random.seed(seed)\n",
    "import os\n",
    "os.environ['PYTHONHASHSEED']=str(seed)\n",
    "import random\n",
    "random.seed(seed)"
   ]
  },
  {
   "cell_type": "markdown",
   "metadata": {},
   "source": [
    "# Airline data\n",
    "## Performing train/test split"
   ]
  },
  {
   "cell_type": "code",
   "execution_count": 18,
   "metadata": {},
   "outputs": [],
   "source": [
    "full_data = pd.read_csv('data/Tweets.csv')"
   ]
  },
  {
   "cell_type": "code",
   "execution_count": 21,
   "metadata": {},
   "outputs": [
    {
     "data": {
      "text/plain": [
       "(14640, 15)"
      ]
     },
     "execution_count": 21,
     "metadata": {},
     "output_type": "execute_result"
    }
   ],
   "source": [
    "full_data.shape"
   ]
  },
  {
   "cell_type": "code",
   "execution_count": 30,
   "metadata": {},
   "outputs": [],
   "source": [
    "train, test = train_test_split(full_data, train_size=0.90, random_state=seed)"
   ]
  },
  {
   "cell_type": "code",
   "execution_count": 38,
   "metadata": {},
   "outputs": [],
   "source": [
    "train.to_csv(\"data/original_train.csv\")\n",
    "test.to_csv(\"data/original_test.csv\")"
   ]
  },
  {
   "cell_type": "code",
   "execution_count": null,
   "metadata": {},
   "outputs": [],
   "source": [
    "cols = [\"airline_sentiment\", \"text\"]\n",
    "train[cols].to_csv(\"data/filtered_train.csv\", index=False)\n",
    "test[cols].to_csv(\"data/filtered_test.csv\", index=False)\n",
    "train[\"text\"].to_csv(\"data/filtered_train_text.csv\", index=False)"
   ]
  },
  {
   "cell_type": "code",
   "execution_count": 101,
   "metadata": {},
   "outputs": [],
   "source": [
    "train = pd.read_csv('data/original_train.csv', index_col=0)"
   ]
  },
  {
   "cell_type": "code",
   "execution_count": 47,
   "metadata": {},
   "outputs": [
    {
     "data": {
      "text/html": [
       "<div>\n",
       "<style scoped>\n",
       "    .dataframe tbody tr th:only-of-type {\n",
       "        vertical-align: middle;\n",
       "    }\n",
       "\n",
       "    .dataframe tbody tr th {\n",
       "        vertical-align: top;\n",
       "    }\n",
       "\n",
       "    .dataframe thead th {\n",
       "        text-align: right;\n",
       "    }\n",
       "</style>\n",
       "<table border=\"1\" class=\"dataframe\">\n",
       "  <thead>\n",
       "    <tr style=\"text-align: right;\">\n",
       "      <th></th>\n",
       "      <th>tweet_id</th>\n",
       "      <th>airline_sentiment</th>\n",
       "      <th>airline_sentiment_confidence</th>\n",
       "      <th>negativereason</th>\n",
       "      <th>negativereason_confidence</th>\n",
       "      <th>airline</th>\n",
       "      <th>airline_sentiment_gold</th>\n",
       "      <th>name</th>\n",
       "      <th>negativereason_gold</th>\n",
       "      <th>retweet_count</th>\n",
       "      <th>text</th>\n",
       "      <th>tweet_coord</th>\n",
       "      <th>tweet_created</th>\n",
       "      <th>tweet_location</th>\n",
       "      <th>user_timezone</th>\n",
       "    </tr>\n",
       "  </thead>\n",
       "  <tbody>\n",
       "    <tr>\n",
       "      <th>1372</th>\n",
       "      <td>569753797704024065</td>\n",
       "      <td>negative</td>\n",
       "      <td>0.6851</td>\n",
       "      <td>Can't Tell</td>\n",
       "      <td>0.3596</td>\n",
       "      <td>United</td>\n",
       "      <td>NaN</td>\n",
       "      <td>JasonArbaugh</td>\n",
       "      <td>NaN</td>\n",
       "      <td>0</td>\n",
       "      <td>@united Yes I did.  We headed out to de-ice 5 ...</td>\n",
       "      <td>NaN</td>\n",
       "      <td>2015-02-22 23:01:05 -0800</td>\n",
       "      <td>NaN</td>\n",
       "      <td>NaN</td>\n",
       "    </tr>\n",
       "    <tr>\n",
       "      <th>14532</th>\n",
       "      <td>569603156927246336</td>\n",
       "      <td>negative</td>\n",
       "      <td>1.0000</td>\n",
       "      <td>Flight Booking Problems</td>\n",
       "      <td>0.6964</td>\n",
       "      <td>American</td>\n",
       "      <td>NaN</td>\n",
       "      <td>JasonShaw2</td>\n",
       "      <td>NaN</td>\n",
       "      <td>2</td>\n",
       "      <td>@AmericanAir missing a full days of work thank...</td>\n",
       "      <td>NaN</td>\n",
       "      <td>2015-02-22 13:02:29 -0800</td>\n",
       "      <td>Belleville</td>\n",
       "      <td>Eastern Time (US &amp; Canada)</td>\n",
       "    </tr>\n",
       "    <tr>\n",
       "      <th>10029</th>\n",
       "      <td>569564566272811008</td>\n",
       "      <td>negative</td>\n",
       "      <td>1.0000</td>\n",
       "      <td>Customer Service Issue</td>\n",
       "      <td>0.6774</td>\n",
       "      <td>US Airways</td>\n",
       "      <td>NaN</td>\n",
       "      <td>CDarnall1</td>\n",
       "      <td>NaN</td>\n",
       "      <td>0</td>\n",
       "      <td>@USAirways your mobile app is horrible!  Needs...</td>\n",
       "      <td>NaN</td>\n",
       "      <td>2015-02-22 10:29:09 -0800</td>\n",
       "      <td>Lexington, KY</td>\n",
       "      <td>Eastern Time (US &amp; Canada)</td>\n",
       "    </tr>\n",
       "    <tr>\n",
       "      <th>12087</th>\n",
       "      <td>570296986827694080</td>\n",
       "      <td>negative</td>\n",
       "      <td>1.0000</td>\n",
       "      <td>Flight Booking Problems</td>\n",
       "      <td>0.3606</td>\n",
       "      <td>American</td>\n",
       "      <td>NaN</td>\n",
       "      <td>lilirr</td>\n",
       "      <td>NaN</td>\n",
       "      <td>0</td>\n",
       "      <td>@AmericanAir Checked in on app since yesterday...</td>\n",
       "      <td>NaN</td>\n",
       "      <td>2015-02-24 10:59:31 -0800</td>\n",
       "      <td>NaN</td>\n",
       "      <td>Mountain Time (US &amp; Canada)</td>\n",
       "    </tr>\n",
       "    <tr>\n",
       "      <th>2087</th>\n",
       "      <td>569376145000390656</td>\n",
       "      <td>negative</td>\n",
       "      <td>1.0000</td>\n",
       "      <td>Customer Service Issue</td>\n",
       "      <td>1.0000</td>\n",
       "      <td>United</td>\n",
       "      <td>NaN</td>\n",
       "      <td>tweets1971</td>\n",
       "      <td>NaN</td>\n",
       "      <td>0</td>\n",
       "      <td>@united we have tried to change our flight THR...</td>\n",
       "      <td>NaN</td>\n",
       "      <td>2015-02-21 22:00:26 -0800</td>\n",
       "      <td>Boston</td>\n",
       "      <td>NaN</td>\n",
       "    </tr>\n",
       "  </tbody>\n",
       "</table>\n",
       "</div>"
      ],
      "text/plain": [
       "                 tweet_id airline_sentiment  airline_sentiment_confidence  \\\n",
       "1372   569753797704024065          negative                        0.6851   \n",
       "14532  569603156927246336          negative                        1.0000   \n",
       "10029  569564566272811008          negative                        1.0000   \n",
       "12087  570296986827694080          negative                        1.0000   \n",
       "2087   569376145000390656          negative                        1.0000   \n",
       "\n",
       "                negativereason  negativereason_confidence     airline  \\\n",
       "1372                Can't Tell                     0.3596      United   \n",
       "14532  Flight Booking Problems                     0.6964    American   \n",
       "10029   Customer Service Issue                     0.6774  US Airways   \n",
       "12087  Flight Booking Problems                     0.3606    American   \n",
       "2087    Customer Service Issue                     1.0000      United   \n",
       "\n",
       "      airline_sentiment_gold          name negativereason_gold  retweet_count  \\\n",
       "1372                     NaN  JasonArbaugh                 NaN              0   \n",
       "14532                    NaN    JasonShaw2                 NaN              2   \n",
       "10029                    NaN     CDarnall1                 NaN              0   \n",
       "12087                    NaN        lilirr                 NaN              0   \n",
       "2087                     NaN    tweets1971                 NaN              0   \n",
       "\n",
       "                                                    text tweet_coord  \\\n",
       "1372   @united Yes I did.  We headed out to de-ice 5 ...         NaN   \n",
       "14532  @AmericanAir missing a full days of work thank...         NaN   \n",
       "10029  @USAirways your mobile app is horrible!  Needs...         NaN   \n",
       "12087  @AmericanAir Checked in on app since yesterday...         NaN   \n",
       "2087   @united we have tried to change our flight THR...         NaN   \n",
       "\n",
       "                   tweet_created tweet_location                user_timezone  \n",
       "1372   2015-02-22 23:01:05 -0800            NaN                          NaN  \n",
       "14532  2015-02-22 13:02:29 -0800     Belleville   Eastern Time (US & Canada)  \n",
       "10029  2015-02-22 10:29:09 -0800  Lexington, KY   Eastern Time (US & Canada)  \n",
       "12087  2015-02-24 10:59:31 -0800            NaN  Mountain Time (US & Canada)  \n",
       "2087   2015-02-21 22:00:26 -0800         Boston                          NaN  "
      ]
     },
     "execution_count": 47,
     "metadata": {},
     "output_type": "execute_result"
    }
   ],
   "source": [
    "train.head()"
   ]
  },
  {
   "cell_type": "markdown",
   "metadata": {},
   "source": [
    "## Data cleanup"
   ]
  },
  {
   "cell_type": "markdown",
   "metadata": {},
   "source": [
    "### Any missing values in the key features?"
   ]
  },
  {
   "cell_type": "code",
   "execution_count": 40,
   "metadata": {},
   "outputs": [
    {
     "data": {
      "text/plain": [
       "negativereason_gold             13147\n",
       "airline_sentiment_gold          13140\n",
       "tweet_coord                     12250\n",
       "negativereason                   4922\n",
       "user_timezone                    4319\n",
       "tweet_location                   4251\n",
       "negativereason_confidence        3698\n",
       "tweet_created                       0\n",
       "text                                0\n",
       "retweet_count                       0\n",
       "name                                0\n",
       "airline                             0\n",
       "airline_sentiment_confidence        0\n",
       "airline_sentiment                   0\n",
       "tweet_id                            0\n",
       "dtype: int64"
      ]
     },
     "execution_count": 40,
     "metadata": {},
     "output_type": "execute_result"
    }
   ],
   "source": [
    "train.isnull().sum().sort_values(ascending = False)"
   ]
  },
  {
   "cell_type": "markdown",
   "metadata": {},
   "source": [
    "All we care about is text, airline_sentiment, and airline_confidence, none of which have null values. So we don't have to impute anything missing"
   ]
  },
  {
   "cell_type": "markdown",
   "metadata": {},
   "source": [
    "## Data Exploration\n",
    "### Class distribution"
   ]
  },
  {
   "cell_type": "code",
   "execution_count": 49,
   "metadata": {},
   "outputs": [],
   "source": [
    "def value_count_proportions(series):\n",
    "    num_rows = len(series)\n",
    "    return {\n",
    "        value: (count / num_rows)\n",
    "        for value, count\n",
    "        in series.value_counts().items()\n",
    "    }"
   ]
  },
  {
   "cell_type": "code",
   "execution_count": 97,
   "metadata": {},
   "outputs": [
    {
     "data": {
      "text/plain": [
       "{'negative': 0.6264420157862781,\n",
       " 'neutral': 0.21227990285367335,\n",
       " 'positive': 0.16127808136004856}"
      ]
     },
     "execution_count": 97,
     "metadata": {},
     "output_type": "execute_result"
    }
   ],
   "source": [
    "airline_sent_proportions = value_count_proportions(train['airline_sentiment'])\n",
    "airline_sent_proportions"
   ]
  },
  {
   "cell_type": "markdown",
   "metadata": {},
   "source": [
    "Clearly, we can see this data is imbalanced. But that makes sense: people generally tweet at airline companies to lodge complaints, not to heap praise for safe flights.\n",
    "#### I will preserve this class imbalance since it represents the world (and, most likely, the test set that I created above).\n",
    "\n",
    "Now, let's see how the confidences are distributed within the different sentiments."
   ]
  },
  {
   "cell_type": "code",
   "execution_count": 87,
   "metadata": {},
   "outputs": [],
   "source": [
    "import seaborn as sns\n",
    "import matplotlib.pyplot as plt"
   ]
  },
  {
   "cell_type": "code",
   "execution_count": 89,
   "metadata": {},
   "outputs": [],
   "source": [
    "sent_to_conf = {\n",
    "    sentiment: train[train[\"airline_sentiment\"] == sentiment][\n",
    "        \"airline_sentiment_confidence\"\n",
    "    ]\n",
    "    for sentiment in [\"positive\", \"neutral\", \"negative\"]\n",
    "}"
   ]
  },
  {
   "cell_type": "code",
   "execution_count": 81,
   "metadata": {},
   "outputs": [
    {
     "data": {
      "text/plain": [
       "<matplotlib.axes._subplots.AxesSubplot at 0x7ffd2310f250>"
      ]
     },
     "execution_count": 81,
     "metadata": {},
     "output_type": "execute_result"
    },
    {
     "data": {
      "image/png": "[encoded data removed]",
      "text/plain": [
       "<Figure size 432x288 with 1 Axes>"
      ]
     },
     "metadata": {
      "needs_background": "light"
     },
     "output_type": "display_data"
    }
   ],
   "source": [
    "sns.kdeplot(sent_to_conf[\"positive\"], label=\"positive\", color=\"b\")\n",
    "sns.kdeplot(sent_to_conf[\"neutral\"], label=\"neutral\", color=\"y\")\n",
    "sns.kdeplot(sent_to_conf[\"negative\"], label=\"negative\", color=\"r\")"
   ]
  },
  {
   "cell_type": "markdown",
   "metadata": {},
   "source": [
    "Vaguely trimodal. I don't know how these confidences were generated.\n",
    "\n",
    "Looks like there is more uncertainty around neutral / positive data (the minority classes).\n",
    "The data is most confident about negative labels, less confident about positive labels, and least confident about neutral labels."
   ]
  },
  {
   "cell_type": "markdown",
   "metadata": {},
   "source": [
    "## Exploring what a \"typical\" tweet looks like of each sentiment"
   ]
  },
  {
   "cell_type": "code",
   "execution_count": 110,
   "metadata": {},
   "outputs": [],
   "source": [
    "def print_top_10_sorted_tweets_with_sentiment(sentiment):\n",
    "    top_rows = train[train[\"airline_sentiment\"] == sentiment].sort_values(\n",
    "        by=\"airline_sentiment_confidence\", ascending=False\n",
    "    )\n",
    "    for _, tweet in top_rows[\"text\"].iloc[:10].items():\n",
    "        print(tweet)"
   ]
  },
  {
   "cell_type": "markdown",
   "metadata": {},
   "source": [
    "### Negative"
   ]
  },
  {
   "cell_type": "code",
   "execution_count": 111,
   "metadata": {},
   "outputs": [
    {
     "name": "stdout",
     "output_type": "stream",
     "text": [
      "@united we would...how do I contact you to discuss? A few poor experiences with customer service but would give it a shot!\n",
      "@SouthwestAir customer svc worse than the #WinterWeather !  Flight Cancelled Flighted, website malfunction, on hold for &gt;1:34. http://t.co/PgwUkrpMOx\n",
      "@VirginAmerica I'm trying to check into my 10:50AM CT flight tmm on the desktop website and it's not working (some sort of caching bug) SOS\n",
      "@JetBlue not an issue but I think training &amp; information would help. Great ppl but service needs to switch from individual to group better\n",
      "@USAirways no. Other than being on my credit card statement, I have not received anything from you and so I have no way to look it up myself\n",
      "@united what if business as usual meant dropping the bully mentality and fostering inspiration for a greater business #EmployeeRelations\n",
      "@SouthwestAir you Cancelled Flightled my flight to BNA. I have flight from BNA 2 MDW tomorrow AM. You stranded me in DEN. I've been on hold all day\n",
      "@USAirways I've been on hold for 30 minutes and counting. #unacceptable\n",
      "@AmericanAir yes, and rebooked incorrectly.\n",
      "@united Why was I forced to check my rollaboard on UA 715? Plenty of room in the overhead next to my seat. http://t.co/5xvNnmLTiW\n"
     ]
    }
   ],
   "source": [
    "print_top_10_sorted_tweets_with_sentiment('negative')"
   ]
  },
  {
   "cell_type": "markdown",
   "metadata": {},
   "source": [
    "Complaints relating to:\n",
    "- customer service frustrations (during discussion, getting a hold of them)\n",
    "- Flight cancellations\n",
    "- Checkins not working\n",
    "- Rebooking not working\n",
    "- Airlines \"bullying\" employees\n",
    "\n",
    "Sounds about right"
   ]
  },
  {
   "cell_type": "markdown",
   "metadata": {},
   "source": [
    "### Neutral"
   ]
  },
  {
   "cell_type": "code",
   "execution_count": 112,
   "metadata": {},
   "outputs": [
    {
     "name": "stdout",
     "output_type": "stream",
     "text": [
      "@AmericanAir What are Preferred Seats?\n",
      "@USAirways @AmericanAir Flying from Orlando to Philly to Charlotte to Lynchburg. Saw advisory re Philly. Wld like to fly from Orl to Char\n",
      "@USAirways how do I reserve my seat on the AA flight I transfer to from ORD to EVV?\n",
      "@AmericanAir You guys are the talk of the Americans down here in Ecuador! Read this! https://t.co/5ON3KlzVMT\n",
      "@USAirways call Gate D9 in CLT and get me on this flight\n",
      "@united A3 Gold. So the international baggage limit apply when booked on 1 ticket,even for a domestic leg?  What if I travel with 2 friends?\n",
      "@united Was on NH10 on United ticket, rerouted to IAD due to weather in JFK. Can you get us home on United 5713 or 3277?\n",
      "😂😂 RT @JetBlue: Our fleet's on fleek. http://t.co/rinzYSK6kI\n",
      "@united I need the phone number to baggage claim in LAX, my mom left her phone and someone called saying they would put it there but on\n",
      "@JetBlue's CEO battles to appease passengers and Wall Street - Lake Wylie #Pilot http://t.co/jgor0vdI3S\n"
     ]
    }
   ],
   "source": [
    "print_top_10_sorted_tweets_with_sentiment('neutral')"
   ]
  },
  {
   "cell_type": "markdown",
   "metadata": {},
   "source": [
    "- Customer questions / requests\n",
    "- Headlines\n",
    "\n",
    "I'm not sure about some of these.\n",
    "\"@AmericanAir You guys are the talk of the Americans down here in Ecuador! Read this!\"\n",
    "  -- this sounds pretty positive...\"talk of the town\" is a positive phrase\n",
    "😂😂 is pretty positive too\n",
    "but I guess the rest of them don't have very emotional language (although you can tell the person issuing the command to \"get me on this flight\" is probably a little stressed)\n",
    "\n",
    "Wouldn't say that there is any sort of distinctive language / key words that define \"neutral.\" Maybe the question mark character?"
   ]
  },
  {
   "cell_type": "markdown",
   "metadata": {},
   "source": [
    "### Positive"
   ]
  },
  {
   "cell_type": "code",
   "execution_count": 113,
   "metadata": {},
   "outputs": [
    {
     "name": "stdout",
     "output_type": "stream",
     "text": [
      "@SouthwestAir replacing @vitaminwater with beer! Bravo!👏👏 Cheers! 🍻🍻 @Leinenkugels @DosEquis @FatTire\n",
      "@united  Thank you for a wonderful global first class flight on your 777 to FRA. Great service. (cont) http://t.co/46n9kDcsxU\n",
      "@AmericanAir Joanne from your San Diego staff was phenomenal! Give that girl a raise. She handled our #flightnightmare better than anyone.\n",
      "@USAirways please give Tara G a pat on the back and praise.  She was very very helpful.  She is at PHL member lounge\n",
      "@JetBlue Love you, bae. #JetBae\n",
      "@SouthwestAir 👏👏👏 on that Late Flightst ad. Makes me happy to be flying you in a few days. #BETHonors\n",
      "@JetBlue thanks. Line moved quick. Already done.\n",
      "@SouthwestAir is the best airline hands down. Amazing customer service, bags free and affordable flights. #happycamper\n",
      "@JetBlue here you go... Your napkins pretty much say it all! http://t.co/OxY1Jnpjm3\n",
      "@SouthwestAir All's well. I got comped with multiple other bags which just made my day! http://t.co/1AAVvoREpH\n"
     ]
    }
   ],
   "source": [
    "print_top_10_sorted_tweets_with_sentiment('positive')"
   ]
  },
  {
   "cell_type": "markdown",
   "metadata": {},
   "source": [
    "- good customer service\n",
    "- Thanks to flight staff\n",
    "- praise\n",
    "- happy to be flying\n",
    "- convenience of amenities"
   ]
  },
  {
   "cell_type": "markdown",
   "metadata": {},
   "source": [
    "# Sentiment-140\n",
    "Since one of the easiest ways to improve a model is to train with more data, I figured I could try using additional tweets for this task. I couldn't find another dataset of tweets specifically related to airlines.\n",
    "\n",
    "The [sentiment 140 dataset](https://www.kaggle.com/kazanova/sentiment140) contains more generic tweets. They are also labeled by sentiment - there are only positive and negative tweets, as opposed to the airline dataset, which includes positive, negative, and neutral tweets.\n",
    "\n",
    "I don't want to blindly merge sentiment-140 with the airline dataset for a few reasons:\n",
    "- Sentiment-140 is much larger (1.6M rows) than the airline dataset (14k rows). If I were to train a language model on such a combined dataset, then it would probably learn a lot more about how to represent generic conversations on twitter than specifically how to represent airline-directed tweets. I want the language model to create a good latent representation of airline-specific tweets.\n",
    "- Different distribution of labels. As you can see below, the ratio of negative : positive tweets in sentiment-140 (1:1) is different than it is in the airline dataset (3:1). Since I sampled the test dataset uniformly randomly from the original dataset, I need to make sure that the distribution of labels in train matches that in test.\n",
    "- Different meaning of the labels. I imagine that the negative airline sentiments are specifically focused on frustration and anger, whereas the sentiment-140 dataset probably includes a wider swath of negative emotions - depression, melancholy, anxiety, etc. This means that the 'negative' label in the sentiment-140 dataset probably represents something different than the 'negative' label in the airline dataset.\n",
    "\n",
    "Therefore, I will only use the sentiment-140 dataset to augment the training of the language model, to give it a better understanding of twitter vernacular and move it further from formal wikipedia English, but **I won't use it to train the derivative classifier.**"
   ]
  },
  {
   "cell_type": "code",
   "execution_count": 37,
   "metadata": {},
   "outputs": [],
   "source": [
    "sentiment_140_full = pd.read_csv('data/trimmed_sentiment_140.csv')"
   ]
  },
  {
   "cell_type": "code",
   "execution_count": 118,
   "metadata": {},
   "outputs": [
    {
     "data": {
      "text/html": [
       "<div>\n",
       "<style scoped>\n",
       "    .dataframe tbody tr th:only-of-type {\n",
       "        vertical-align: middle;\n",
       "    }\n",
       "\n",
       "    .dataframe tbody tr th {\n",
       "        vertical-align: top;\n",
       "    }\n",
       "\n",
       "    .dataframe thead th {\n",
       "        text-align: right;\n",
       "    }\n",
       "</style>\n",
       "<table border=\"1\" class=\"dataframe\">\n",
       "  <thead>\n",
       "    <tr style=\"text-align: right;\">\n",
       "      <th></th>\n",
       "      <th>target</th>\n",
       "      <th>text</th>\n",
       "    </tr>\n",
       "  </thead>\n",
       "  <tbody>\n",
       "    <tr>\n",
       "      <th>0</th>\n",
       "      <td>0</td>\n",
       "      <td>@switchfoot http://twitpic.com/2y1zl - Awww, t...</td>\n",
       "    </tr>\n",
       "    <tr>\n",
       "      <th>1</th>\n",
       "      <td>0</td>\n",
       "      <td>is upset that he can't update his Facebook by ...</td>\n",
       "    </tr>\n",
       "    <tr>\n",
       "      <th>2</th>\n",
       "      <td>0</td>\n",
       "      <td>@Kenichan I dived many times for the ball. Man...</td>\n",
       "    </tr>\n",
       "    <tr>\n",
       "      <th>3</th>\n",
       "      <td>0</td>\n",
       "      <td>my whole body feels itchy and like its on fire</td>\n",
       "    </tr>\n",
       "    <tr>\n",
       "      <th>4</th>\n",
       "      <td>0</td>\n",
       "      <td>@nationwideclass no, it's not behaving at all....</td>\n",
       "    </tr>\n",
       "    <tr>\n",
       "      <th>...</th>\n",
       "      <td>...</td>\n",
       "      <td>...</td>\n",
       "    </tr>\n",
       "    <tr>\n",
       "      <th>1599995</th>\n",
       "      <td>4</td>\n",
       "      <td>Just woke up. Having no school is the best fee...</td>\n",
       "    </tr>\n",
       "    <tr>\n",
       "      <th>1599996</th>\n",
       "      <td>4</td>\n",
       "      <td>TheWDB.com - Very cool to hear old Walt interv...</td>\n",
       "    </tr>\n",
       "    <tr>\n",
       "      <th>1599997</th>\n",
       "      <td>4</td>\n",
       "      <td>Are you ready for your MoJo Makeover? Ask me f...</td>\n",
       "    </tr>\n",
       "    <tr>\n",
       "      <th>1599998</th>\n",
       "      <td>4</td>\n",
       "      <td>Happy 38th Birthday to my boo of alll time!!! ...</td>\n",
       "    </tr>\n",
       "    <tr>\n",
       "      <th>1599999</th>\n",
       "      <td>4</td>\n",
       "      <td>happy #charitytuesday @theNSPCC @SparksCharity...</td>\n",
       "    </tr>\n",
       "  </tbody>\n",
       "</table>\n",
       "<p>1600000 rows × 2 columns</p>\n",
       "</div>"
      ],
      "text/plain": [
       "         target                                               text\n",
       "0             0  @switchfoot http://twitpic.com/2y1zl - Awww, t...\n",
       "1             0  is upset that he can't update his Facebook by ...\n",
       "2             0  @Kenichan I dived many times for the ball. Man...\n",
       "3             0    my whole body feels itchy and like its on fire \n",
       "4             0  @nationwideclass no, it's not behaving at all....\n",
       "...         ...                                                ...\n",
       "1599995       4  Just woke up. Having no school is the best fee...\n",
       "1599996       4  TheWDB.com - Very cool to hear old Walt interv...\n",
       "1599997       4  Are you ready for your MoJo Makeover? Ask me f...\n",
       "1599998       4  Happy 38th Birthday to my boo of alll time!!! ...\n",
       "1599999       4  happy #charitytuesday @theNSPCC @SparksCharity...\n",
       "\n",
       "[1600000 rows x 2 columns]"
      ]
     },
     "execution_count": 118,
     "metadata": {},
     "output_type": "execute_result"
    }
   ],
   "source": [
    "sentiment_140_full"
   ]
  },
  {
   "cell_type": "code",
   "execution_count": 32,
   "metadata": {},
   "outputs": [
    {
     "data": {
      "text/plain": [
       "(1600000, 2)"
      ]
     },
     "execution_count": 32,
     "metadata": {},
     "output_type": "execute_result"
    }
   ],
   "source": [
    "sentiment_140_full.shape"
   ]
  },
  {
   "cell_type": "code",
   "execution_count": 27,
   "metadata": {},
   "outputs": [
    {
     "data": {
      "text/plain": [
       "4    800000\n",
       "0    800000\n",
       "Name: target, dtype: int64"
      ]
     },
     "execution_count": 27,
     "metadata": {},
     "output_type": "execute_result"
    }
   ],
   "source": [
    "sentiment_140_full.target.value_counts()"
   ]
  },
  {
   "cell_type": "markdown",
   "metadata": {},
   "source": [
    "# Joining airline tweets with sentiment 140\n",
    "Sentiment 140 contains only positive and negatively-sentimented tweets, no neutrals.\n",
    "I want to combine sentiment 140 with the airline data, but not too many that the airline tweets will be crowded out.\n",
    "What I'll do is create a new dataset, which contains as many positive sentiment140 tweets as there are positive airline tweets, same for negative.\n",
    "\n",
    "I'll simply double the airline neutrals so that **the ratio of airline:sentiment140 is 1:1 and the ratio of positive : neutral : negative is the same as it is in the airline dataset**"
   ]
  },
  {
   "cell_type": "code",
   "execution_count": 116,
   "metadata": {},
   "outputs": [],
   "source": [
    "# https://www.kaggle.com/kazanova/sentiment140\n",
    "NEGATIVE_LABEL = 0\n",
    "POSITIVE_LABEL = 4"
   ]
  },
  {
   "cell_type": "code",
   "execution_count": 78,
   "metadata": {},
   "outputs": [
    {
     "data": {
      "text/html": [
       "<div>\n",
       "<style scoped>\n",
       "    .dataframe tbody tr th:only-of-type {\n",
       "        vertical-align: middle;\n",
       "    }\n",
       "\n",
       "    .dataframe tbody tr th {\n",
       "        vertical-align: top;\n",
       "    }\n",
       "\n",
       "    .dataframe thead th {\n",
       "        text-align: right;\n",
       "    }\n",
       "</style>\n",
       "<table border=\"1\" class=\"dataframe\">\n",
       "  <thead>\n",
       "    <tr style=\"text-align: right;\">\n",
       "      <th></th>\n",
       "      <th>airline_sentiment</th>\n",
       "      <th>text</th>\n",
       "    </tr>\n",
       "  </thead>\n",
       "  <tbody>\n",
       "    <tr>\n",
       "      <th>1072846</th>\n",
       "      <td>positive</td>\n",
       "      <td>@yvettenicole hi by the way.</td>\n",
       "    </tr>\n",
       "    <tr>\n",
       "      <th>1006546</th>\n",
       "      <td>positive</td>\n",
       "      <td>http://twitpic.com/5ok2z - lï¿½ngos yummy.. an...</td>\n",
       "    </tr>\n",
       "    <tr>\n",
       "      <th>1599823</th>\n",
       "      <td>positive</td>\n",
       "      <td>guilty pleasure - yikes  i wish i could afford...</td>\n",
       "    </tr>\n",
       "    <tr>\n",
       "      <th>813794</th>\n",
       "      <td>positive</td>\n",
       "      <td>@mileycyrus p.s. i love you too</td>\n",
       "    </tr>\n",
       "    <tr>\n",
       "      <th>1582547</th>\n",
       "      <td>positive</td>\n",
       "      <td>@heartmisuse I have 22,646 followers on one of...</td>\n",
       "    </tr>\n",
       "    <tr>\n",
       "      <th>...</th>\n",
       "      <td>...</td>\n",
       "      <td>...</td>\n",
       "    </tr>\n",
       "    <tr>\n",
       "      <th>1128195</th>\n",
       "      <td>positive</td>\n",
       "      <td>Iphone users, lol...Sonic is in the app store!...</td>\n",
       "    </tr>\n",
       "    <tr>\n",
       "      <th>1292841</th>\n",
       "      <td>positive</td>\n",
       "      <td>flatmates are all out, house to myself! make s...</td>\n",
       "    </tr>\n",
       "    <tr>\n",
       "      <th>1292742</th>\n",
       "      <td>positive</td>\n",
       "      <td>@iamMarkRonson heres a reply... now that you h...</td>\n",
       "    </tr>\n",
       "    <tr>\n",
       "      <th>844598</th>\n",
       "      <td>positive</td>\n",
       "      <td>4:20  im not too old at all, where's that burn...</td>\n",
       "    </tr>\n",
       "    <tr>\n",
       "      <th>1507422</th>\n",
       "      <td>positive</td>\n",
       "      <td>@wearewatchingu Get 100 followers a day using ...</td>\n",
       "    </tr>\n",
       "  </tbody>\n",
       "</table>\n",
       "<p>2125 rows × 2 columns</p>\n",
       "</div>"
      ],
      "text/plain": [
       "        airline_sentiment                                               text\n",
       "1072846          positive                      @yvettenicole hi by the way. \n",
       "1006546          positive  http://twitpic.com/5ok2z - lï¿½ngos yummy.. an...\n",
       "1599823          positive  guilty pleasure - yikes  i wish i could afford...\n",
       "813794           positive                   @mileycyrus p.s. i love you too \n",
       "1582547          positive  @heartmisuse I have 22,646 followers on one of...\n",
       "...                   ...                                                ...\n",
       "1128195          positive  Iphone users, lol...Sonic is in the app store!...\n",
       "1292841          positive  flatmates are all out, house to myself! make s...\n",
       "1292742          positive  @iamMarkRonson heres a reply... now that you h...\n",
       "844598           positive  4:20  im not too old at all, where's that burn...\n",
       "1507422          positive  @wearewatchingu Get 100 followers a day using ...\n",
       "\n",
       "[2125 rows x 2 columns]"
      ]
     },
     "execution_count": 78,
     "metadata": {},
     "output_type": "execute_result"
    }
   ],
   "source": [
    "sent140_positive = (\n",
    "    # get all positive sent140 tweets\n",
    "    sentiment_140_full[sentiment_140_full['target'] == POSITIVE_LABEL]\n",
    "    # get as many sent140 positives as there were airline positives\n",
    "    .sample(\n",
    "        train['airline_sentiment'].value_counts()['positive']\n",
    "    )\n",
    "    .rename(columns={'target': 'airline_sentiment'})\n",
    "    .replace({POSITIVE_LABEL: 'positive', NEGATIVE_LABEL: 'negative'})\n",
    ")\n",
    "sent140_positive"
   ]
  },
  {
   "cell_type": "code",
   "execution_count": 79,
   "metadata": {},
   "outputs": [
    {
     "data": {
      "text/html": [
       "<div>\n",
       "<style scoped>\n",
       "    .dataframe tbody tr th:only-of-type {\n",
       "        vertical-align: middle;\n",
       "    }\n",
       "\n",
       "    .dataframe tbody tr th {\n",
       "        vertical-align: top;\n",
       "    }\n",
       "\n",
       "    .dataframe thead th {\n",
       "        text-align: right;\n",
       "    }\n",
       "</style>\n",
       "<table border=\"1\" class=\"dataframe\">\n",
       "  <thead>\n",
       "    <tr style=\"text-align: right;\">\n",
       "      <th></th>\n",
       "      <th>airline_sentiment</th>\n",
       "      <th>text</th>\n",
       "    </tr>\n",
       "  </thead>\n",
       "  <tbody>\n",
       "    <tr>\n",
       "      <th>442888</th>\n",
       "      <td>negative</td>\n",
       "      <td>For some reason I feel a bit upset that the in...</td>\n",
       "    </tr>\n",
       "    <tr>\n",
       "      <th>20906</th>\n",
       "      <td>negative</td>\n",
       "      <td>@ianshepherd First of many no doubt</td>\n",
       "    </tr>\n",
       "    <tr>\n",
       "      <th>575540</th>\n",
       "      <td>negative</td>\n",
       "      <td>omg, i would like to be in texas also!  i mean...</td>\n",
       "    </tr>\n",
       "    <tr>\n",
       "      <th>603680</th>\n",
       "      <td>negative</td>\n",
       "      <td>@ShoesforGeorgia so did mine  but technically ...</td>\n",
       "    </tr>\n",
       "    <tr>\n",
       "      <th>368306</th>\n",
       "      <td>negative</td>\n",
       "      <td>@john_lo The audio wasn't recording</td>\n",
       "    </tr>\n",
       "    <tr>\n",
       "      <th>...</th>\n",
       "      <td>...</td>\n",
       "      <td>...</td>\n",
       "    </tr>\n",
       "    <tr>\n",
       "      <th>781978</th>\n",
       "      <td>negative</td>\n",
       "      <td>my indentation issue is gone now, and I really...</td>\n",
       "    </tr>\n",
       "    <tr>\n",
       "      <th>469966</th>\n",
       "      <td>negative</td>\n",
       "      <td>I messed up the colour on my TV @yelyahwilliam...</td>\n",
       "    </tr>\n",
       "    <tr>\n",
       "      <th>316499</th>\n",
       "      <td>negative</td>\n",
       "      <td>Need to do the week's food shopping as the cup...</td>\n",
       "    </tr>\n",
       "    <tr>\n",
       "      <th>30161</th>\n",
       "      <td>negative</td>\n",
       "      <td>sick! fever-ish, flu-ish, headache-ish</td>\n",
       "    </tr>\n",
       "    <tr>\n",
       "      <th>717547</th>\n",
       "      <td>negative</td>\n",
       "      <td>Watching csi:miami..i want to go home! I miss ...</td>\n",
       "    </tr>\n",
       "  </tbody>\n",
       "</table>\n",
       "<p>8254 rows × 2 columns</p>\n",
       "</div>"
      ],
      "text/plain": [
       "       airline_sentiment                                               text\n",
       "442888          negative  For some reason I feel a bit upset that the in...\n",
       "20906           negative               @ianshepherd First of many no doubt \n",
       "575540          negative  omg, i would like to be in texas also!  i mean...\n",
       "603680          negative  @ShoesforGeorgia so did mine  but technically ...\n",
       "368306          negative               @john_lo The audio wasn't recording \n",
       "...                  ...                                                ...\n",
       "781978          negative  my indentation issue is gone now, and I really...\n",
       "469966          negative  I messed up the colour on my TV @yelyahwilliam...\n",
       "316499          negative  Need to do the week's food shopping as the cup...\n",
       "30161           negative            sick! fever-ish, flu-ish, headache-ish \n",
       "717547          negative  Watching csi:miami..i want to go home! I miss ...\n",
       "\n",
       "[8254 rows x 2 columns]"
      ]
     },
     "execution_count": 79,
     "metadata": {},
     "output_type": "execute_result"
    }
   ],
   "source": [
    "sent140_negative = (\n",
    "    sentiment_140_full[sentiment_140_full['target'] == NEGATIVE_LABEL]\n",
    "    .sample(\n",
    "        train['airline_sentiment'].value_counts()['negative']\n",
    "    )\n",
    "    .rename(columns={'target': 'airline_sentiment'})\n",
    "    .replace({POSITIVE_LABEL: 'positive', NEGATIVE_LABEL: 'negative'})\n",
    ")\n",
    "sent140_negative"
   ]
  },
  {
   "cell_type": "code",
   "execution_count": 63,
   "metadata": {},
   "outputs": [],
   "source": [
    "airline_neutral = train[train['airline_sentiment'] == 'neutral']"
   ]
  },
  {
   "cell_type": "code",
   "execution_count": 80,
   "metadata": {},
   "outputs": [
    {
     "data": {
      "text/html": [
       "<div>\n",
       "<style scoped>\n",
       "    .dataframe tbody tr th:only-of-type {\n",
       "        vertical-align: middle;\n",
       "    }\n",
       "\n",
       "    .dataframe tbody tr th {\n",
       "        vertical-align: top;\n",
       "    }\n",
       "\n",
       "    .dataframe thead th {\n",
       "        text-align: right;\n",
       "    }\n",
       "</style>\n",
       "<table border=\"1\" class=\"dataframe\">\n",
       "  <thead>\n",
       "    <tr style=\"text-align: right;\">\n",
       "      <th></th>\n",
       "      <th>airline_sentiment</th>\n",
       "      <th>text</th>\n",
       "    </tr>\n",
       "  </thead>\n",
       "  <tbody>\n",
       "    <tr>\n",
       "      <th>0</th>\n",
       "      <td>negative</td>\n",
       "      <td>@united Yes I did.  We headed out to de-ice 5 ...</td>\n",
       "    </tr>\n",
       "    <tr>\n",
       "      <th>1</th>\n",
       "      <td>negative</td>\n",
       "      <td>@AmericanAir missing a full days of work thank...</td>\n",
       "    </tr>\n",
       "    <tr>\n",
       "      <th>2</th>\n",
       "      <td>negative</td>\n",
       "      <td>@USAirways your mobile app is horrible!  Needs...</td>\n",
       "    </tr>\n",
       "    <tr>\n",
       "      <th>3</th>\n",
       "      <td>negative</td>\n",
       "      <td>@AmericanAir Checked in on app since yesterday...</td>\n",
       "    </tr>\n",
       "    <tr>\n",
       "      <th>4</th>\n",
       "      <td>negative</td>\n",
       "      <td>@united we have tried to change our flight THR...</td>\n",
       "    </tr>\n",
       "    <tr>\n",
       "      <th>...</th>\n",
       "      <td>...</td>\n",
       "      <td>...</td>\n",
       "    </tr>\n",
       "    <tr>\n",
       "      <th>781978</th>\n",
       "      <td>negative</td>\n",
       "      <td>my indentation issue is gone now, and I really...</td>\n",
       "    </tr>\n",
       "    <tr>\n",
       "      <th>469966</th>\n",
       "      <td>negative</td>\n",
       "      <td>I messed up the colour on my TV @yelyahwilliam...</td>\n",
       "    </tr>\n",
       "    <tr>\n",
       "      <th>316499</th>\n",
       "      <td>negative</td>\n",
       "      <td>Need to do the week's food shopping as the cup...</td>\n",
       "    </tr>\n",
       "    <tr>\n",
       "      <th>30161</th>\n",
       "      <td>negative</td>\n",
       "      <td>sick! fever-ish, flu-ish, headache-ish</td>\n",
       "    </tr>\n",
       "    <tr>\n",
       "      <th>717547</th>\n",
       "      <td>negative</td>\n",
       "      <td>Watching csi:miami..i want to go home! I miss ...</td>\n",
       "    </tr>\n",
       "  </tbody>\n",
       "</table>\n",
       "<p>26352 rows × 2 columns</p>\n",
       "</div>"
      ],
      "text/plain": [
       "       airline_sentiment                                               text\n",
       "0               negative  @united Yes I did.  We headed out to de-ice 5 ...\n",
       "1               negative  @AmericanAir missing a full days of work thank...\n",
       "2               negative  @USAirways your mobile app is horrible!  Needs...\n",
       "3               negative  @AmericanAir Checked in on app since yesterday...\n",
       "4               negative  @united we have tried to change our flight THR...\n",
       "...                  ...                                                ...\n",
       "781978          negative  my indentation issue is gone now, and I really...\n",
       "469966          negative  I messed up the colour on my TV @yelyahwilliam...\n",
       "316499          negative  Need to do the week's food shopping as the cup...\n",
       "30161           negative            sick! fever-ish, flu-ish, headache-ish \n",
       "717547          negative  Watching csi:miami..i want to go home! I miss ...\n",
       "\n",
       "[26352 rows x 2 columns]"
      ]
     },
     "execution_count": 80,
     "metadata": {},
     "output_type": "execute_result"
    }
   ],
   "source": [
    "sent140_and_airline = pd.concat(\n",
    "    [\n",
    "        train,\n",
    "        sent140_positive,\n",
    "        airline_neutral,\n",
    "        sent140_negative\n",
    "    ]\n",
    ")\n",
    "assert sent140_and_airline.shape[0] == train.shape[0] * 2\n",
    "sent140_and_airline"
   ]
  },
  {
   "cell_type": "code",
   "execution_count": 83,
   "metadata": {},
   "outputs": [],
   "source": [
    "sent140_and_airline = sent140_and_airline.sample(frac=1).reset_index(drop=True)"
   ]
  },
  {
   "cell_type": "code",
   "execution_count": 84,
   "metadata": {},
   "outputs": [],
   "source": [
    "sent140_and_airline['text'].to_csv('~/airline/sent140_and_airline_balanced_text_only.csv', index=False)"
   ]
  }
 ],
 "metadata": {
  "kernelspec": {
   "display_name": "airline-sentiment",
   "language": "python",
   "name": "airline-sentiment"
  },
  "language_info": {
   "codemirror_mode": {
    "name": "ipython",
    "version": 3
   },
   "file_extension": ".py",
   "mimetype": "text/x-python",
   "name": "python",
   "nbconvert_exporter": "python",
   "pygments_lexer": "ipython3",
   "version": "3.8.3"
  }
 },
 "nbformat": 4,
 "nbformat_minor": 4
}
