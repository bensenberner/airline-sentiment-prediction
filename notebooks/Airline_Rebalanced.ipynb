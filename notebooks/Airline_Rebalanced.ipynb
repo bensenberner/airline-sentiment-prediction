{
  "nbformat": 4,
  "nbformat_minor": 0,
  "metadata": {
    "colab": {
      "name": "Airline-Rebalanced.ipynb",
      "provenance": [],
      "collapsed_sections": [],
      "toc_visible": true,
      "mount_file_id": "1RuA3NNeregzcRdNDs2s_cwTcforixkYO",
      "authorship_tag": "ABX9TyOLmnYz6IcGDGY1GqtNi3PM",
      "include_colab_link": true
    },
    "kernelspec": {
      "name": "python3",
      "display_name": "Python 3"
    }
  },
  "cells": [
    {
      "cell_type": "markdown",
      "metadata": {
        "id": "view-in-github",
        "colab_type": "text"
      },
      "source": [
        "<a href=\"https://colab.research.google.com/github/bensenberner/airline-sentiment-prediction/blob/master/notebooks/Airline_Rebalanced.ipynb\" target=\"_parent\"><img src=\"https://colab.research.google.com/assets/colab-badge.svg\" alt=\"Open In Colab\"/></a>"
      ]
    },
    {
      "cell_type": "code",
      "metadata": {
        "id": "5b5g8dT6yJzn",
        "colab_type": "code",
        "colab": {}
      },
      "source": [
        "%matplotlib inline"
      ],
      "execution_count": 1,
      "outputs": []
    },
    {
      "cell_type": "code",
      "metadata": {
        "id": "q6pd2s3Wl1rD",
        "colab_type": "code",
        "colab": {}
      },
      "source": [
        "from fastai.text import *\n",
        "from fastai.callbacks import *\n",
        "from sklearn.model_selection import train_test_split\n",
        "from sklearn.metrics import confusion_matrix, accuracy_score, classification_report\n",
        "import pandas as pd\n",
        "data_path = 'drive/My Drive/airline-sentiment'\n",
        "bs=24\n",
        "\n",
        "# need to set a bunch of random seeds to ensure reproducibility\n",
        "seed=42\n",
        "import numpy\n",
        "numpy.random.seed(seed)\n",
        "import os\n",
        "os.environ['PYTHONHASHSEED']=str(seed)\n",
        "import random\n",
        "random.seed(seed)\n",
        "import torch\n",
        "if torch.cuda.is_available(): \n",
        "    torch.cuda.manual_seed(seed)\n",
        "    torch.cuda.manual_seed_all(seed) # gpu vars\n",
        "    torch.backends.cudnn.deterministic = True  #needed\n",
        "    torch.backends.cudnn.benchmark = False"
      ],
      "execution_count": 1,
      "outputs": []
    },
    {
      "cell_type": "markdown",
      "metadata": {
        "id": "57azMF8l8aOc",
        "colab_type": "text"
      },
      "source": [
        "See EDA notebook in [notebooks/Data.ipynb](https://github.com/bensenberner/airline-sentiment-prediction) to learn about how the data was generated. (specifically the section on oversampling)"
      ]
    },
    {
      "cell_type": "markdown",
      "metadata": {
        "id": "ijvMFlSEW2e5",
        "colab_type": "text"
      },
      "source": [
        "# Language Model\n",
        "\n",
        "[Needed](https://github.com/fastai/fastai/blob/master/fastai/callbacks/oversampling.py#L17) to cast the labels to ints"
      ]
    },
    {
      "cell_type": "code",
      "metadata": {
        "id": "zKjopEf5Wyic",
        "colab_type": "code",
        "colab": {
          "base_uri": "https://localhost:8080/",
          "height": 17
        },
        "outputId": "11251160-00a8-4556-e730-4eedbdebde64"
      },
      "source": [
        "lm_data = (\n",
        "    TextList\n",
        "    .from_csv(data_path, 'oversampled_train_text.csv')\n",
        "    .split_by_rand_pct(0.1, seed=seed)\n",
        "    .label_for_lm()\n",
        "    .databunch(bs=bs)\n",
        ")\n",
        "lm_data.train_dl.y.items = lm_data.train_dl.y.items.astype(np.int64)\n",
        "lm_data.valid_dl.y.items = lm_data.valid_dl.y.items.astype(np.int64)\n",
        "lm_data.c = 3\n",
        "lm_data.save('lm_data')"
      ],
      "execution_count": 2,
      "outputs": [
        {
          "output_type": "display_data",
          "data": {
            "text/html": [
              ""
            ],
            "text/plain": [
              "<IPython.core.display.HTML object>"
            ]
          },
          "metadata": {
            "tags": []
          }
        },
        {
          "output_type": "display_data",
          "data": {
            "text/html": [
              ""
            ],
            "text/plain": [
              "<IPython.core.display.HTML object>"
            ]
          },
          "metadata": {
            "tags": []
          }
        }
      ]
    },
    {
      "cell_type": "code",
      "metadata": {
        "id": "tRYHmjNcaVlB",
        "colab_type": "code",
        "colab": {}
      },
      "source": [
        "lm_data = load_data(data_path, 'lm_data')"
      ],
      "execution_count": null,
      "outputs": []
    },
    {
      "cell_type": "code",
      "metadata": {
        "id": "KX974LcpXrbh",
        "colab_type": "code",
        "colab": {
          "base_uri": "https://localhost:8080/",
          "height": 374
        },
        "outputId": "6893faee-325b-4da7-e47e-bca3f5bb51ad"
      },
      "source": [
        "lm_data.show_batch()"
      ],
      "execution_count": 3,
      "outputs": [
        {
          "output_type": "display_data",
          "data": {
            "text/html": [
              "<table border=\"1\" class=\"dataframe\">\n",
              "  <thead>\n",
              "    <tr style=\"text-align: right;\">\n",
              "      <th>idx</th>\n",
              "      <th>text</th>\n",
              "    </tr>\n",
              "  </thead>\n",
              "  <tbody>\n",
              "    <tr>\n",
              "      <td>0</td>\n",
              "      <td>yesterday . xxmaj confirmed upgrade &amp; &amp; carry on , got to counter &amp; &amp; manager upgraded somebody else on my seat ! xxbos @united we have tried to change our flight xxup three times on the phone and got disconnected each time . xxbos xxmaj decisions xxmaj decisions @mandarinjourney @united : xxmaj we 'd love for you to try our service . xxmaj we offer status match too .</td>\n",
              "    </tr>\n",
              "    <tr>\n",
              "      <td>1</td>\n",
              "      <td>, nothing happened xxbos @southwestair awesome . thank you ! xxbos @southwestair there really should not be guidance to call via phone if you are that back logged . i could have done it online in 3 minutes . xxbos @virginamerica ... xxmaj please come to xxmaj minneapolis xxmaj st. xxmaj xxunk ! xxbos @usairways i spent more on the room &amp; &amp; transportation then i did the whole flight</td>\n",
              "    </tr>\n",
              "    <tr>\n",
              "      <td>2</td>\n",
              "      <td>flights , nothing . xxmaj is this a policy or not ? xxbos @jetblue keeps asking me to enter a valid email address . xxmaj my info is saved and has worked hundreds of times before xxbos @united says @usairways is the final carrier . xxmaj us air does nt have it . i want my bag ! ! ! xxmaj not a claim not an i m sorry .</td>\n",
              "    </tr>\n",
              "    <tr>\n",
              "      <td>3</td>\n",
              "      <td>xxmaj card in xxup xxunk only to be told xxmaj star xxmaj alliance is n't accepted xxbos @usairways what is happening with flight 1701 from xxup bos to xxup phl ? xxmaj daughter and her xxunk are stuck in xxup bos ! xxbos @americanair it 's not cool that my flight was xxmaj cancelled xxmaj flightled after sitting on the plane for over an hour . 👎 😡 ✈ ️</td>\n",
              "    </tr>\n",
              "    <tr>\n",
              "      <td>4</td>\n",
              "      <td>you recommend ? xxbos @usairways xxup us 728 . xxmaj nope , not getting off . 3 hours in the plane . 4 pilot announcements . xxmaj one water run of the planet 's smallest water bottles . xxbos @united wins top marks for customer service via xxmaj twitter . xxmaj they turned a poor experience into a positive . xxmaj many thanks for the effort ! 👍 xxbos @jetblue</td>\n",
              "    </tr>\n",
              "  </tbody>\n",
              "</table>"
            ],
            "text/plain": [
              "<IPython.core.display.HTML object>"
            ]
          },
          "metadata": {
            "tags": []
          }
        }
      ]
    },
    {
      "cell_type": "code",
      "metadata": {
        "id": "HZ-fLWVlabE5",
        "colab_type": "code",
        "colab": {
          "base_uri": "https://localhost:8080/",
          "height": 34
        },
        "outputId": "5dd81cad-822c-40da-a4a9-6774d83dd12a"
      },
      "source": [
        "lm = language_model_learner(lm_data, AWD_LSTM, drop_mult=0.3) # drop_mult taken from fast.ai course v3"
      ],
      "execution_count": 4,
      "outputs": [
        {
          "output_type": "stream",
          "text": [
            "Downloading https://s3.amazonaws.com/fast-ai-modelzoo/wt103-fwd.tgz\n"
          ],
          "name": "stdout"
        },
        {
          "output_type": "display_data",
          "data": {
            "text/html": [
              ""
            ],
            "text/plain": [
              "<IPython.core.display.HTML object>"
            ]
          },
          "metadata": {
            "tags": []
          }
        }
      ]
    },
    {
      "cell_type": "code",
      "metadata": {
        "id": "HbsqgLalafJ9",
        "colab_type": "code",
        "colab": {
          "base_uri": "https://localhost:8080/",
          "height": 411
        },
        "outputId": "68f96ccf-3087-46e4-927d-45e5bff28fa3"
      },
      "source": [
        "lm.lr_find()\n",
        "lm.recorder.plot(suggestion=True)"
      ],
      "execution_count": 5,
      "outputs": [
        {
          "output_type": "display_data",
          "data": {
            "text/html": [
              "\n",
              "    <div>\n",
              "        <style>\n",
              "            /* Turns off some styling */\n",
              "            progress {\n",
              "                /* gets rid of default border in Firefox and Opera. */\n",
              "                border: none;\n",
              "                /* Needs to be in here for Safari polyfill so background images work as expected. */\n",
              "                background-size: auto;\n",
              "            }\n",
              "            .progress-bar-interrupted, .progress-bar-interrupted::-webkit-progress-bar {\n",
              "                background: #F44336;\n",
              "            }\n",
              "        </style>\n",
              "      <progress value='0' class='' max='1' style='width:300px; height:20px; vertical-align: middle;'></progress>\n",
              "      0.00% [0/1 00:00<00:00]\n",
              "    </div>\n",
              "    \n",
              "<table border=\"1\" class=\"dataframe\">\n",
              "  <thead>\n",
              "    <tr style=\"text-align: left;\">\n",
              "      <th>epoch</th>\n",
              "      <th>train_loss</th>\n",
              "      <th>valid_loss</th>\n",
              "      <th>accuracy</th>\n",
              "      <th>time</th>\n",
              "    </tr>\n",
              "  </thead>\n",
              "  <tbody>\n",
              "  </tbody>\n",
              "</table><p>\n",
              "\n",
              "    <div>\n",
              "        <style>\n",
              "            /* Turns off some styling */\n",
              "            progress {\n",
              "                /* gets rid of default border in Firefox and Opera. */\n",
              "                border: none;\n",
              "                /* Needs to be in here for Safari polyfill so background images work as expected. */\n",
              "                background-size: auto;\n",
              "            }\n",
              "            .progress-bar-interrupted, .progress-bar-interrupted::-webkit-progress-bar {\n",
              "                background: #F44336;\n",
              "            }\n",
              "        </style>\n",
              "      <progress value='99' class='' max='304' style='width:300px; height:20px; vertical-align: middle;'></progress>\n",
              "      32.57% [99/304 00:06<00:13 10.7863]\n",
              "    </div>\n",
              "    "
            ],
            "text/plain": [
              "<IPython.core.display.HTML object>"
            ]
          },
          "metadata": {
            "tags": []
          }
        },
        {
          "output_type": "stream",
          "text": [
            "LR Finder is complete, type {learner_name}.recorder.plot() to see the graph.\n",
            "Min numerical gradient: 2.75E-02\n",
            "Min loss divided by 10: 4.37E-02\n"
          ],
          "name": "stdout"
        },
        {
          "output_type": "display_data",
          "data": {
            "image/png": "[encoded data removed]",
            "text/plain": [
              "<Figure size 432x288 with 1 Axes>"
            ]
          },
          "metadata": {
            "tags": [],
            "needs_background": "light"
          }
        }
      ]
    },
    {
      "cell_type": "code",
      "metadata": {
        "id": "yxbIKAnHarG-",
        "colab_type": "code",
        "colab": {}
      },
      "source": [
        "init_lr = 4.37e-02"
      ],
      "execution_count": 6,
      "outputs": []
    },
    {
      "cell_type": "code",
      "metadata": {
        "id": "X62Pl0SxamZ2",
        "colab_type": "code",
        "colab": {
          "base_uri": "https://localhost:8080/",
          "height": 80
        },
        "outputId": "65adbd81-233a-4582-e0a2-c64eb34bc29c"
      },
      "source": [
        "lm.fit_one_cycle(1, init_lr, moms=(0.8, 0.7))\n",
        "lm.save('1_airline_lm')"
      ],
      "execution_count": 7,
      "outputs": [
        {
          "output_type": "display_data",
          "data": {
            "text/html": [
              "<table border=\"1\" class=\"dataframe\">\n",
              "  <thead>\n",
              "    <tr style=\"text-align: left;\">\n",
              "      <th>epoch</th>\n",
              "      <th>train_loss</th>\n",
              "      <th>valid_loss</th>\n",
              "      <th>accuracy</th>\n",
              "      <th>time</th>\n",
              "    </tr>\n",
              "  </thead>\n",
              "  <tbody>\n",
              "    <tr>\n",
              "      <td>0</td>\n",
              "      <td>3.618759</td>\n",
              "      <td>3.349268</td>\n",
              "      <td>0.339146</td>\n",
              "      <td>00:19</td>\n",
              "    </tr>\n",
              "  </tbody>\n",
              "</table>"
            ],
            "text/plain": [
              "<IPython.core.display.HTML object>"
            ]
          },
          "metadata": {
            "tags": []
          }
        }
      ]
    },
    {
      "cell_type": "code",
      "metadata": {
        "id": "A6f4hjPcaC16",
        "colab_type": "code",
        "colab": {}
      },
      "source": [
        "lm.load('1_airline_lm')"
      ],
      "execution_count": null,
      "outputs": []
    },
    {
      "cell_type": "markdown",
      "metadata": {
        "id": "Y41PlI2KkklD",
        "colab_type": "text"
      },
      "source": [
        "Now that I've saved the language model, I can go back and try different values for `cyc_len`."
      ]
    },
    {
      "cell_type": "code",
      "metadata": {
        "id": "uIbTu0gGawlR",
        "colab_type": "code",
        "colab": {
          "base_uri": "https://localhost:8080/",
          "height": 235
        },
        "outputId": "69c9be72-f01e-470f-9c30-c721b6cb5963"
      },
      "source": [
        "lm.unfreeze()\n",
        "lm.fit_one_cycle(6, init_lr * 0.1, moms=(0.8, 0.7))\n",
        "lm.save('2_airline_oversampled_lm')\n",
        "lm.save_encoder('2_airline_oversampled_enc')"
      ],
      "execution_count": 9,
      "outputs": [
        {
          "output_type": "display_data",
          "data": {
            "text/html": [
              "<table border=\"1\" class=\"dataframe\">\n",
              "  <thead>\n",
              "    <tr style=\"text-align: left;\">\n",
              "      <th>epoch</th>\n",
              "      <th>train_loss</th>\n",
              "      <th>valid_loss</th>\n",
              "      <th>accuracy</th>\n",
              "      <th>time</th>\n",
              "    </tr>\n",
              "  </thead>\n",
              "  <tbody>\n",
              "    <tr>\n",
              "      <td>0</td>\n",
              "      <td>2.886364</td>\n",
              "      <td>2.869778</td>\n",
              "      <td>0.426523</td>\n",
              "      <td>00:24</td>\n",
              "    </tr>\n",
              "    <tr>\n",
              "      <td>1</td>\n",
              "      <td>2.506769</td>\n",
              "      <td>2.533140</td>\n",
              "      <td>0.494608</td>\n",
              "      <td>00:24</td>\n",
              "    </tr>\n",
              "    <tr>\n",
              "      <td>2</td>\n",
              "      <td>2.067433</td>\n",
              "      <td>2.249550</td>\n",
              "      <td>0.560714</td>\n",
              "      <td>00:24</td>\n",
              "    </tr>\n",
              "    <tr>\n",
              "      <td>3</td>\n",
              "      <td>1.611242</td>\n",
              "      <td>2.112283</td>\n",
              "      <td>0.599895</td>\n",
              "      <td>00:24</td>\n",
              "    </tr>\n",
              "    <tr>\n",
              "      <td>4</td>\n",
              "      <td>1.156375</td>\n",
              "      <td>2.114504</td>\n",
              "      <td>0.616211</td>\n",
              "      <td>00:24</td>\n",
              "    </tr>\n",
              "    <tr>\n",
              "      <td>5</td>\n",
              "      <td>0.885129</td>\n",
              "      <td>2.168577</td>\n",
              "      <td>0.617700</td>\n",
              "      <td>00:24</td>\n",
              "    </tr>\n",
              "  </tbody>\n",
              "</table>"
            ],
            "text/plain": [
              "<IPython.core.display.HTML object>"
            ]
          },
          "metadata": {
            "tags": []
          }
        }
      ]
    },
    {
      "cell_type": "code",
      "metadata": {
        "id": "I5iI-XbkhLkc",
        "colab_type": "code",
        "colab": {
          "base_uri": "https://localhost:8080/",
          "height": 122
        },
        "outputId": "0d1197a1-1e5e-4203-cec7-6d9e874293a6"
      },
      "source": [
        "text = \"My flight was cancelled due\"\n",
        "n_words = 40\n",
        "n_sentences = 5\n",
        "print(\"\\n\".join(lm.predict(text, n_words, temperature=0.8) for _ in range(n_sentences)))"
      ],
      "execution_count": 10,
      "outputs": [
        {
          "output_type": "stream",
          "text": [
            "My flight was cancelled due to weather in RDU ... Another weather delay but the pilot does n't get the weather seriously ? ? ? xxbos @virginamerica i ’m looking forward to watching the Oscars on my flight home tomorrow . i\n",
            "My flight was cancelled due to weather in Dallas 2 / 17 the next flight in Phoenix RT @jetblue : Our fleet 's on fleek . http : / / t.co / hp9rppcvhx xxbos @southwestair i am concerned that you need\n",
            "My flight was cancelled due to weather in Dallas , NC . That 's not the issue . Can you help ! ? Save me some peanuts xxbos @americanair volumes , profit up http : / / t.co / pkfi9bttzf\n",
            "My flight was cancelled due to weather in STL . The ONLY airline was Late Flight to new flight . You got us to MCO . Wo n't let me on on the plane . Get\n",
            "My flight was cancelled due to weather in Newark , NJ and i ' hangs up on you . Pls hold US1765 for me . Are you going to get me home ? UNACCEPTABLE xxbos @southwestair Thank you\n"
          ],
          "name": "stdout"
        }
      ]
    },
    {
      "cell_type": "markdown",
      "metadata": {
        "id": "6v9kK8gklEx2",
        "colab_type": "text"
      },
      "source": [
        "Now that all the sentiments are equally likely, these tweets seem very confused. They change mood mid tweeet. \"UNACCEPTABLE @southwest air Thank you\". It's also mixing updates from the airlines with tweets from the customers to the airlines."
      ]
    },
    {
      "cell_type": "markdown",
      "metadata": {
        "id": "SD5l5ktUhWae",
        "colab_type": "text"
      },
      "source": [
        "# Train classifier using oversampled airline data\n",
        "\n",
        "\n"
      ]
    },
    {
      "cell_type": "code",
      "metadata": {
        "id": "R30F0uINhahy",
        "colab_type": "code",
        "colab": {
          "base_uri": "https://localhost:8080/",
          "height": 17
        },
        "outputId": "6c39fb0a-83d5-4594-86eb-6d5194cff29c"
      },
      "source": [
        "cls_data = (\n",
        "    TextList\n",
        "    .from_csv(data_path, 'oversampled_train.csv', cols='text')\n",
        "    .split_by_rand_pct(0.1, seed=seed)\n",
        "    .label_from_df(cols=0)\n",
        "    .databunch(bs=bs, num_workers=0)\n",
        ")\n",
        "cls_data.save('oversampled_cls_data_1.pkl')"
      ],
      "execution_count": 11,
      "outputs": [
        {
          "output_type": "display_data",
          "data": {
            "text/html": [
              ""
            ],
            "text/plain": [
              "<IPython.core.display.HTML object>"
            ]
          },
          "metadata": {
            "tags": []
          }
        },
        {
          "output_type": "display_data",
          "data": {
            "text/html": [
              ""
            ],
            "text/plain": [
              "<IPython.core.display.HTML object>"
            ]
          },
          "metadata": {
            "tags": []
          }
        }
      ]
    },
    {
      "cell_type": "code",
      "metadata": {
        "id": "dShy_aYbdCto",
        "colab_type": "code",
        "colab": {}
      },
      "source": [
        "cls_data = load_data(data_path, 'oversampled_cls_data_1.pkl')"
      ],
      "execution_count": 4,
      "outputs": []
    },
    {
      "cell_type": "markdown",
      "metadata": {
        "id": "OQv0he_4lfBV",
        "colab_type": "text"
      },
      "source": [
        "Load the LM encoder, this will be used to create embeddings for the classifier. `drop_mult=0.5` taken from the fast.ai text tutorial"
      ]
    },
    {
      "cell_type": "code",
      "metadata": {
        "id": "7IODAdOWiW1a",
        "colab_type": "code",
        "colab": {}
      },
      "source": [
        "cls = text_classifier_learner(cls_data, AWD_LSTM, drop_mult=0.5)\n",
        "cls.load_encoder('2_airline_oversampled_enc')"
      ],
      "execution_count": null,
      "outputs": []
    },
    {
      "cell_type": "code",
      "metadata": {
        "id": "Bo4nNi9Bilek",
        "colab_type": "code",
        "colab": {
          "base_uri": "https://localhost:8080/",
          "height": 407
        },
        "outputId": "4a3db795-c057-4906-8905-9274d832d966"
      },
      "source": [
        "cls.lr_find()\n",
        "cls.recorder.plot(suggestion=True)"
      ],
      "execution_count": 13,
      "outputs": [
        {
          "output_type": "display_data",
          "data": {
            "text/html": [
              "\n",
              "    <div>\n",
              "        <style>\n",
              "            /* Turns off some styling */\n",
              "            progress {\n",
              "                /* gets rid of default border in Firefox and Opera. */\n",
              "                border: none;\n",
              "                /* Needs to be in here for Safari polyfill so background images work as expected. */\n",
              "                background-size: auto;\n",
              "            }\n",
              "            .progress-bar-interrupted, .progress-bar-interrupted::-webkit-progress-bar {\n",
              "                background: #F44336;\n",
              "            }\n",
              "        </style>\n",
              "      <progress value='0' class='' max='1' style='width:300px; height:20px; vertical-align: middle;'></progress>\n",
              "      0.00% [0/1 00:00<00:00]\n",
              "    </div>\n",
              "    \n",
              "<table border=\"1\" class=\"dataframe\">\n",
              "  <thead>\n",
              "    <tr style=\"text-align: left;\">\n",
              "      <th>epoch</th>\n",
              "      <th>train_loss</th>\n",
              "      <th>valid_loss</th>\n",
              "      <th>accuracy</th>\n",
              "      <th>time</th>\n",
              "    </tr>\n",
              "  </thead>\n",
              "  <tbody>\n",
              "  </tbody>\n",
              "</table><p>\n",
              "\n",
              "    <div>\n",
              "        <style>\n",
              "            /* Turns off some styling */\n",
              "            progress {\n",
              "                /* gets rid of default border in Firefox and Opera. */\n",
              "                border: none;\n",
              "                /* Needs to be in here for Safari polyfill so background images work as expected. */\n",
              "                background-size: auto;\n",
              "            }\n",
              "            .progress-bar-interrupted, .progress-bar-interrupted::-webkit-progress-bar {\n",
              "                background: #F44336;\n",
              "            }\n",
              "        </style>\n",
              "      <progress value='91' class='' max='928' style='width:300px; height:20px; vertical-align: middle;'></progress>\n",
              "      9.81% [91/928 00:01<00:16 1.0791]\n",
              "    </div>\n",
              "    "
            ],
            "text/plain": [
              "<IPython.core.display.HTML object>"
            ]
          },
          "metadata": {
            "tags": []
          }
        },
        {
          "output_type": "stream",
          "text": [
            "LR Finder is complete, type {learner_name}.recorder.plot() to see the graph.\n",
            "Min numerical gradient: 3.63E-03\n",
            "Min loss divided by 10: 3.02E-02\n"
          ],
          "name": "stdout"
        },
        {
          "output_type": "display_data",
          "data": {
            "image/png": "[encoded data removed]",
            "text/plain": [
              "<Figure size 432x288 with 1 Axes>"
            ]
          },
          "metadata": {
            "tags": [],
            "needs_background": "light"
          }
        }
      ]
    },
    {
      "cell_type": "code",
      "metadata": {
        "id": "rAg-iCTdivZz",
        "colab_type": "code",
        "colab": {
          "base_uri": "https://localhost:8080/",
          "height": 80
        },
        "outputId": "5022e127-8889-425c-9da8-e11357301e4e"
      },
      "source": [
        "init_cls_lr = 3e-2\n",
        "cls.fit_one_cycle(1, init_cls_lr, moms=(0.8, 0.7))\n",
        "cls.save('1_cls')"
      ],
      "execution_count": 14,
      "outputs": [
        {
          "output_type": "display_data",
          "data": {
            "text/html": [
              "<table border=\"1\" class=\"dataframe\">\n",
              "  <thead>\n",
              "    <tr style=\"text-align: left;\">\n",
              "      <th>epoch</th>\n",
              "      <th>train_loss</th>\n",
              "      <th>valid_loss</th>\n",
              "      <th>accuracy</th>\n",
              "      <th>time</th>\n",
              "    </tr>\n",
              "  </thead>\n",
              "  <tbody>\n",
              "    <tr>\n",
              "      <td>0</td>\n",
              "      <td>0.520488</td>\n",
              "      <td>0.467855</td>\n",
              "      <td>0.813005</td>\n",
              "      <td>00:13</td>\n",
              "    </tr>\n",
              "  </tbody>\n",
              "</table>"
            ],
            "text/plain": [
              "<IPython.core.display.HTML object>"
            ]
          },
          "metadata": {
            "tags": []
          }
        }
      ]
    },
    {
      "cell_type": "code",
      "metadata": {
        "id": "Y_qrI_nlE0YC",
        "colab_type": "code",
        "colab": {}
      },
      "source": [
        "cls.load('1_cls')"
      ],
      "execution_count": null,
      "outputs": []
    },
    {
      "cell_type": "markdown",
      "metadata": {
        "id": "aHa2rRiR-5-D",
        "colab_type": "text"
      },
      "source": [
        "To prevent catastrophic forgetting, we freeze all but the last couple of layers"
      ]
    },
    {
      "cell_type": "code",
      "metadata": {
        "id": "zLnb6FCtjAPu",
        "colab_type": "code",
        "colab": {
          "base_uri": "https://localhost:8080/",
          "height": 80
        },
        "outputId": "1242ad14-a022-44f9-9dc5-c7b407375c46"
      },
      "source": [
        "cls.freeze_to(-2)\n",
        "# 2.6**4 is a magic number for determining the minimum learning rate. Derived from\n",
        "# https://course.fast.ai/videos/?lesson=4 @ 33:45\n",
        "cls.fit_one_cycle(1, slice(init_cls_lr/(2.6**4), init_cls_lr), moms=(0.8,0.7))\n",
        "cls.save('2_cls')"
      ],
      "execution_count": 15,
      "outputs": [
        {
          "output_type": "display_data",
          "data": {
            "text/html": [
              "<table border=\"1\" class=\"dataframe\">\n",
              "  <thead>\n",
              "    <tr style=\"text-align: left;\">\n",
              "      <th>epoch</th>\n",
              "      <th>train_loss</th>\n",
              "      <th>valid_loss</th>\n",
              "      <th>accuracy</th>\n",
              "      <th>time</th>\n",
              "    </tr>\n",
              "  </thead>\n",
              "  <tbody>\n",
              "    <tr>\n",
              "      <td>0</td>\n",
              "      <td>0.431307</td>\n",
              "      <td>0.385465</td>\n",
              "      <td>0.861470</td>\n",
              "      <td>00:15</td>\n",
              "    </tr>\n",
              "  </tbody>\n",
              "</table>"
            ],
            "text/plain": [
              "<IPython.core.display.HTML object>"
            ]
          },
          "metadata": {
            "tags": []
          }
        }
      ]
    },
    {
      "cell_type": "markdown",
      "metadata": {
        "id": "dB1PvnZKqwmb",
        "colab_type": "text"
      },
      "source": [
        "Following the pattern from the ULMFiT paper, we now decrease the max (and min) learning rates before continuing to train on more unfrozen layers."
      ]
    },
    {
      "cell_type": "code",
      "metadata": {
        "id": "pJvr1IW-DjBq",
        "colab_type": "code",
        "colab": {}
      },
      "source": [
        "cls.save('2_cls')"
      ],
      "execution_count": null,
      "outputs": []
    },
    {
      "cell_type": "code",
      "metadata": {
        "id": "77RIMc_DjkXL",
        "colab_type": "code",
        "colab": {
          "base_uri": "https://localhost:8080/",
          "height": 80
        },
        "outputId": "b3c41cef-7a3c-4401-b8ce-962e1676b4e8"
      },
      "source": [
        "cls.freeze_to(-3)\n",
        "new_cls_lr = init_cls_lr * 0.1\n",
        "cls.fit_one_cycle(1, slice(new_cls_lr / (2.6**4), new_cls_lr), moms=(0.8, 0.7))\n",
        "cls.save('3_cls')"
      ],
      "execution_count": 16,
      "outputs": [
        {
          "output_type": "display_data",
          "data": {
            "text/html": [
              "<table border=\"1\" class=\"dataframe\">\n",
              "  <thead>\n",
              "    <tr style=\"text-align: left;\">\n",
              "      <th>epoch</th>\n",
              "      <th>train_loss</th>\n",
              "      <th>valid_loss</th>\n",
              "      <th>accuracy</th>\n",
              "      <th>time</th>\n",
              "    </tr>\n",
              "  </thead>\n",
              "  <tbody>\n",
              "    <tr>\n",
              "      <td>0</td>\n",
              "      <td>0.299452</td>\n",
              "      <td>0.286509</td>\n",
              "      <td>0.896204</td>\n",
              "      <td>00:24</td>\n",
              "    </tr>\n",
              "  </tbody>\n",
              "</table>"
            ],
            "text/plain": [
              "<IPython.core.display.HTML object>"
            ]
          },
          "metadata": {
            "tags": []
          }
        }
      ]
    },
    {
      "cell_type": "code",
      "metadata": {
        "id": "xwm00o5weiZn",
        "colab_type": "code",
        "colab": {}
      },
      "source": [
        "cls.load('3_cls')"
      ],
      "execution_count": null,
      "outputs": []
    },
    {
      "cell_type": "code",
      "metadata": {
        "id": "3l_1Bbndj15g",
        "colab_type": "code",
        "colab": {
          "base_uri": "https://localhost:8080/",
          "height": 266
        },
        "outputId": "73ac97c1-5def-4756-a812-30083498cf5b"
      },
      "source": [
        "cls.unfreeze()\n",
        "cls.fit_one_cycle(7, slice(new_cls_lr / (2.6**4), new_cls_lr), moms=(0.8,0.7))\n",
        "cls.save('4_oversampled_cls')"
      ],
      "execution_count": 17,
      "outputs": [
        {
          "output_type": "display_data",
          "data": {
            "text/html": [
              "<table border=\"1\" class=\"dataframe\">\n",
              "  <thead>\n",
              "    <tr style=\"text-align: left;\">\n",
              "      <th>epoch</th>\n",
              "      <th>train_loss</th>\n",
              "      <th>valid_loss</th>\n",
              "      <th>accuracy</th>\n",
              "      <th>time</th>\n",
              "    </tr>\n",
              "  </thead>\n",
              "  <tbody>\n",
              "    <tr>\n",
              "      <td>0</td>\n",
              "      <td>0.263074</td>\n",
              "      <td>0.264736</td>\n",
              "      <td>0.911551</td>\n",
              "      <td>00:31</td>\n",
              "    </tr>\n",
              "    <tr>\n",
              "      <td>1</td>\n",
              "      <td>0.193446</td>\n",
              "      <td>0.211673</td>\n",
              "      <td>0.937399</td>\n",
              "      <td>00:32</td>\n",
              "    </tr>\n",
              "    <tr>\n",
              "      <td>2</td>\n",
              "      <td>0.166569</td>\n",
              "      <td>0.176275</td>\n",
              "      <td>0.945880</td>\n",
              "      <td>00:30</td>\n",
              "    </tr>\n",
              "    <tr>\n",
              "      <td>3</td>\n",
              "      <td>0.123961</td>\n",
              "      <td>0.169685</td>\n",
              "      <td>0.948304</td>\n",
              "      <td>00:33</td>\n",
              "    </tr>\n",
              "    <tr>\n",
              "      <td>4</td>\n",
              "      <td>0.096787</td>\n",
              "      <td>0.164157</td>\n",
              "      <td>0.952746</td>\n",
              "      <td>00:33</td>\n",
              "    </tr>\n",
              "    <tr>\n",
              "      <td>5</td>\n",
              "      <td>0.067010</td>\n",
              "      <td>0.167891</td>\n",
              "      <td>0.959612</td>\n",
              "      <td>00:31</td>\n",
              "    </tr>\n",
              "    <tr>\n",
              "      <td>6</td>\n",
              "      <td>0.066207</td>\n",
              "      <td>0.167485</td>\n",
              "      <td>0.954766</td>\n",
              "      <td>00:33</td>\n",
              "    </tr>\n",
              "  </tbody>\n",
              "</table>"
            ],
            "text/plain": [
              "<IPython.core.display.HTML object>"
            ]
          },
          "metadata": {
            "tags": []
          }
        }
      ]
    },
    {
      "cell_type": "markdown",
      "metadata": {
        "id": "284BEbE5l8aK",
        "colab_type": "text"
      },
      "source": [
        "Accuracy is MUCH higher than it was on the imbalanced data!! It really seems to have figured out how to recognize all the classes, even the ones that were previously minority classes! Let's test it out and see how it did."
      ]
    },
    {
      "cell_type": "code",
      "metadata": {
        "id": "Xcz8hMNPkaAz",
        "colab_type": "code",
        "colab": {}
      },
      "source": [
        "cls.export('4_oversampled_cls')"
      ],
      "execution_count": 18,
      "outputs": []
    },
    {
      "cell_type": "code",
      "metadata": {
        "id": "7LpfCKPa_buu",
        "colab_type": "code",
        "colab": {
          "base_uri": "https://localhost:8080/",
          "height": 34
        },
        "outputId": "09e2252f-ea94-477b-9dc4-9525ed0fe90e"
      },
      "source": [
        "cls.predict(\"Your customer service is awful, you should be ashamed of yourselves. Never flying again\")"
      ],
      "execution_count": 19,
      "outputs": [
        {
          "output_type": "execute_result",
          "data": {
            "text/plain": [
              "(Category tensor(0), tensor(0), tensor([9.9997e-01, 4.5835e-06, 2.1923e-05]))"
            ]
          },
          "metadata": {
            "tags": []
          },
          "execution_count": 19
        }
      ]
    },
    {
      "cell_type": "code",
      "metadata": {
        "id": "94wSFjSN_kdI",
        "colab_type": "code",
        "colab": {
          "base_uri": "https://localhost:8080/",
          "height": 34
        },
        "outputId": "d0a3429d-013c-4807-99ad-84dee2a87fc8"
      },
      "source": [
        "cls.predict(\"Thank you very much for helping me. I'm definitely flying with you again!\")"
      ],
      "execution_count": 20,
      "outputs": [
        {
          "output_type": "execute_result",
          "data": {
            "text/plain": [
              "(Category tensor(2), tensor(2), tensor([4.7682e-05, 1.7246e-04, 9.9978e-01]))"
            ]
          },
          "metadata": {
            "tags": []
          },
          "execution_count": 20
        }
      ]
    },
    {
      "cell_type": "code",
      "metadata": {
        "id": "q9aDD5dhPQ04",
        "colab_type": "code",
        "colab": {
          "base_uri": "https://localhost:8080/",
          "height": 34
        },
        "outputId": "9f525e3d-7956-4b42-fd72-88c5bd3265ac"
      },
      "source": [
        "cls.predict(\"How do I check in to my flight?\")"
      ],
      "execution_count": 23,
      "outputs": [
        {
          "output_type": "execute_result",
          "data": {
            "text/plain": [
              "(Category tensor(1), tensor(1), tensor([0.3261, 0.6725, 0.0014]))"
            ]
          },
          "metadata": {
            "tags": []
          },
          "execution_count": 23
        }
      ]
    },
    {
      "cell_type": "markdown",
      "metadata": {
        "id": "YYT1XcKXiYnX",
        "colab_type": "text"
      },
      "source": [
        "Wow! MUCH more confident than it was before!"
      ]
    },
    {
      "cell_type": "markdown",
      "metadata": {
        "id": "gGaHjmY1AJN5",
        "colab_type": "text"
      },
      "source": [
        "## See [this notebook](https://colab.research.google.com/drive/1P7-Om6yWwzliZUIepo7ftuRrYAkEGeDr) to learn how well this model performed on the test set"
      ]
    }
  ]
}