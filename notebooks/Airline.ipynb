{
  "nbformat": 4,
  "nbformat_minor": 0,
  "metadata": {
    "colab": {
      "name": "Airline.ipynb",
      "provenance": [],
      "collapsed_sections": [],
      "mount_file_id": "1JajiCIdqAbJAOrRiRHrS99KTWjGnTf_8",
      "authorship_tag": "ABX9TyNWJJMr3Bx84dExWlE06ZBT",
      "include_colab_link": true
    },
    "kernelspec": {
      "name": "python3",
      "display_name": "Python 3"
    }
  },
  "cells": [
    {
      "cell_type": "markdown",
      "metadata": {
        "id": "view-in-github",
        "colab_type": "text"
      },
      "source": [
        "<a href=\"https://colab.research.google.com/github/bensenberner/airline-sentiment-prediction/blob/master/notebooks/Airline.ipynb\" target=\"_parent\"><img src=\"https://colab.research.google.com/assets/colab-badge.svg\" alt=\"Open In Colab\"/></a>"
      ]
    },
    {
      "cell_type": "code",
      "metadata": {
        "id": "5b5g8dT6yJzn",
        "colab_type": "code",
        "colab": {}
      },
      "source": [
        "%matplotlib inline"
      ],
      "execution_count": null,
      "outputs": []
    },
    {
      "cell_type": "code",
      "metadata": {
        "id": "q6pd2s3Wl1rD",
        "colab_type": "code",
        "colab": {}
      },
      "source": [
        "from fastai.text import *\n",
        "from sklearn.model_selection import train_test_split\n",
        "from sklearn.metrics import confusion_matrix, accuracy_score, classification_report\n",
        "import pandas as pd\n",
        "data_path = 'drive/My Drive/airline-sentiment'\n",
        "bs=24\n",
        "\n",
        "# need to set a bunch of random seeds to ensure reproducibility\n",
        "seed=42\n",
        "import numpy\n",
        "numpy.random.seed(seed)\n",
        "import os\n",
        "os.environ['PYTHONHASHSEED']=str(seed)\n",
        "import random\n",
        "random.seed(seed)"
      ],
      "execution_count": 33,
      "outputs": []
    },
    {
      "cell_type": "markdown",
      "metadata": {
        "id": "57azMF8l8aOc",
        "colab_type": "text"
      },
      "source": [
        "See EDA notebook in [notebooks/Data.ipynb](https://github.com/bensenberner/airline-sentiment-prediction) to learn about how the data was generated."
      ]
    },
    {
      "cell_type": "markdown",
      "metadata": {
        "id": "ijvMFlSEW2e5",
        "colab_type": "text"
      },
      "source": [
        "# Language Model\n",
        "\n",
        "First, we will train an LSTM encoder-decoder to predict the next word given a sequence of words. fastai will, by default, download a model that is trained to do this on a large corpus of wikipedia pages (wikitext-103), so it already has a \"rudimentary understanding of English.\"\n",
        "\n",
        "Here, we will fine-tune this model to perform the same task on our training data of airline tweets.\n",
        "It's likely that there are tokens within the tweets that were absent from wikipedia, particularly #hashtags and @mentions, so the model needs to tweak its embeddings to be able to represent those as well.\n",
        "\n",
        "When the encoder has been trained to the point that, using only its last hidden state after encoding a tweet, the decoder is able predict the next token of the tweet, we assume that the encoder's representation of language is meaningful. Then, we can use the encoder's tweet representation as input to a classifier to predict the tweet's sentiment instead of the next token."
      ]
    },
    {
      "cell_type": "code",
      "metadata": {
        "id": "zKjopEf5Wyic",
        "colab_type": "code",
        "colab": {
          "base_uri": "https://localhost:8080/",
          "height": 17
        },
        "outputId": "23062424-25fd-4a9c-a08e-61f326aca94d"
      },
      "source": [
        "lm_data = (\n",
        "    TextList\n",
        "    .from_csv(data_path, 'filtered_train_text.csv')\n",
        "    .split_by_rand_pct(0.1, seed=seed)\n",
        "    .label_for_lm()\n",
        "    .databunch(bs=bs)\n",
        ")\n",
        "lm_data.save('lm_data')"
      ],
      "execution_count": 80,
      "outputs": [
        {
          "output_type": "display_data",
          "data": {
            "text/html": [
              ""
            ],
            "text/plain": [
              "<IPython.core.display.HTML object>"
            ]
          },
          "metadata": {
            "tags": []
          }
        },
        {
          "output_type": "display_data",
          "data": {
            "text/html": [
              ""
            ],
            "text/plain": [
              "<IPython.core.display.HTML object>"
            ]
          },
          "metadata": {
            "tags": []
          }
        }
      ]
    },
    {
      "cell_type": "code",
      "metadata": {
        "id": "tRYHmjNcaVlB",
        "colab_type": "code",
        "colab": {}
      },
      "source": [
        "lm_data = load_data(data_path, 'lm_data')"
      ],
      "execution_count": 2,
      "outputs": []
    },
    {
      "cell_type": "code",
      "metadata": {
        "id": "KX974LcpXrbh",
        "colab_type": "code",
        "colab": {
          "base_uri": "https://localhost:8080/",
          "height": 374
        },
        "outputId": "9c353b92-b3d4-4366-e1a6-c72f8d155b64"
      },
      "source": [
        "lm_data.show_batch()"
      ],
      "execution_count": 81,
      "outputs": [
        {
          "output_type": "display_data",
          "data": {
            "text/html": [
              "<table border=\"1\" class=\"dataframe\">\n",
              "  <thead>\n",
              "    <tr style=\"text-align: right;\">\n",
              "      <th>idx</th>\n",
              "      <th>text</th>\n",
              "    </tr>\n",
              "  </thead>\n",
              "  <tbody>\n",
              "    <tr>\n",
              "      <td>0</td>\n",
              "      <td>yesterday . xxmaj confirmed upgrade &amp; &amp; carry on , got to counter &amp; &amp; manager upgraded somebody else on my seat ! xxbos @united we have tried to change our flight xxup three times on the phone and got disconnected each time . xxbos xxmaj decisions xxmaj decisions xxunk @united : xxmaj we 'd love for you to try our service . xxmaj we offer status match too .</td>\n",
              "    </tr>\n",
              "    <tr>\n",
              "      <td>1</td>\n",
              "      <td>supposed to land 3 hours ago bc i am xxup xxunk tired xxbos @southwestair i 've been on hold for an hour now . xxunk as i type this . xxmaj ridiculous ! xxmaj all i need is the link to the chart that has routes , time xxbos @usairways xxmaj uh yeah . xxmaj flight boarded &amp; &amp; now 1 hr xxmaj late xxmaj flightr we still sit .</td>\n",
              "    </tr>\n",
              "    <tr>\n",
              "      <td>2</td>\n",
              "      <td>out of xxup jfk , 2 &amp; &amp; 1 / 2 hr delay . i could get over it if it was just weather relate xxmaj flightd , but considering it 's not - xxmaj come on xxbos @americanair xxup finally called me back ... xxup but xxup xxunk xxup spoken xxup to xxup me . xxmaj like the worst xxunk call xxup ever ! ! xxbos @united your airline</td>\n",
              "    </tr>\n",
              "    <tr>\n",
              "      <td>3</td>\n",
              "      <td>loyal xxmaj workers http : / / t.co / xxunk via xxunk xxbos @jetblue they absolutely guaranteed us we would sit with our kids . xxmaj your \" terms \" response is insulting . # jetblue xxbos @united i think you should board from the back of the plane # xxunk # xxunk xxbos @jetblue yes , today . xxmaj flight is full now . xxmaj they said no to</td>\n",
              "    </tr>\n",
              "    <tr>\n",
              "      <td>4</td>\n",
              "      <td>\" when you xxmaj cancelled xxmaj flighted my flight and made me drive 17 hours to get home .. xxbos @usairways when your routing system goes down which xxunk all your long haul flights you should think about a # xxunk plan xxbos @usairways what is policy on changing flight to different dates once your flight has been delayed ? xxbos @usairways so you do n't have a pilot now</td>\n",
              "    </tr>\n",
              "  </tbody>\n",
              "</table>"
            ],
            "text/plain": [
              "<IPython.core.display.HTML object>"
            ]
          },
          "metadata": {
            "tags": []
          }
        }
      ]
    },
    {
      "cell_type": "code",
      "metadata": {
        "id": "HZ-fLWVlabE5",
        "colab_type": "code",
        "colab": {}
      },
      "source": [
        "lm = language_model_learner(lm_data, AWD_LSTM, drop_mult=0.3) # drop_mult taken from fast.ai course v3"
      ],
      "execution_count": 12,
      "outputs": []
    },
    {
      "cell_type": "code",
      "metadata": {
        "id": "HbsqgLalafJ9",
        "colab_type": "code",
        "colab": {
          "base_uri": "https://localhost:8080/",
          "height": 405
        },
        "outputId": "c020eb6e-8a3f-4d37-d554-87a699f617a4"
      },
      "source": [
        "lm.lr_find()\n",
        "lm.recorder.plot()"
      ],
      "execution_count": 5,
      "outputs": [
        {
          "output_type": "display_data",
          "data": {
            "text/html": [
              "\n",
              "    <div>\n",
              "        <style>\n",
              "            /* Turns off some styling */\n",
              "            progress {\n",
              "                /* gets rid of default border in Firefox and Opera. */\n",
              "                border: none;\n",
              "                /* Needs to be in here for Safari polyfill so background images work as expected. */\n",
              "                background-size: auto;\n",
              "            }\n",
              "            .progress-bar-interrupted, .progress-bar-interrupted::-webkit-progress-bar {\n",
              "                background: #F44336;\n",
              "            }\n",
              "        </style>\n",
              "      <progress value='1' class='' max='2' style='width:300px; height:20px; vertical-align: middle;'></progress>\n",
              "      50.00% [1/2 00:06<00:06]\n",
              "    </div>\n",
              "    \n",
              "<table border=\"1\" class=\"dataframe\">\n",
              "  <thead>\n",
              "    <tr style=\"text-align: left;\">\n",
              "      <th>epoch</th>\n",
              "      <th>train_loss</th>\n",
              "      <th>valid_loss</th>\n",
              "      <th>accuracy</th>\n",
              "      <th>time</th>\n",
              "    </tr>\n",
              "  </thead>\n",
              "  <tbody>\n",
              "    <tr>\n",
              "      <td>0</td>\n",
              "      <td>6.259637</td>\n",
              "      <td>#na#</td>\n",
              "      <td>00:06</td>\n",
              "    </tr>\n",
              "  </tbody>\n",
              "</table><p>\n",
              "\n",
              "    <div>\n",
              "        <style>\n",
              "            /* Turns off some styling */\n",
              "            progress {\n",
              "                /* gets rid of default border in Firefox and Opera. */\n",
              "                border: none;\n",
              "                /* Needs to be in here for Safari polyfill so background images work as expected. */\n",
              "                background-size: auto;\n",
              "            }\n",
              "            .progress-bar-interrupted, .progress-bar-interrupted::-webkit-progress-bar {\n",
              "                background: #F44336;\n",
              "            }\n",
              "        </style>\n",
              "      <progress value='33' class='' max='65' style='width:300px; height:20px; vertical-align: middle;'></progress>\n",
              "      50.77% [33/65 00:03<00:02 8.7090]\n",
              "    </div>\n",
              "    "
            ],
            "text/plain": [
              "<IPython.core.display.HTML object>"
            ]
          },
          "metadata": {
            "tags": []
          }
        },
        {
          "output_type": "stream",
          "text": [
            "LR Finder is complete, type {learner_name}.recorder.plot() to see the graph.\n"
          ],
          "name": "stdout"
        },
        {
          "output_type": "display_data",
          "data": {
            "image/png": "[encoded data removed]",
            "text/plain": [
              "<Figure size 432x288 with 1 Axes>"
            ]
          },
          "metadata": {
            "tags": [],
            "needs_background": "light"
          }
        }
      ]
    },
    {
      "cell_type": "markdown",
      "metadata": {
        "id": "5GXLHuyhkP_c",
        "colab_type": "text"
      },
      "source": [
        "Should pick somewhere between 7e-03 and 4e-01. 1e-2 is a nice even number perched near the top of the slope"
      ]
    },
    {
      "cell_type": "code",
      "metadata": {
        "id": "yxbIKAnHarG-",
        "colab_type": "code",
        "colab": {}
      },
      "source": [
        "init_lr = 1e-02"
      ],
      "execution_count": 6,
      "outputs": []
    },
    {
      "cell_type": "markdown",
      "metadata": {
        "id": "RJo7ax0Lk7nh",
        "colab_type": "text"
      },
      "source": [
        "Initially use one cycle, `moms=(0.8, 0.7)` is taken from the fastai text tutorial.\n",
        "Could be worth tuning this with a hyperparameter grid search method?"
      ]
    },
    {
      "cell_type": "code",
      "metadata": {
        "id": "X62Pl0SxamZ2",
        "colab_type": "code",
        "colab": {}
      },
      "source": [
        "lm.fit_one_cycle(1, init_lr, moms=(0.8, 0.7))\n",
        "lm.save('1_airline_lm')"
      ],
      "execution_count": null,
      "outputs": []
    },
    {
      "cell_type": "markdown",
      "metadata": {
        "id": "Y41PlI2KkklD",
        "colab_type": "text"
      },
      "source": [
        "Now that I've saved the language model, I can go back and try different values for `cyc_len`."
      ]
    },
    {
      "cell_type": "code",
      "metadata": {
        "id": "uIbTu0gGawlR",
        "colab_type": "code",
        "colab": {
          "base_uri": "https://localhost:8080/",
          "height": 328
        },
        "outputId": "dd148d09-79fd-462b-bb1d-4945c408944c"
      },
      "source": [
        "lm.unfreeze()\n",
        "lm.fit_one_cycle(9, init_lr * 0.1, moms=(0.8, 0.7))\n",
        "lm.save('4_airline_lm')\n",
        "lm.save_encoder('4_airline_lm_enc')"
      ],
      "execution_count": 15,
      "outputs": [
        {
          "output_type": "display_data",
          "data": {
            "text/html": [
              "<table border=\"1\" class=\"dataframe\">\n",
              "  <thead>\n",
              "    <tr style=\"text-align: left;\">\n",
              "      <th>epoch</th>\n",
              "      <th>train_loss</th>\n",
              "      <th>valid_loss</th>\n",
              "      <th>accuracy</th>\n",
              "      <th>time</th>\n",
              "    </tr>\n",
              "  </thead>\n",
              "  <tbody>\n",
              "    <tr>\n",
              "      <td>0</td>\n",
              "      <td>3.912562</td>\n",
              "      <td>3.832811</td>\n",
              "      <td>0.275140</td>\n",
              "      <td>00:08</td>\n",
              "    </tr>\n",
              "    <tr>\n",
              "      <td>1</td>\n",
              "      <td>3.781224</td>\n",
              "      <td>3.718559</td>\n",
              "      <td>0.285658</td>\n",
              "      <td>00:08</td>\n",
              "    </tr>\n",
              "    <tr>\n",
              "      <td>2</td>\n",
              "      <td>3.604027</td>\n",
              "      <td>3.642164</td>\n",
              "      <td>0.294224</td>\n",
              "      <td>00:08</td>\n",
              "    </tr>\n",
              "    <tr>\n",
              "      <td>3</td>\n",
              "      <td>3.386906</td>\n",
              "      <td>3.611799</td>\n",
              "      <td>0.300279</td>\n",
              "      <td>00:08</td>\n",
              "    </tr>\n",
              "    <tr>\n",
              "      <td>4</td>\n",
              "      <td>3.145127</td>\n",
              "      <td>3.634999</td>\n",
              "      <td>0.298270</td>\n",
              "      <td>00:08</td>\n",
              "    </tr>\n",
              "    <tr>\n",
              "      <td>5</td>\n",
              "      <td>2.880538</td>\n",
              "      <td>3.703717</td>\n",
              "      <td>0.294085</td>\n",
              "      <td>00:08</td>\n",
              "    </tr>\n",
              "    <tr>\n",
              "      <td>6</td>\n",
              "      <td>2.650578</td>\n",
              "      <td>3.764342</td>\n",
              "      <td>0.292383</td>\n",
              "      <td>00:08</td>\n",
              "    </tr>\n",
              "    <tr>\n",
              "      <td>7</td>\n",
              "      <td>2.474779</td>\n",
              "      <td>3.812499</td>\n",
              "      <td>0.291546</td>\n",
              "      <td>00:08</td>\n",
              "    </tr>\n",
              "    <tr>\n",
              "      <td>8</td>\n",
              "      <td>2.384050</td>\n",
              "      <td>3.828013</td>\n",
              "      <td>0.290374</td>\n",
              "      <td>00:08</td>\n",
              "    </tr>\n",
              "  </tbody>\n",
              "</table>"
            ],
            "text/plain": [
              "<IPython.core.display.HTML object>"
            ]
          },
          "metadata": {
            "tags": []
          }
        }
      ]
    },
    {
      "cell_type": "code",
      "metadata": {
        "id": "I5iI-XbkhLkc",
        "colab_type": "code",
        "colab": {
          "base_uri": "https://localhost:8080/",
          "height": 122
        },
        "outputId": "3bd3f15d-b039-4836-9e4a-166fae49a1ce"
      },
      "source": [
        "text = \"My flight was cancelled due\"\n",
        "n_words = 40\n",
        "n_sentences = 5\n",
        "print(\"\\n\".join(lm.predict(text, n_words, temperature=0.8) for _ in range(n_sentences)))"
      ],
      "execution_count": 18,
      "outputs": [
        {
          "output_type": "stream",
          "text": [
            "My flight was cancelled due to weather , but i would be on another flight to DFW tonight . xxbos @jetblue i 'd like to hear another thing about my flight from ORD but i was not told it was Late\n",
            "My flight was cancelled due to delays , but what is happening ? Been trying to get home for over an hour and no help xxbos @united You 're on top of that . i will be calling to apologize for the delay\n",
            "My flight was cancelled due to weather . WTF is happening . Can you help ? There are Cancelled Flights . Either . xxbos @jetblue Thanks for the help ! Just wanted to see where you 're\n",
            "My flight was cancelled due to delay with US Airways . The same one that booked me on Delta at tomorrow . xxbos @southwestair i would like a refund for my flight that landed 2 days ago . It 's\n",
            "My flight was cancelled due to your need to change it - it landed in IAD . i 'm not happy with my pay . xxbos @americanair Thanks for the customer service advise . It is much appreciated . xxbos @southwestair and\n"
          ],
          "name": "stdout"
        }
      ]
    },
    {
      "cell_type": "markdown",
      "metadata": {
        "id": "6v9kK8gklEx2",
        "colab_type": "text"
      },
      "source": [
        "These seem to capture the frustration of travelers - complaints about poor customer service rep communications, no help, wanting refunds. Some strangeness, but at a cursory glance it looks like normal customer service flight tweets"
      ]
    },
    {
      "cell_type": "markdown",
      "metadata": {
        "id": "SD5l5ktUhWae",
        "colab_type": "text"
      },
      "source": [
        "# Train classifier using airline data only"
      ]
    },
    {
      "cell_type": "code",
      "metadata": {
        "id": "R30F0uINhahy",
        "colab_type": "code",
        "colab": {
          "base_uri": "https://localhost:8080/",
          "height": 289
        },
        "outputId": "516a3bba-2f0d-4779-c501-12e8e41e569c"
      },
      "source": [
        "cls_data = (\n",
        "    TextList\n",
        "    .from_csv(data_path, 'filtered_train.csv', cols='text')\n",
        "    .split_by_rand_pct(0.1, seed=seed)\n",
        "    .label_from_df(cols=0)\n",
        "    .databunch(bs=bs)\n",
        ")\n",
        "cls_data.save('cls_data_1.pkl')"
      ],
      "execution_count": 24,
      "outputs": [
        {
          "output_type": "display_data",
          "data": {
            "text/html": [
              ""
            ],
            "text/plain": [
              "<IPython.core.display.HTML object>"
            ]
          },
          "metadata": {
            "tags": []
          }
        },
        {
          "output_type": "display_data",
          "data": {
            "text/html": [
              ""
            ],
            "text/plain": [
              "<IPython.core.display.HTML object>"
            ]
          },
          "metadata": {
            "tags": []
          }
        },
        {
          "output_type": "display_data",
          "data": {
            "text/html": [
              "<table border=\"1\" class=\"dataframe\">\n",
              "  <thead>\n",
              "    <tr style=\"text-align: right;\">\n",
              "      <th>text</th>\n",
              "      <th>target</th>\n",
              "    </tr>\n",
              "  </thead>\n",
              "  <tbody>\n",
              "    <tr>\n",
              "      <td>xxbos @united xxmaj hi have a question re future xxmaj flight xxmaj booking xxmaj problems . xxup dub - xxup jac 29 / 9 xxup jac - xxup lax 8 / 10 xxup lax - xxup dub 13 / 10 . i 'm * xxup xxunk xxmaj what is checked bag allowance for xxup jac - xxup lax ?</td>\n",
              "      <td>neutral</td>\n",
              "    </tr>\n",
              "    <tr>\n",
              "      <td>xxbos @jetblue xxmaj flight 136 departs xxunk xxup am xxmaj finally ! ! ! xxmaj arrived xxup jfk with no xxunk at xxunk xxup pm . xxmaj that 's a long flight . xxup aka xxup bus http : / / t.co / xxunk</td>\n",
              "      <td>negative</td>\n",
              "    </tr>\n",
              "    <tr>\n",
              "      <td>xxbos @southwestair xxmaj thx xxmaj xxunk xxmaj agt xxmaj xxunk xxmaj xxunk n xxmaj flight xxmaj xxunk . xxmaj xxunk @ xxup den xxmaj airport . xxmaj held flight 1027 n even saved seat 4 xxmaj bus xxmaj select # xxunk !</td>\n",
              "      <td>positive</td>\n",
              "    </tr>\n",
              "    <tr>\n",
              "      <td>xxbos @usairways xxmaj flight 830 xxup clt to xxmaj phl . i was 1st on list . xxmaj someone else got spot . xxmaj rude employee in coach . xxmaj xxunk give xxup id . xxmaj said he was cute red head</td>\n",
              "      <td>negative</td>\n",
              "    </tr>\n",
              "    <tr>\n",
              "      <td>xxbos @americanair xxmaj what happens when you combine xxmaj top xxmaj xxunk &amp; &amp; the beauty of xxmaj san xxmaj xxunk de xxmaj xxunk . xxmaj my xxmaj late xxmaj flightst food blog . http : / / t.co / xxunk</td>\n",
              "      <td>neutral</td>\n",
              "    </tr>\n",
              "  </tbody>\n",
              "</table>"
            ],
            "text/plain": [
              "<IPython.core.display.HTML object>"
            ]
          },
          "metadata": {
            "tags": []
          }
        }
      ]
    },
    {
      "cell_type": "markdown",
      "metadata": {
        "id": "OQv0he_4lfBV",
        "colab_type": "text"
      },
      "source": [
        "Load the LM encoder, this will be used to create embeddings for the classifier. `drop_mult=0.5` taken from the fast.ai text tutorial"
      ]
    },
    {
      "cell_type": "code",
      "metadata": {
        "id": "7IODAdOWiW1a",
        "colab_type": "code",
        "colab": {}
      },
      "source": [
        "cls = text_classifier_learner(cls_data, AWD_LSTM, drop_mult=0.5)\n",
        "cls.load_encoder('4_airline_lm_enc')"
      ],
      "execution_count": null,
      "outputs": []
    },
    {
      "cell_type": "code",
      "metadata": {
        "id": "Bo4nNi9Bilek",
        "colab_type": "code",
        "colab": {
          "base_uri": "https://localhost:8080/",
          "height": 374
        },
        "outputId": "2df1d369-a809-49d6-851b-0cf3035d4be1"
      },
      "source": [
        "cls.lr_find()\n",
        "cls.recorder.plot()"
      ],
      "execution_count": 27,
      "outputs": [
        {
          "output_type": "display_data",
          "data": {
            "text/html": [
              "\n",
              "    <div>\n",
              "        <style>\n",
              "            /* Turns off some styling */\n",
              "            progress {\n",
              "                /* gets rid of default border in Firefox and Opera. */\n",
              "                border: none;\n",
              "                /* Needs to be in here for Safari polyfill so background images work as expected. */\n",
              "                background-size: auto;\n",
              "            }\n",
              "            .progress-bar-interrupted, .progress-bar-interrupted::-webkit-progress-bar {\n",
              "                background: #F44336;\n",
              "            }\n",
              "        </style>\n",
              "      <progress value='0' class='' max='1' style='width:300px; height:20px; vertical-align: middle;'></progress>\n",
              "      0.00% [0/1 00:00<00:00]\n",
              "    </div>\n",
              "    \n",
              "<table border=\"1\" class=\"dataframe\">\n",
              "  <thead>\n",
              "    <tr style=\"text-align: left;\">\n",
              "      <th>epoch</th>\n",
              "      <th>train_loss</th>\n",
              "      <th>valid_loss</th>\n",
              "      <th>accuracy</th>\n",
              "      <th>time</th>\n",
              "    </tr>\n",
              "  </thead>\n",
              "  <tbody>\n",
              "  </tbody>\n",
              "</table><p>\n",
              "\n",
              "    <div>\n",
              "        <style>\n",
              "            /* Turns off some styling */\n",
              "            progress {\n",
              "                /* gets rid of default border in Firefox and Opera. */\n",
              "                border: none;\n",
              "                /* Needs to be in here for Safari polyfill so background images work as expected. */\n",
              "                background-size: auto;\n",
              "            }\n",
              "            .progress-bar-interrupted, .progress-bar-interrupted::-webkit-progress-bar {\n",
              "                background: #F44336;\n",
              "            }\n",
              "        </style>\n",
              "      <progress value='90' class='' max='494' style='width:300px; height:20px; vertical-align: middle;'></progress>\n",
              "      18.22% [90/494 00:01<00:07 1.2664]\n",
              "    </div>\n",
              "    "
            ],
            "text/plain": [
              "<IPython.core.display.HTML object>"
            ]
          },
          "metadata": {
            "tags": []
          }
        },
        {
          "output_type": "stream",
          "text": [
            "LR Finder is complete, type {learner_name}.recorder.plot() to see the graph.\n"
          ],
          "name": "stdout"
        },
        {
          "output_type": "display_data",
          "data": {
            "image/png": "[encoded data removed]",
            "text/plain": [
              "<Figure size 432x288 with 1 Axes>"
            ]
          },
          "metadata": {
            "tags": [],
            "needs_background": "light"
          }
        }
      ]
    },
    {
      "cell_type": "markdown",
      "metadata": {
        "id": "vy7PoHAFlvA5",
        "colab_type": "text"
      },
      "source": [
        "A little choppier, I'll use `2e-2` to not risk getting caught in that local min at `1.5e-2`."
      ]
    },
    {
      "cell_type": "code",
      "metadata": {
        "id": "rAg-iCTdivZz",
        "colab_type": "code",
        "colab": {
          "base_uri": "https://localhost:8080/",
          "height": 80
        },
        "outputId": "6d45786a-e7d2-4ca1-ab74-10682bd0e947"
      },
      "source": [
        "init_cls_lr = 2e-02\n",
        "cls.fit_one_cycle(1, init_cls_lr, moms=(0.8, 0.7))\n",
        "cls.save('1_cls')"
      ],
      "execution_count": 28,
      "outputs": [
        {
          "output_type": "display_data",
          "data": {
            "text/html": [
              "<table border=\"1\" class=\"dataframe\">\n",
              "  <thead>\n",
              "    <tr style=\"text-align: left;\">\n",
              "      <th>epoch</th>\n",
              "      <th>train_loss</th>\n",
              "      <th>valid_loss</th>\n",
              "      <th>accuracy</th>\n",
              "      <th>time</th>\n",
              "    </tr>\n",
              "  </thead>\n",
              "  <tbody>\n",
              "    <tr>\n",
              "      <td>0</td>\n",
              "      <td>0.645560</td>\n",
              "      <td>0.579928</td>\n",
              "      <td>0.760820</td>\n",
              "      <td>00:07</td>\n",
              "    </tr>\n",
              "  </tbody>\n",
              "</table>"
            ],
            "text/plain": [
              "<IPython.core.display.HTML object>"
            ]
          },
          "metadata": {
            "tags": []
          }
        }
      ]
    },
    {
      "cell_type": "markdown",
      "metadata": {
        "id": "aHa2rRiR-5-D",
        "colab_type": "text"
      },
      "source": [
        "To prevent catastrophic forgetting, we freeze all but the last couple of layers"
      ]
    },
    {
      "cell_type": "code",
      "metadata": {
        "id": "zLnb6FCtjAPu",
        "colab_type": "code",
        "colab": {
          "base_uri": "https://localhost:8080/",
          "height": 80
        },
        "outputId": "330d32dc-fbb8-4555-98b2-58699b25a6ab"
      },
      "source": [
        "cls.freeze_to(-2)\n",
        "# 2.6**4 is a magic number for determining the minimum learning rate. Derived from\n",
        "# https://course.fast.ai/videos/?lesson=4 @ 33:45\n",
        "cls.fit_one_cycle(1, slice(init_cls_lr/(2.6**4), init_cls_lr), moms=(0.8,0.7))\n",
        "cls.save('2_cls')"
      ],
      "execution_count": 29,
      "outputs": [
        {
          "output_type": "display_data",
          "data": {
            "text/html": [
              "<table border=\"1\" class=\"dataframe\">\n",
              "  <thead>\n",
              "    <tr style=\"text-align: left;\">\n",
              "      <th>epoch</th>\n",
              "      <th>train_loss</th>\n",
              "      <th>valid_loss</th>\n",
              "      <th>accuracy</th>\n",
              "      <th>time</th>\n",
              "    </tr>\n",
              "  </thead>\n",
              "  <tbody>\n",
              "    <tr>\n",
              "      <td>0</td>\n",
              "      <td>0.656810</td>\n",
              "      <td>0.509612</td>\n",
              "      <td>0.798026</td>\n",
              "      <td>00:09</td>\n",
              "    </tr>\n",
              "  </tbody>\n",
              "</table>"
            ],
            "text/plain": [
              "<IPython.core.display.HTML object>"
            ]
          },
          "metadata": {
            "tags": []
          }
        }
      ]
    },
    {
      "cell_type": "markdown",
      "metadata": {
        "id": "dB1PvnZKqwmb",
        "colab_type": "text"
      },
      "source": [
        "Following the pattern from the ULMFiT paper, we now decrease the max (and min) learning rates before continuing to train on more unfrozen layers."
      ]
    },
    {
      "cell_type": "code",
      "metadata": {
        "id": "77RIMc_DjkXL",
        "colab_type": "code",
        "colab": {
          "base_uri": "https://localhost:8080/",
          "height": 80
        },
        "outputId": "90decd2c-eaf6-41c4-fe40-bd08420cdb2b"
      },
      "source": [
        "cls.freeze_to(-3)\n",
        "new_cls_lr = init_cls_lr * 0.1\n",
        "cls.fit_one_cycle(1, slice(new_cls_lr / (2.6**4), new_cls_lr), moms=(0.8, 0.7))\n",
        "cls.save('3_cls')"
      ],
      "execution_count": 30,
      "outputs": [
        {
          "output_type": "display_data",
          "data": {
            "text/html": [
              "<table border=\"1\" class=\"dataframe\">\n",
              "  <thead>\n",
              "    <tr style=\"text-align: left;\">\n",
              "      <th>epoch</th>\n",
              "      <th>train_loss</th>\n",
              "      <th>valid_loss</th>\n",
              "      <th>accuracy</th>\n",
              "      <th>time</th>\n",
              "    </tr>\n",
              "  </thead>\n",
              "  <tbody>\n",
              "    <tr>\n",
              "      <td>0</td>\n",
              "      <td>0.550247</td>\n",
              "      <td>0.491732</td>\n",
              "      <td>0.799544</td>\n",
              "      <td>00:13</td>\n",
              "    </tr>\n",
              "  </tbody>\n",
              "</table>"
            ],
            "text/plain": [
              "<IPython.core.display.HTML object>"
            ]
          },
          "metadata": {
            "tags": []
          }
        }
      ]
    },
    {
      "cell_type": "code",
      "metadata": {
        "id": "3l_1Bbndj15g",
        "colab_type": "code",
        "colab": {
          "base_uri": "https://localhost:8080/",
          "height": 204
        },
        "outputId": "3de933e5-d4af-4d18-a368-0fb74e7f4217"
      },
      "source": [
        "cls.unfreeze()\n",
        "cls.fit_one_cycle(5, slice(new_cls_lr / (2.6**4), new_cls_lr), moms=(0.8,0.7))\n",
        "cls.save('4_cls')"
      ],
      "execution_count": 31,
      "outputs": [
        {
          "output_type": "display_data",
          "data": {
            "text/html": [
              "<table border=\"1\" class=\"dataframe\">\n",
              "  <thead>\n",
              "    <tr style=\"text-align: left;\">\n",
              "      <th>epoch</th>\n",
              "      <th>train_loss</th>\n",
              "      <th>valid_loss</th>\n",
              "      <th>accuracy</th>\n",
              "      <th>time</th>\n",
              "    </tr>\n",
              "  </thead>\n",
              "  <tbody>\n",
              "    <tr>\n",
              "      <td>0</td>\n",
              "      <td>0.482816</td>\n",
              "      <td>0.464720</td>\n",
              "      <td>0.812453</td>\n",
              "      <td>00:18</td>\n",
              "    </tr>\n",
              "    <tr>\n",
              "      <td>1</td>\n",
              "      <td>0.484962</td>\n",
              "      <td>0.444879</td>\n",
              "      <td>0.826879</td>\n",
              "      <td>00:17</td>\n",
              "    </tr>\n",
              "    <tr>\n",
              "      <td>2</td>\n",
              "      <td>0.375953</td>\n",
              "      <td>0.449954</td>\n",
              "      <td>0.823842</td>\n",
              "      <td>00:18</td>\n",
              "    </tr>\n",
              "    <tr>\n",
              "      <td>3</td>\n",
              "      <td>0.330940</td>\n",
              "      <td>0.477836</td>\n",
              "      <td>0.833713</td>\n",
              "      <td>00:17</td>\n",
              "    </tr>\n",
              "    <tr>\n",
              "      <td>4</td>\n",
              "      <td>0.250947</td>\n",
              "      <td>0.474550</td>\n",
              "      <td>0.825361</td>\n",
              "      <td>00:18</td>\n",
              "    </tr>\n",
              "  </tbody>\n",
              "</table>"
            ],
            "text/plain": [
              "<IPython.core.display.HTML object>"
            ]
          },
          "metadata": {
            "tags": []
          }
        }
      ]
    },
    {
      "cell_type": "markdown",
      "metadata": {
        "id": "284BEbE5l8aK",
        "colab_type": "text"
      },
      "source": [
        "After many different runthroughs of different `cyc_len`s for each of these stages (resetting each time), this looks like great validation performance."
      ]
    },
    {
      "cell_type": "code",
      "metadata": {
        "id": "Xcz8hMNPkaAz",
        "colab_type": "code",
        "colab": {}
      },
      "source": [
        "cls.export('golden_cls')"
      ],
      "execution_count": 32,
      "outputs": []
    },
    {
      "cell_type": "code",
      "metadata": {
        "id": "7LpfCKPa_buu",
        "colab_type": "code",
        "colab": {
          "base_uri": "https://localhost:8080/",
          "height": 34
        },
        "outputId": "00905a98-fac8-4ea6-9f8d-622845eb68cb"
      },
      "source": [
        "cls.predict(\"Your customer service is awful, you should be ashamed of yourselves. Never flying again\")"
      ],
      "execution_count": null,
      "outputs": [
        {
          "output_type": "execute_result",
          "data": {
            "text/plain": [
              "(Category tensor(0), tensor(0), tensor([0.9073, 0.0122, 0.0805]))"
            ]
          },
          "metadata": {
            "tags": []
          },
          "execution_count": 8
        }
      ]
    },
    {
      "cell_type": "code",
      "metadata": {
        "id": "94wSFjSN_kdI",
        "colab_type": "code",
        "colab": {
          "base_uri": "https://localhost:8080/",
          "height": 34
        },
        "outputId": "42e1ba81-f55d-4f97-fb39-c42d6c499d49"
      },
      "source": [
        "cls.predict(\"Thank you very much for helping me. I'm definitely flying with you again!\")"
      ],
      "execution_count": null,
      "outputs": [
        {
          "output_type": "execute_result",
          "data": {
            "text/plain": [
              "(Category tensor(2), tensor(2), tensor([8.2608e-03, 8.9163e-04, 9.9085e-01]))"
            ]
          },
          "metadata": {
            "tags": []
          },
          "execution_count": 40
        }
      ]
    },
    {
      "cell_type": "code",
      "metadata": {
        "id": "q9aDD5dhPQ04",
        "colab_type": "code",
        "colab": {
          "base_uri": "https://localhost:8080/",
          "height": 34
        },
        "outputId": "409630c5-413e-4d65-da99-d34cef846301"
      },
      "source": [
        "cls.predict(\"Stuck in line for an hour. I can't believe the customer service\")"
      ],
      "execution_count": null,
      "outputs": [
        {
          "output_type": "execute_result",
          "data": {
            "text/plain": [
              "(Category tensor(0), tensor(0), tensor([0.9547, 0.0298, 0.0155]))"
            ]
          },
          "metadata": {
            "tags": []
          },
          "execution_count": 36
        }
      ]
    },
    {
      "cell_type": "markdown",
      "metadata": {
        "id": "gGaHjmY1AJN5",
        "colab_type": "text"
      },
      "source": [
        "## See [this notebook](https://colab.research.google.com/drive/1P7-Om6yWwzliZUIepo7ftuRrYAkEGeDr) to learn how well this model performed on the test set"
      ]
    }
  ]
}